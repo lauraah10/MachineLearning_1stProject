{
 "cells": [
  {
   "cell_type": "markdown",
   "id": "1c2f7be9",
   "metadata": {},
   "source": [
    "# Lab Two: Classification\n",
    "##### Laura Ahumada, Shikha Pandey, Kevin Boyd, Duy Nguyen"
   ]
  },
  {
   "cell_type": "markdown",
   "id": "c1f394fb",
   "metadata": {},
   "source": [
    "### Libraries"
   ]
  },
  {
   "cell_type": "code",
   "execution_count": 838,
   "id": "eaac6f9f",
   "metadata": {},
   "outputs": [],
   "source": [
    "import pandas as pd\n",
    "import seaborn as sns\n",
    "import numpy as np\n",
    "from sklearn.model_selection import train_test_split, cross_val_score\n",
    "from sklearn.linear_model import LogisticRegression\n",
    "import statsmodels.api as sm\n",
    "from sklearn.metrics import roc_auc_score\n",
    "from sklearn.metrics import roc_curve\n",
    "\n",
    "\n",
    "from sklearn.preprocessing import StandardScaler\n",
    "from sklearn.decomposition import PCA\n",
    "\n",
    "from sklearn import metrics as mt\n",
    "import matplotlib.pyplot as plt\n",
    "from sklearn.svm import SVC"
   ]
  },
  {
   "cell_type": "markdown",
   "id": "7852f236",
   "metadata": {},
   "source": [
    "### Import Data"
   ]
  },
  {
   "cell_type": "code",
   "execution_count": 839,
   "id": "7088a41f",
   "metadata": {},
   "outputs": [],
   "source": [
    "df = pd.read_csv('adult.csv')"
   ]
  },
  {
   "cell_type": "code",
   "execution_count": 840,
   "id": "c0ff3870",
   "metadata": {
    "scrolled": true
   },
   "outputs": [
    {
     "data": {
      "text/html": [
       "<div>\n",
       "<style scoped>\n",
       "    .dataframe tbody tr th:only-of-type {\n",
       "        vertical-align: middle;\n",
       "    }\n",
       "\n",
       "    .dataframe tbody tr th {\n",
       "        vertical-align: top;\n",
       "    }\n",
       "\n",
       "    .dataframe thead th {\n",
       "        text-align: right;\n",
       "    }\n",
       "</style>\n",
       "<table border=\"1\" class=\"dataframe\">\n",
       "  <thead>\n",
       "    <tr style=\"text-align: right;\">\n",
       "      <th></th>\n",
       "      <th>age</th>\n",
       "      <th>workclass</th>\n",
       "      <th>fnlwgt</th>\n",
       "      <th>education</th>\n",
       "      <th>education.num</th>\n",
       "      <th>marital.status</th>\n",
       "      <th>occupation</th>\n",
       "      <th>relationship</th>\n",
       "      <th>race</th>\n",
       "      <th>sex</th>\n",
       "      <th>capital.gain</th>\n",
       "      <th>capital.loss</th>\n",
       "      <th>hours.per.week</th>\n",
       "      <th>native.country</th>\n",
       "      <th>income</th>\n",
       "    </tr>\n",
       "  </thead>\n",
       "  <tbody>\n",
       "    <tr>\n",
       "      <th>0</th>\n",
       "      <td>90</td>\n",
       "      <td>?</td>\n",
       "      <td>77053</td>\n",
       "      <td>HS-grad</td>\n",
       "      <td>9</td>\n",
       "      <td>Widowed</td>\n",
       "      <td>?</td>\n",
       "      <td>Not-in-family</td>\n",
       "      <td>White</td>\n",
       "      <td>Female</td>\n",
       "      <td>0</td>\n",
       "      <td>4356</td>\n",
       "      <td>40</td>\n",
       "      <td>United-States</td>\n",
       "      <td>&lt;=50K</td>\n",
       "    </tr>\n",
       "    <tr>\n",
       "      <th>1</th>\n",
       "      <td>82</td>\n",
       "      <td>Private</td>\n",
       "      <td>132870</td>\n",
       "      <td>HS-grad</td>\n",
       "      <td>9</td>\n",
       "      <td>Widowed</td>\n",
       "      <td>Exec-managerial</td>\n",
       "      <td>Not-in-family</td>\n",
       "      <td>White</td>\n",
       "      <td>Female</td>\n",
       "      <td>0</td>\n",
       "      <td>4356</td>\n",
       "      <td>18</td>\n",
       "      <td>United-States</td>\n",
       "      <td>&lt;=50K</td>\n",
       "    </tr>\n",
       "    <tr>\n",
       "      <th>2</th>\n",
       "      <td>66</td>\n",
       "      <td>?</td>\n",
       "      <td>186061</td>\n",
       "      <td>Some-college</td>\n",
       "      <td>10</td>\n",
       "      <td>Widowed</td>\n",
       "      <td>?</td>\n",
       "      <td>Unmarried</td>\n",
       "      <td>Black</td>\n",
       "      <td>Female</td>\n",
       "      <td>0</td>\n",
       "      <td>4356</td>\n",
       "      <td>40</td>\n",
       "      <td>United-States</td>\n",
       "      <td>&lt;=50K</td>\n",
       "    </tr>\n",
       "    <tr>\n",
       "      <th>3</th>\n",
       "      <td>54</td>\n",
       "      <td>Private</td>\n",
       "      <td>140359</td>\n",
       "      <td>7th-8th</td>\n",
       "      <td>4</td>\n",
       "      <td>Divorced</td>\n",
       "      <td>Machine-op-inspct</td>\n",
       "      <td>Unmarried</td>\n",
       "      <td>White</td>\n",
       "      <td>Female</td>\n",
       "      <td>0</td>\n",
       "      <td>3900</td>\n",
       "      <td>40</td>\n",
       "      <td>United-States</td>\n",
       "      <td>&lt;=50K</td>\n",
       "    </tr>\n",
       "    <tr>\n",
       "      <th>4</th>\n",
       "      <td>41</td>\n",
       "      <td>Private</td>\n",
       "      <td>264663</td>\n",
       "      <td>Some-college</td>\n",
       "      <td>10</td>\n",
       "      <td>Separated</td>\n",
       "      <td>Prof-specialty</td>\n",
       "      <td>Own-child</td>\n",
       "      <td>White</td>\n",
       "      <td>Female</td>\n",
       "      <td>0</td>\n",
       "      <td>3900</td>\n",
       "      <td>40</td>\n",
       "      <td>United-States</td>\n",
       "      <td>&lt;=50K</td>\n",
       "    </tr>\n",
       "    <tr>\n",
       "      <th>...</th>\n",
       "      <td>...</td>\n",
       "      <td>...</td>\n",
       "      <td>...</td>\n",
       "      <td>...</td>\n",
       "      <td>...</td>\n",
       "      <td>...</td>\n",
       "      <td>...</td>\n",
       "      <td>...</td>\n",
       "      <td>...</td>\n",
       "      <td>...</td>\n",
       "      <td>...</td>\n",
       "      <td>...</td>\n",
       "      <td>...</td>\n",
       "      <td>...</td>\n",
       "      <td>...</td>\n",
       "    </tr>\n",
       "    <tr>\n",
       "      <th>32556</th>\n",
       "      <td>22</td>\n",
       "      <td>Private</td>\n",
       "      <td>310152</td>\n",
       "      <td>Some-college</td>\n",
       "      <td>10</td>\n",
       "      <td>Never-married</td>\n",
       "      <td>Protective-serv</td>\n",
       "      <td>Not-in-family</td>\n",
       "      <td>White</td>\n",
       "      <td>Male</td>\n",
       "      <td>0</td>\n",
       "      <td>0</td>\n",
       "      <td>40</td>\n",
       "      <td>United-States</td>\n",
       "      <td>&lt;=50K</td>\n",
       "    </tr>\n",
       "    <tr>\n",
       "      <th>32557</th>\n",
       "      <td>27</td>\n",
       "      <td>Private</td>\n",
       "      <td>257302</td>\n",
       "      <td>Assoc-acdm</td>\n",
       "      <td>12</td>\n",
       "      <td>Married-civ-spouse</td>\n",
       "      <td>Tech-support</td>\n",
       "      <td>Wife</td>\n",
       "      <td>White</td>\n",
       "      <td>Female</td>\n",
       "      <td>0</td>\n",
       "      <td>0</td>\n",
       "      <td>38</td>\n",
       "      <td>United-States</td>\n",
       "      <td>&lt;=50K</td>\n",
       "    </tr>\n",
       "    <tr>\n",
       "      <th>32558</th>\n",
       "      <td>40</td>\n",
       "      <td>Private</td>\n",
       "      <td>154374</td>\n",
       "      <td>HS-grad</td>\n",
       "      <td>9</td>\n",
       "      <td>Married-civ-spouse</td>\n",
       "      <td>Machine-op-inspct</td>\n",
       "      <td>Husband</td>\n",
       "      <td>White</td>\n",
       "      <td>Male</td>\n",
       "      <td>0</td>\n",
       "      <td>0</td>\n",
       "      <td>40</td>\n",
       "      <td>United-States</td>\n",
       "      <td>&gt;50K</td>\n",
       "    </tr>\n",
       "    <tr>\n",
       "      <th>32559</th>\n",
       "      <td>58</td>\n",
       "      <td>Private</td>\n",
       "      <td>151910</td>\n",
       "      <td>HS-grad</td>\n",
       "      <td>9</td>\n",
       "      <td>Widowed</td>\n",
       "      <td>Adm-clerical</td>\n",
       "      <td>Unmarried</td>\n",
       "      <td>White</td>\n",
       "      <td>Female</td>\n",
       "      <td>0</td>\n",
       "      <td>0</td>\n",
       "      <td>40</td>\n",
       "      <td>United-States</td>\n",
       "      <td>&lt;=50K</td>\n",
       "    </tr>\n",
       "    <tr>\n",
       "      <th>32560</th>\n",
       "      <td>22</td>\n",
       "      <td>Private</td>\n",
       "      <td>201490</td>\n",
       "      <td>HS-grad</td>\n",
       "      <td>9</td>\n",
       "      <td>Never-married</td>\n",
       "      <td>Adm-clerical</td>\n",
       "      <td>Own-child</td>\n",
       "      <td>White</td>\n",
       "      <td>Male</td>\n",
       "      <td>0</td>\n",
       "      <td>0</td>\n",
       "      <td>20</td>\n",
       "      <td>United-States</td>\n",
       "      <td>&lt;=50K</td>\n",
       "    </tr>\n",
       "  </tbody>\n",
       "</table>\n",
       "<p>32561 rows × 15 columns</p>\n",
       "</div>"
      ],
      "text/plain": [
       "       age workclass  fnlwgt     education  education.num      marital.status  \\\n",
       "0       90         ?   77053       HS-grad              9             Widowed   \n",
       "1       82   Private  132870       HS-grad              9             Widowed   \n",
       "2       66         ?  186061  Some-college             10             Widowed   \n",
       "3       54   Private  140359       7th-8th              4            Divorced   \n",
       "4       41   Private  264663  Some-college             10           Separated   \n",
       "...    ...       ...     ...           ...            ...                 ...   \n",
       "32556   22   Private  310152  Some-college             10       Never-married   \n",
       "32557   27   Private  257302    Assoc-acdm             12  Married-civ-spouse   \n",
       "32558   40   Private  154374       HS-grad              9  Married-civ-spouse   \n",
       "32559   58   Private  151910       HS-grad              9             Widowed   \n",
       "32560   22   Private  201490       HS-grad              9       Never-married   \n",
       "\n",
       "              occupation   relationship   race     sex  capital.gain  \\\n",
       "0                      ?  Not-in-family  White  Female             0   \n",
       "1        Exec-managerial  Not-in-family  White  Female             0   \n",
       "2                      ?      Unmarried  Black  Female             0   \n",
       "3      Machine-op-inspct      Unmarried  White  Female             0   \n",
       "4         Prof-specialty      Own-child  White  Female             0   \n",
       "...                  ...            ...    ...     ...           ...   \n",
       "32556    Protective-serv  Not-in-family  White    Male             0   \n",
       "32557       Tech-support           Wife  White  Female             0   \n",
       "32558  Machine-op-inspct        Husband  White    Male             0   \n",
       "32559       Adm-clerical      Unmarried  White  Female             0   \n",
       "32560       Adm-clerical      Own-child  White    Male             0   \n",
       "\n",
       "       capital.loss  hours.per.week native.country income  \n",
       "0              4356              40  United-States  <=50K  \n",
       "1              4356              18  United-States  <=50K  \n",
       "2              4356              40  United-States  <=50K  \n",
       "3              3900              40  United-States  <=50K  \n",
       "4              3900              40  United-States  <=50K  \n",
       "...             ...             ...            ...    ...  \n",
       "32556             0              40  United-States  <=50K  \n",
       "32557             0              38  United-States  <=50K  \n",
       "32558             0              40  United-States   >50K  \n",
       "32559             0              40  United-States  <=50K  \n",
       "32560             0              20  United-States  <=50K  \n",
       "\n",
       "[32561 rows x 15 columns]"
      ]
     },
     "execution_count": 840,
     "metadata": {},
     "output_type": "execute_result"
    }
   ],
   "source": [
    "df"
   ]
  },
  {
   "cell_type": "markdown",
   "id": "dc99c579",
   "metadata": {},
   "source": [
    "# Data Preparation: Part 1\n",
    "- ##### Define and prepare your class variables. Use proper variable representations (int, float, one-hot, etc.). Use pre-processing methods (as needed) for dimensionality reduction, scaling, etc. Remove variables that are not needed/useful for the analysis."
   ]
  },
  {
   "cell_type": "code",
   "execution_count": 841,
   "id": "240e85b5",
   "metadata": {},
   "outputs": [
    {
     "data": {
      "text/plain": [
       "False"
      ]
     },
     "execution_count": 841,
     "metadata": {},
     "output_type": "execute_result"
    }
   ],
   "source": [
    "df.isnull().values.any()"
   ]
  },
  {
   "cell_type": "code",
   "execution_count": 842,
   "id": "08d7f20a",
   "metadata": {},
   "outputs": [
    {
     "data": {
      "text/plain": [
       "Index(['age', 'workclass', 'fnlwgt', 'education', 'education.num',\n",
       "       'marital.status', 'occupation', 'relationship', 'race', 'sex',\n",
       "       'capital.gain', 'capital.loss', 'hours.per.week', 'native.country',\n",
       "       'income'],\n",
       "      dtype='object')"
      ]
     },
     "execution_count": 842,
     "metadata": {},
     "output_type": "execute_result"
    }
   ],
   "source": [
    "df.columns"
   ]
  },
  {
   "cell_type": "code",
   "execution_count": 843,
   "id": "07fe7015",
   "metadata": {},
   "outputs": [
    {
     "name": "stdout",
     "output_type": "stream",
     "text": [
      "Index(['?', 'Federal-gov', 'Local-gov', 'Never-worked', 'Private',\n",
      "       'Self-emp-inc', 'Self-emp-not-inc', 'State-gov', 'Without-pay'],\n",
      "      dtype='object')\n",
      "Index(['10th', '11th', '12th', '1st-4th', '5th-6th', '7th-8th', '9th',\n",
      "       'Assoc-acdm', 'Assoc-voc', 'Bachelors', 'Doctorate', 'HS-grad',\n",
      "       'Masters', 'Preschool', 'Prof-school', 'Some-college'],\n",
      "      dtype='object')\n",
      "Index(['Divorced', 'Married-AF-spouse', 'Married-civ-spouse',\n",
      "       'Married-spouse-absent', 'Never-married', 'Separated', 'Widowed'],\n",
      "      dtype='object')\n",
      "Index(['?', 'Adm-clerical', 'Armed-Forces', 'Craft-repair', 'Exec-managerial',\n",
      "       'Farming-fishing', 'Handlers-cleaners', 'Machine-op-inspct',\n",
      "       'Other-service', 'Priv-house-serv', 'Prof-specialty', 'Protective-serv',\n",
      "       'Sales', 'Tech-support', 'Transport-moving'],\n",
      "      dtype='object')\n",
      "Index(['Husband', 'Not-in-family', 'Other-relative', 'Own-child', 'Unmarried',\n",
      "       'Wife'],\n",
      "      dtype='object')\n",
      "Index(['Amer-Indian-Eskimo', 'Asian-Pac-Islander', 'Black', 'Other', 'White'], dtype='object')\n",
      "Index(['Female', 'Male'], dtype='object')\n",
      "Index(['?', 'Cambodia', 'Canada', 'China', 'Columbia', 'Cuba',\n",
      "       'Dominican-Republic', 'Ecuador', 'El-Salvador', 'England', 'France',\n",
      "       'Germany', 'Greece', 'Guatemala', 'Haiti', 'Holand-Netherlands',\n",
      "       'Honduras', 'Hong', 'Hungary', 'India', 'Iran', 'Ireland', 'Italy',\n",
      "       'Jamaica', 'Japan', 'Laos', 'Mexico', 'Nicaragua',\n",
      "       'Outlying-US(Guam-USVI-etc)', 'Peru', 'Philippines', 'Poland',\n",
      "       'Portugal', 'Puerto-Rico', 'Scotland', 'South', 'Taiwan', 'Thailand',\n",
      "       'Trinadad&Tobago', 'United-States', 'Vietnam', 'Yugoslavia'],\n",
      "      dtype='object')\n",
      "Index(['<=50K', '>50K'], dtype='object')\n"
     ]
    }
   ],
   "source": [
    "cat_cols = df.select_dtypes(exclude=['int64','int32'])\n",
    "for i in cat_cols:\n",
    "    print(cat_cols[i].value_counts().sort_index().index)"
   ]
  },
  {
   "cell_type": "markdown",
   "id": "2355d58d",
   "metadata": {},
   "source": [
    "### Things to address:\n",
    "- ##### Incorrect values \"?\" values\n",
    "- ##### Decrease categories in native.countries to immigrants or not (1 or 0)\n",
    "- ##### Deleting education since it is the same information as education.num\n",
    "- ##### Encode response variable \"income\" to 1 or 0\n",
    "- ##### Encode all categorical variables to 1 or 0, rather than ranked numbers"
   ]
  },
  {
   "cell_type": "markdown",
   "id": "9ef645e2",
   "metadata": {},
   "source": [
    "Despite the \"?\" values taking around 5% of their respective columns \"workclass\", \"occupation\", \"native.country\", they will not be removed due since it might be due to citizens not wanting to report those 3 things to the government. However, their incomes were still reported among other factors so the missing values will be treated another category \"Unknown\""
   ]
  },
  {
   "cell_type": "code",
   "execution_count": 844,
   "id": "bbae85f2",
   "metadata": {},
   "outputs": [
    {
     "data": {
      "text/plain": [
       "age               0.000000\n",
       "workclass         5.638647\n",
       "fnlwgt            0.000000\n",
       "education         0.000000\n",
       "education.num     0.000000\n",
       "marital.status    0.000000\n",
       "occupation        5.660146\n",
       "relationship      0.000000\n",
       "race              0.000000\n",
       "sex               0.000000\n",
       "capital.gain      0.000000\n",
       "capital.loss      0.000000\n",
       "hours.per.week    0.000000\n",
       "native.country    1.790486\n",
       "income            0.000000\n",
       "dtype: float64"
      ]
     },
     "execution_count": 844,
     "metadata": {},
     "output_type": "execute_result"
    }
   ],
   "source": [
    "df.isin(['?']).sum(axis=0) * 100 / len(df)"
   ]
  },
  {
   "cell_type": "code",
   "execution_count": 845,
   "id": "a6ca33fd",
   "metadata": {},
   "outputs": [],
   "source": [
    "df = df.replace({'?':'Unknown'})"
   ]
  },
  {
   "cell_type": "code",
   "execution_count": 846,
   "id": "95d2d647",
   "metadata": {},
   "outputs": [
    {
     "data": {
      "text/plain": [
       "age               0.0\n",
       "workclass         0.0\n",
       "fnlwgt            0.0\n",
       "education         0.0\n",
       "education.num     0.0\n",
       "marital.status    0.0\n",
       "occupation        0.0\n",
       "relationship      0.0\n",
       "race              0.0\n",
       "sex               0.0\n",
       "capital.gain      0.0\n",
       "capital.loss      0.0\n",
       "hours.per.week    0.0\n",
       "native.country    0.0\n",
       "income            0.0\n",
       "dtype: float64"
      ]
     },
     "execution_count": 846,
     "metadata": {},
     "output_type": "execute_result"
    }
   ],
   "source": [
    "df.isin(['?']).sum(axis=0) * 100 / len(df)"
   ]
  },
  {
   "cell_type": "markdown",
   "id": "a0f55094",
   "metadata": {},
   "source": [
    "- ##### \"Native Country\": Replace Non-US with \"Immigrant\""
   ]
  },
  {
   "cell_type": "code",
   "execution_count": 847,
   "id": "0542f806",
   "metadata": {},
   "outputs": [],
   "source": [
    "# Changing Native Country since the rest of US by country is small that they could all be combined to single to have a greater weight\n",
    "df['IsImmigrant'] = np.where(df['native.country']!= 'United-States', 1, 0)\n",
    "del df['native.country']"
   ]
  },
  {
   "cell_type": "code",
   "execution_count": 848,
   "id": "3cd3d207",
   "metadata": {},
   "outputs": [
    {
     "data": {
      "text/plain": [
       "0    89.585701\n",
       "1    10.414299\n",
       "Name: IsImmigrant, dtype: float64"
      ]
     },
     "execution_count": 848,
     "metadata": {},
     "output_type": "execute_result"
    }
   ],
   "source": [
    "df.IsImmigrant.value_counts(normalize=True) * 100"
   ]
  },
  {
   "cell_type": "code",
   "execution_count": 849,
   "id": "fa151910",
   "metadata": {},
   "outputs": [],
   "source": [
    "# Deleting education\n",
    "del df['education']"
   ]
  },
  {
   "cell_type": "markdown",
   "id": "a316b544",
   "metadata": {},
   "source": [
    "- ##### \"Income\": As 1 and 0 "
   ]
  },
  {
   "cell_type": "code",
   "execution_count": 850,
   "id": "51ccfbca",
   "metadata": {
    "scrolled": true
   },
   "outputs": [
    {
     "data": {
      "text/plain": [
       "<=50K    75.919044\n",
       ">50K     24.080956\n",
       "Name: income, dtype: float64"
      ]
     },
     "execution_count": 850,
     "metadata": {},
     "output_type": "execute_result"
    }
   ],
   "source": [
    "# Checing the target variable distribution\n",
    "df.income.value_counts(normalize=True) * 100"
   ]
  },
  {
   "cell_type": "code",
   "execution_count": 851,
   "id": "15598868",
   "metadata": {},
   "outputs": [],
   "source": [
    "df['income'] = df['income'].map({'<=50K': 0, '>50K': 1}).astype(int) "
   ]
  },
  {
   "cell_type": "code",
   "execution_count": 852,
   "id": "a7f3e523",
   "metadata": {
    "scrolled": true
   },
   "outputs": [
    {
     "data": {
      "text/plain": [
       "0    75.919044\n",
       "1    24.080956\n",
       "Name: income, dtype: float64"
      ]
     },
     "execution_count": 852,
     "metadata": {},
     "output_type": "execute_result"
    }
   ],
   "source": [
    "df.income.value_counts(normalize=True) * 100"
   ]
  },
  {
   "cell_type": "markdown",
   "id": "60fb20a6",
   "metadata": {},
   "source": [
    "- ##### Encoding Categorical Variables "
   ]
  },
  {
   "cell_type": "code",
   "execution_count": 853,
   "id": "25e4b33b",
   "metadata": {
    "scrolled": true
   },
   "outputs": [
    {
     "data": {
      "text/plain": [
       "age                int64\n",
       "workclass         object\n",
       "fnlwgt             int64\n",
       "education.num      int64\n",
       "marital.status    object\n",
       "occupation        object\n",
       "relationship      object\n",
       "race              object\n",
       "sex               object\n",
       "capital.gain       int64\n",
       "capital.loss       int64\n",
       "hours.per.week     int64\n",
       "income             int64\n",
       "IsImmigrant        int64\n",
       "dtype: object"
      ]
     },
     "execution_count": 853,
     "metadata": {},
     "output_type": "execute_result"
    }
   ],
   "source": [
    "df.dtypes"
   ]
  },
  {
   "cell_type": "code",
   "execution_count": 854,
   "id": "faf9ce9a",
   "metadata": {},
   "outputs": [],
   "source": [
    "df_continuous = df.select_dtypes(exclude=['object'])\n",
    "df_discrete = df.select_dtypes(exclude=['int64','int32'])"
   ]
  },
  {
   "cell_type": "code",
   "execution_count": 855,
   "id": "688b3613",
   "metadata": {},
   "outputs": [
    {
     "data": {
      "text/plain": [
       "Index(['age', 'fnlwgt', 'education.num', 'capital.gain', 'capital.loss',\n",
       "       'hours.per.week', 'income', 'IsImmigrant'],\n",
       "      dtype='object')"
      ]
     },
     "execution_count": 855,
     "metadata": {},
     "output_type": "execute_result"
    }
   ],
   "source": [
    "df_continuous.columns"
   ]
  },
  {
   "cell_type": "code",
   "execution_count": 856,
   "id": "cea8747a",
   "metadata": {},
   "outputs": [
    {
     "data": {
      "text/plain": [
       "Index(['workclass', 'marital.status', 'occupation', 'relationship', 'race',\n",
       "       'sex'],\n",
       "      dtype='object')"
      ]
     },
     "execution_count": 856,
     "metadata": {},
     "output_type": "execute_result"
    }
   ],
   "source": [
    "df_discrete.columns"
   ]
  },
  {
   "cell_type": "code",
   "execution_count": 857,
   "id": "b9616e72",
   "metadata": {},
   "outputs": [],
   "source": [
    "df=pd.get_dummies(df, columns=df_discrete.columns)"
   ]
  },
  {
   "cell_type": "code",
   "execution_count": 858,
   "id": "31eab1a0",
   "metadata": {},
   "outputs": [
    {
     "data": {
      "text/html": [
       "<div>\n",
       "<style scoped>\n",
       "    .dataframe tbody tr th:only-of-type {\n",
       "        vertical-align: middle;\n",
       "    }\n",
       "\n",
       "    .dataframe tbody tr th {\n",
       "        vertical-align: top;\n",
       "    }\n",
       "\n",
       "    .dataframe thead th {\n",
       "        text-align: right;\n",
       "    }\n",
       "</style>\n",
       "<table border=\"1\" class=\"dataframe\">\n",
       "  <thead>\n",
       "    <tr style=\"text-align: right;\">\n",
       "      <th></th>\n",
       "      <th>age</th>\n",
       "      <th>fnlwgt</th>\n",
       "      <th>education.num</th>\n",
       "      <th>capital.gain</th>\n",
       "      <th>capital.loss</th>\n",
       "      <th>hours.per.week</th>\n",
       "      <th>income</th>\n",
       "      <th>IsImmigrant</th>\n",
       "      <th>workclass_Federal-gov</th>\n",
       "      <th>workclass_Local-gov</th>\n",
       "      <th>...</th>\n",
       "      <th>relationship_Own-child</th>\n",
       "      <th>relationship_Unmarried</th>\n",
       "      <th>relationship_Wife</th>\n",
       "      <th>race_Amer-Indian-Eskimo</th>\n",
       "      <th>race_Asian-Pac-Islander</th>\n",
       "      <th>race_Black</th>\n",
       "      <th>race_Other</th>\n",
       "      <th>race_White</th>\n",
       "      <th>sex_Female</th>\n",
       "      <th>sex_Male</th>\n",
       "    </tr>\n",
       "  </thead>\n",
       "  <tbody>\n",
       "    <tr>\n",
       "      <th>0</th>\n",
       "      <td>90</td>\n",
       "      <td>77053</td>\n",
       "      <td>9</td>\n",
       "      <td>0</td>\n",
       "      <td>4356</td>\n",
       "      <td>40</td>\n",
       "      <td>0</td>\n",
       "      <td>0</td>\n",
       "      <td>0</td>\n",
       "      <td>0</td>\n",
       "      <td>...</td>\n",
       "      <td>0</td>\n",
       "      <td>0</td>\n",
       "      <td>0</td>\n",
       "      <td>0</td>\n",
       "      <td>0</td>\n",
       "      <td>0</td>\n",
       "      <td>0</td>\n",
       "      <td>1</td>\n",
       "      <td>1</td>\n",
       "      <td>0</td>\n",
       "    </tr>\n",
       "    <tr>\n",
       "      <th>1</th>\n",
       "      <td>82</td>\n",
       "      <td>132870</td>\n",
       "      <td>9</td>\n",
       "      <td>0</td>\n",
       "      <td>4356</td>\n",
       "      <td>18</td>\n",
       "      <td>0</td>\n",
       "      <td>0</td>\n",
       "      <td>0</td>\n",
       "      <td>0</td>\n",
       "      <td>...</td>\n",
       "      <td>0</td>\n",
       "      <td>0</td>\n",
       "      <td>0</td>\n",
       "      <td>0</td>\n",
       "      <td>0</td>\n",
       "      <td>0</td>\n",
       "      <td>0</td>\n",
       "      <td>1</td>\n",
       "      <td>1</td>\n",
       "      <td>0</td>\n",
       "    </tr>\n",
       "    <tr>\n",
       "      <th>2</th>\n",
       "      <td>66</td>\n",
       "      <td>186061</td>\n",
       "      <td>10</td>\n",
       "      <td>0</td>\n",
       "      <td>4356</td>\n",
       "      <td>40</td>\n",
       "      <td>0</td>\n",
       "      <td>0</td>\n",
       "      <td>0</td>\n",
       "      <td>0</td>\n",
       "      <td>...</td>\n",
       "      <td>0</td>\n",
       "      <td>1</td>\n",
       "      <td>0</td>\n",
       "      <td>0</td>\n",
       "      <td>0</td>\n",
       "      <td>1</td>\n",
       "      <td>0</td>\n",
       "      <td>0</td>\n",
       "      <td>1</td>\n",
       "      <td>0</td>\n",
       "    </tr>\n",
       "    <tr>\n",
       "      <th>3</th>\n",
       "      <td>54</td>\n",
       "      <td>140359</td>\n",
       "      <td>4</td>\n",
       "      <td>0</td>\n",
       "      <td>3900</td>\n",
       "      <td>40</td>\n",
       "      <td>0</td>\n",
       "      <td>0</td>\n",
       "      <td>0</td>\n",
       "      <td>0</td>\n",
       "      <td>...</td>\n",
       "      <td>0</td>\n",
       "      <td>1</td>\n",
       "      <td>0</td>\n",
       "      <td>0</td>\n",
       "      <td>0</td>\n",
       "      <td>0</td>\n",
       "      <td>0</td>\n",
       "      <td>1</td>\n",
       "      <td>1</td>\n",
       "      <td>0</td>\n",
       "    </tr>\n",
       "    <tr>\n",
       "      <th>4</th>\n",
       "      <td>41</td>\n",
       "      <td>264663</td>\n",
       "      <td>10</td>\n",
       "      <td>0</td>\n",
       "      <td>3900</td>\n",
       "      <td>40</td>\n",
       "      <td>0</td>\n",
       "      <td>0</td>\n",
       "      <td>0</td>\n",
       "      <td>0</td>\n",
       "      <td>...</td>\n",
       "      <td>1</td>\n",
       "      <td>0</td>\n",
       "      <td>0</td>\n",
       "      <td>0</td>\n",
       "      <td>0</td>\n",
       "      <td>0</td>\n",
       "      <td>0</td>\n",
       "      <td>1</td>\n",
       "      <td>1</td>\n",
       "      <td>0</td>\n",
       "    </tr>\n",
       "  </tbody>\n",
       "</table>\n",
       "<p>5 rows × 52 columns</p>\n",
       "</div>"
      ],
      "text/plain": [
       "   age  fnlwgt  education.num  capital.gain  capital.loss  hours.per.week  \\\n",
       "0   90   77053              9             0          4356              40   \n",
       "1   82  132870              9             0          4356              18   \n",
       "2   66  186061             10             0          4356              40   \n",
       "3   54  140359              4             0          3900              40   \n",
       "4   41  264663             10             0          3900              40   \n",
       "\n",
       "   income  IsImmigrant  workclass_Federal-gov  workclass_Local-gov  ...  \\\n",
       "0       0            0                      0                    0  ...   \n",
       "1       0            0                      0                    0  ...   \n",
       "2       0            0                      0                    0  ...   \n",
       "3       0            0                      0                    0  ...   \n",
       "4       0            0                      0                    0  ...   \n",
       "\n",
       "   relationship_Own-child  relationship_Unmarried  relationship_Wife  \\\n",
       "0                       0                       0                  0   \n",
       "1                       0                       0                  0   \n",
       "2                       0                       1                  0   \n",
       "3                       0                       1                  0   \n",
       "4                       1                       0                  0   \n",
       "\n",
       "   race_Amer-Indian-Eskimo  race_Asian-Pac-Islander  race_Black  race_Other  \\\n",
       "0                        0                        0           0           0   \n",
       "1                        0                        0           0           0   \n",
       "2                        0                        0           1           0   \n",
       "3                        0                        0           0           0   \n",
       "4                        0                        0           0           0   \n",
       "\n",
       "   race_White  sex_Female  sex_Male  \n",
       "0           1           1         0  \n",
       "1           1           1         0  \n",
       "2           0           1         0  \n",
       "3           1           1         0  \n",
       "4           1           1         0  \n",
       "\n",
       "[5 rows x 52 columns]"
      ]
     },
     "execution_count": 858,
     "metadata": {},
     "output_type": "execute_result"
    }
   ],
   "source": [
    "df.head()"
   ]
  },
  {
   "cell_type": "markdown",
   "id": "03daf160",
   "metadata": {},
   "source": [
    "- ##### Separate Features from Response (Prep for Models)"
   ]
  },
  {
   "cell_type": "code",
   "execution_count": 859,
   "id": "8d29dd62",
   "metadata": {},
   "outputs": [],
   "source": [
    "x = df.drop(\"income\", axis = 1)"
   ]
  },
  {
   "cell_type": "code",
   "execution_count": 860,
   "id": "03a45564",
   "metadata": {},
   "outputs": [],
   "source": [
    "y = df[\"income\"] # this returns a dataframe, better suited for model functions\n",
    "                   # rather than df[\"income\"]"
   ]
  },
  {
   "cell_type": "markdown",
   "id": "8b4a4426",
   "metadata": {},
   "source": [
    "- ##### Scaling the Data "
   ]
  },
  {
   "cell_type": "markdown",
   "id": "f35c9d48",
   "metadata": {},
   "source": [
    "by looking online it makes sense that we shouldn't transform our categorical(dummies) as they loose their interpretation. It however says if we care more about the model then its not so bad.....we can choose on our call what we decide\n",
    "\"You shouldn't do it. you always need a zero dummy variable to measure the baseline effects (coefficients) without group interaction. Dummies (the groups), add to the intercept. If you standardize, you are treating them as a quantitative variables and your results are meaningless.\" "
   ]
  },
  {
   "cell_type": "code",
   "execution_count": 861,
   "id": "fba5e7d0",
   "metadata": {},
   "outputs": [
    {
     "data": {
      "text/plain": [
       "array([[ 3.76961234, -1.06799736, -0.42005962, ...,  0.4130197 ,\n",
       "         1.42233076, -1.42233076],\n",
       "       [ 3.18311167, -0.53916866, -0.42005962, ...,  0.4130197 ,\n",
       "         1.42233076, -1.42233076],\n",
       "       [ 2.01011032, -0.03521956, -0.03136003, ..., -2.421192  ,\n",
       "         1.42233076, -1.42233076],\n",
       "       ...,\n",
       "       [ 0.10398314, -0.33543266, -0.42005962, ...,  0.4130197 ,\n",
       "        -0.70307135,  0.70307135],\n",
       "       [ 1.42360965, -0.35877741, -0.42005962, ...,  0.4130197 ,\n",
       "         1.42233076, -1.42233076],\n",
       "       [-1.21564337,  0.11095988, -0.42005962, ...,  0.4130197 ,\n",
       "        -0.70307135,  0.70307135]])"
      ]
     },
     "execution_count": 861,
     "metadata": {},
     "output_type": "execute_result"
    }
   ],
   "source": [
    "#--LA updated and modified with above\n",
    "# wed don't want to standarize the categorical variables (dummies)\n",
    "# if we remove we need to update PCA if kept we jus need to update name to x\n",
    "scaled_x = StandardScaler().fit_transform(x)\n",
    "scaled_x"
   ]
  },
  {
   "cell_type": "code",
   "execution_count": 862,
   "id": "fee32a22",
   "metadata": {},
   "outputs": [],
   "source": [
    "# Standarizing variables\n",
    "for i in (df_continuous.columns):\n",
    "    if (i !=\"income\" and i!=\"IsImmigrant\"):\n",
    "        x[i] = StandardScaler().fit_transform(x[[i]])"
   ]
  },
  {
   "cell_type": "code",
   "execution_count": 863,
   "id": "93f7aae5",
   "metadata": {},
   "outputs": [],
   "source": [
    "# we can choose between this or standar scaler\n",
    "# Normizing variables\n",
    "# from sklearn.preprocessing import MinMaxScaler\n",
    "# minmax_scale = MinMaxScaler()\n",
    "# for i in (df_continuous.columns):\n",
    "#     if (i !=\"income\" and i!=\"IsImmigrant\"):\n",
    "#         x[i] = minmax_scale().fit_transform(x[[i]])"
   ]
  },
  {
   "cell_type": "markdown",
   "id": "47e76b48",
   "metadata": {},
   "source": [
    "### Dimension Reduction with PCA\n",
    "- ##### Kaiser Rule: the goal is to seek number of PCs that have eigenvalues >= 1, hence the dotted red line below\n",
    "- We know that there is not multicolinearity and and that most of the variables are categorical so we are not sure if PCA will be helpful but testing "
   ]
  },
  {
   "cell_type": "code",
   "execution_count": 864,
   "id": "f106cf74",
   "metadata": {},
   "outputs": [
    {
     "data": {
      "image/png": "[encoded data removed]",
      "text/plain": [
       "<Figure size 432x288 with 1 Axes>"
      ]
     },
     "metadata": {},
     "output_type": "display_data"
    },
    {
     "name": "stdout",
     "output_type": "stream",
     "text": [
      "25 feature(s) are enough to describe the data.\n"
     ]
    }
   ],
   "source": [
    "pca = PCA(n_components=None) # initially set n_components to \"None\" to include all 67 features\n",
    "pca.fit(scaled_x)\n",
    "\n",
    "plt.ylabel('Eigenvalues')\n",
    "plt.xlabel('Number of Features')\n",
    "plt.title('PCA Eigenvalues')\n",
    "plt.ylim(0, max(pca.explained_variance_))\n",
    "plt.plot(pca.explained_variance_, color='b')\n",
    "plt.axhline(y=1, color='r', linestyle='--')\n",
    "plt.show()\n",
    "\n",
    "# display the actual eigenvalues\n",
    "count = 0\n",
    "for i in pca.explained_variance_ :\n",
    "    if i > 1 :                       # eigenvalues >= 1\n",
    "        count = count + 1\n",
    "print(count, 'feature(s) are enough to describe the data.')"
   ]
  },
  {
   "cell_type": "markdown",
   "id": "3d067494",
   "metadata": {},
   "source": [
    "- ##### Cumulative Variance Explained: the selected PCs should describe atleast 80% of the data, hence the dotted red line below"
   ]
  },
  {
   "cell_type": "code",
   "execution_count": 865,
   "id": "3f304d75",
   "metadata": {},
   "outputs": [
    {
     "data": {
      "image/png": "[encoded data removed]",
      "text/plain": [
       "<Figure size 432x288 with 1 Axes>"
      ]
     },
     "metadata": {},
     "output_type": "display_data"
    },
    {
     "name": "stdout",
     "output_type": "stream",
     "text": [
      "22 principal components(s) describe atleast 80% of the data.\n"
     ]
    }
   ],
   "source": [
    "variance = pca.explained_variance_ratio_ * 100\n",
    "cumu_variance = np.cumsum(variance)\n",
    "\n",
    "plt.ylabel('Percent of Variance Explained')\n",
    "plt.xlabel('Principal Component Index')\n",
    "plt.title('Scree Plot')\n",
    "plt.ylim(min(cumu_variance), 100)\n",
    "plt.axhline(y=80, color='r', linestyle='--')\n",
    "plt.plot(cumu_variance)\n",
    "plt.show()\n",
    "\n",
    "cumu_variance\n",
    "# display the actual eigenvalues\n",
    "count = 0\n",
    "for i in cumu_variance :\n",
    "    if i > 80 :                       # eigenvalues >= 1\n",
    "        count = count + 1\n",
    "print(count, 'principal components(s) describe atleast 80% of the data.')"
   ]
  },
  {
   "cell_type": "markdown",
   "id": "3cf3e0ee",
   "metadata": {},
   "source": [
    "# Data Preparation: Part 2\n",
    "- ##### Describe the final dataset that is used for classification/regression (include a description of any newly formed variables you created). "
   ]
  },
  {
   "cell_type": "markdown",
   "id": "06d9dc01",
   "metadata": {},
   "source": [
    "-- LA added this piece  --\n",
    "\n",
    "The data consists of 32,561 entries/rows and 13 attributes/columns, with the response variable being \"income\"\n",
    "\n",
    "Out of the 13 variables, 6 are continuous and 7 are categories. The only new variable that was created is \"IsImmigrant\" which was set because of the discrepancy between US as native.country and the rest of the countries having such tiny percentage. We thought have is immigrant could explain better/have a larger representation due to the results of the data. In exchange we dropped native.country was the new attribute was created. \n",
    "\n",
    "Per EDA this data is not suited well for PCA.\n",
    "\n",
    "Continuous variables: age, fnlwgt, education.num, capital.gain, capital.loss, hours.per.week, IsImmigrant\n",
    "\n",
    "Categorical Variables: Workclass,marital.status, occupation, relationship, race, sex, \n",
    "\n",
    "\n",
    "In order to begin prep for the models the continuous attributes have been standarized and the categorical variables have been converted into one hot encoding."
   ]
  },
  {
   "cell_type": "markdown",
   "id": "e76685b1",
   "metadata": {},
   "source": [
    "Our goal with this final dataset is to classify whether if people have greater than $50k income or not, which includes 1 response variable and 67 predictor variables. Out of those 67, 6 are unchanged as they are originally continuous, 1 was originally \"native.country\" which was modify to \"IsImmigrant\" (with \"United States\" as \"0\" and others as \"1\"), and the rest 60 are one-hot encoded as dummies.\n",
    "\n",
    "PCA is not an appropriate pre-processing method for our data, since we have too many PCs that efficiently describes our data."
   ]
  },
  {
   "cell_type": "markdown",
   "id": "b0d12ba3",
   "metadata": {},
   "source": [
    "# Modeling and Evaluation: Part 1\n",
    "- ##### Choose and explain your evaluation metrics that you will use (i.e., accuracy, precision, recall, F-measure, or any metric we have discussed). Why are the measure(s) appropriate for analyzing the results of your modeling? Give a detailed explanation backing up any assertions."
   ]
  },
  {
   "cell_type": "markdown",
   "id": "8047d6cc",
   "metadata": {},
   "source": [
    "\n",
    "--LA added this piece--\n",
    "\n",
    "Out of Precision, Accuracy and Recall, the most useful for our task is Precision. That will be one of the metricts will focuse on. Precision will be able to focuse on the target >50K and state out of all of all the >50k how many it was able to predict correctly. That is the main goal of the task  is to be able to predict correctly those people that will obtain >50k. From that data we can further analyse which are these important factors and from there see if there is any sociatal gaps that need to be look at etc.\n",
    "\n",
    "However, we will also have to take into account the fact 75% are stated to have <= 50K and only 25% are earning >50K. Because of that we will need modify the threashold to adjust the measurments. 50% threashold wouldn't represent the data correctly.\n",
    "\n",
    "ROC will also be used to compare the models and its results."
   ]
  },
  {
   "cell_type": "markdown",
   "id": "c210e824",
   "metadata": {},
   "source": [
    "Accuracy is a good metric to use because it determines the performance of many models. \n",
    "\n",
    "Precision and recall should become useful for clients that desire a specific outcome from our results. \n",
    "\n",
    "An example can be an expensive form of financial aid that is being planned for people that are true negatives (predicted to NOT make more than 50K and actually makes less than 50K), where we want a classification threshold to both balance a highly accurate true positive and a highly accurate true negative, so that the client is not wasting money on applying that relief to people that are false positive or false negative. The same can be said to a dataset that is created to predict cancer, where we want a high number of people who actually have cancer and people who actually don't have cancer, so that people can correctly have their cancer-curing procedure and would not have wasted time and money on one.\n",
    "\n",
    "A reversed example would be a new product being more favorable towards higher income people, where we can sacrifice the fact that a very high and innaccurate number of true positives is still permissible, because a phone call to people who are false positive, or rather people that are predicted to have greater than $50k income who actually aren't, does not have the same impact as a cancer-curing procedure."
   ]
  },
  {
   "cell_type": "markdown",
   "id": "1a81dcd4",
   "metadata": {},
   "source": [
    "# Modeling and Evaluation: Part 2\n",
    "- ##### Choose the method you will use for dividing your data into training and testing splits (i.e., are you using Stratified 10-fold cross validation? Why?). Explain why your chosen method is appropriate or use more than one method as appropriate. "
   ]
  },
  {
   "cell_type": "markdown",
   "id": "53f58e7b",
   "metadata": {},
   "source": [
    "We will be using Stratified 10 fold cross validation because we want to be able to split the variables equally among the testing and trainig data. For instance if don't use stratified the train data may obtain only 5 percent of the data with >50K which then ends up leading to a model that is not able to predict as well since it has so little information on those with >50K. We want the distribtuion of those with >50K and as well as those with <=50K to be equally representative in trainting and testing. As for cross validation we thought it was the most appropriate because it is able to pick different records and then give us an estimate on what the precision really is."
   ]
  },
  {
   "cell_type": "markdown",
   "id": "2331d512",
   "metadata": {},
   "source": [
    "- ##### Splitting the Data"
   ]
  },
  {
   "cell_type": "markdown",
   "id": "5d675e33",
   "metadata": {},
   "source": [
    "Create three different classification/regression models (e.g., random forest, \n",
    "KNN, and SVM). Two modeling techniques must be new (but the third could be SVM or \n",
    "logistic regression). Adjust parameters as appropriate to increase generalization \n",
    "performance using your chosen metric. "
   ]
  },
  {
   "cell_type": "markdown",
   "id": "264e667d",
   "metadata": {},
   "source": [
    "# Logistic Regression"
   ]
  },
  {
   "cell_type": "markdown",
   "id": "fe1d3b1f",
   "metadata": {},
   "source": [
    "+ We tried adding class_weight=\"balanced\" and all the scores decreased so we have didn't adjust the weights or support\n",
    "+ The simple model did lead to almos the same results as with cross validation. However, we kept is stratify each set contains approximately the same percentage of samples of each target class."
   ]
  },
  {
   "cell_type": "code",
   "execution_count": 866,
   "id": "868cd729",
   "metadata": {},
   "outputs": [],
   "source": [
    "# Set a function to return and print all the scores for each model\n",
    "def score_rep (y_test, y_hat, show=\"yes\"):\n",
    "    acc = mt.accuracy_score(y_test,y_hat)\n",
    "    rec = mt.recall_score(y_test,y_hat)\n",
    "    prec = mt.precision_score(y_test,y_hat)\n",
    "    f1= mt.f1_score(y_test,y_hat)\n",
    "    auc=mt.roc_auc_score(y_test,y_hat)\n",
    "    if show==\"no\":\n",
    "        print('Accuracy is: %.2f, Recall is: %.2f, Precision is: %.2f, F1 is %.2f and AUC is %.2f'% (acc,rec,prec,f1,auc))\n",
    "    return(acc, rec,prec,f1,auc)"
   ]
  },
  {
   "cell_type": "code",
   "execution_count": null,
   "id": "f9dd0345",
   "metadata": {},
   "outputs": [],
   "source": [
    "# Import libraries\n",
    "from sklearn.model_selection import ShuffleSplit\n",
    "from sklearn.linear_model import LogisticRegression\n",
    "from sklearn import metrics as mt\n",
    "from sklearn.model_selection import cross_validate\n",
    "from sklearn.model_selection import StratifiedKFold, cross_val_score\n",
    "\n",
    "#to save results of all models\n",
    "model_results=[]"
   ]
  },
  {
   "cell_type": "code",
   "execution_count": 909,
   "id": "d71fd867",
   "metadata": {},
   "outputs": [
    {
     "name": "stdout",
     "output_type": "stream",
     "text": [
      "Without cross validation\n",
      "Accuracy is: 0.85, Recall is: 0.60, Precision is: 0.74, F1 is 0.66 and AUC is 0.76\n"
     ]
    }
   ],
   "source": [
    "# Logist Regression\n",
    "\n",
    "#splitting data\n",
    "X_train_scaled, X_test_scaled, y_train, y_test = train_test_split(x, y, stratify=y,test_size=.30, random_state=1)\n",
    "\n",
    "#running model\n",
    "# Per earlier mini project we know these are the best arguments\n",
    "lr_clf = LogisticRegression(penalty='l2', C=1.0, class_weight=None, solver='liblinear' )\n",
    "\n",
    "print(\"Without cross validation\")\n",
    "lr=lr_clf.fit(X_train_scaled,y_train)\n",
    "y_hat=lr.predict(X_test_scaled)\n",
    "acc, rec,prec,f1,auc=score_rep(y_test,y_hat)\n",
    "model_results=[[\"Logistic Regression\",acc, rec,prec,f1,auc]]       \n"
   ]
  },
  {
   "cell_type": "code",
   "execution_count": 908,
   "id": "bda1a378",
   "metadata": {},
   "outputs": [
    {
     "name": "stdout",
     "output_type": "stream",
     "text": [
      "Average recall CV Score:  0.7469703013541078\n",
      "Average precision CV Score:  0.7993594250942933\n"
     ]
    }
   ],
   "source": [
    "# Running stratified kfold  cross validation\n",
    "scoring = ['precision_macro', 'recall_macro']\n",
    "sk_folds = StratifiedKFold(n_splits = 10)\n",
    "scores = cross_validate(lr_clf, x, y, scoring=scoring, cv = sk_folds)\n",
    "\n",
    "print(\"Average recall CV Score: \", np.mean(scores['test_recall_macro']))\n",
    "print(\"Average precision CV Score: \", np.mean(scores['test_precision_macro']))"
   ]
  },
  {
   "cell_type": "markdown",
   "id": "58d6bb36",
   "metadata": {},
   "source": [
    "Don't know if we should do the shuffle part"
   ]
  },
  {
   "cell_type": "code",
   "execution_count": null,
   "id": "0483066b",
   "metadata": {},
   "outputs": [],
   "source": [
    "# # Creating Training and Testing split\n",
    "# num_cv_iterations =10\n",
    "\n",
    "# cv_object = ShuffleSplit(n_splits=num_cv_iterations,\n",
    "#                          test_size  = 0.2)\n",
    "\n",
    "# acc_list=[]\n",
    "# rec_list=[]\n",
    "# prec_list=[]\n",
    "# f1_list=[]\n",
    "# auc_list=[]\n",
    "\n",
    "# #10 cross shuffle split validation\n",
    "# for train_indices, test_indices in cv_object.split(x.values,y.values): \n",
    "#     X_train_scaled=x.values[train_indices]\n",
    "#     y_train = y[train_indices]\n",
    "#     X_test_scaled=x.values[test_indices]\n",
    "#     y_test = y[test_indices]\n",
    "#     lr=lr_clf.fit(X_train_scaled,y_train)\n",
    "#     y_hat=lr.predict(X_test_scaled)\n",
    "#     acc, rec,prec,f1,auc=score_rep(y_test,y_hat,\"no\")\n",
    "#     acc_list.append(acc)\n",
    "#     rec_list.append(rec)\n",
    "#     prec_list.append(prec)\n",
    "#     f1_list.append(f1)\n",
    "#     auc_list.append(auc)\n",
    "\n",
    "# print('The accumulated mean score per cross validation')\n",
    "# print(\"Accuracy is: %.2f, Recall is: %.2f, Precision is: %.2f, F1 is %.2f and AUC is %.2f\"% (np.mean(acc_list),np.mean(rec_list), np.mean(prec_list), np.mean(f1_list),np.mean(auc_list)))\n"
   ]
  },
  {
   "cell_type": "markdown",
   "id": "5afed106",
   "metadata": {},
   "source": [
    "- # Interpreting Weights\n",
    "\n",
    "\n",
    "##### The most important variables per Logistic regression \n",
    "    Capital gain \n",
    "    Education num\n",
    "    Marital status \n",
    "    Age\n",
    "    Hours per Week\n",
    "    \n",
    "+ This graph also shows how every variable has some importance and thus all are useful"
   ]
  },
  {
   "cell_type": "code",
   "execution_count": 869,
   "id": "2a7e3975",
   "metadata": {},
   "outputs": [
    {
     "data": {
      "image/png": "[encoded data removed]",
      "text/plain": [
       "<Figure size 1152x432 with 1 Axes>"
      ]
     },
     "metadata": {
      "needs_background": "light"
     },
     "output_type": "display_data"
    }
   ],
   "source": [
    "# Plot\n",
    "from matplotlib import pyplot as plt\n",
    "%matplotlib inline\n",
    "plt.figure(figsize=(16,6))\n",
    "plt.style.use('ggplot')\n",
    "\n",
    "weights = pd.Series(lr.coef_[0],index=x.columns)\n",
    "weights.plot(kind='bar')\n",
    "plt.show()"
   ]
  },
  {
   "cell_type": "code",
   "execution_count": 870,
   "id": "0127fc84",
   "metadata": {},
   "outputs": [
    {
     "data": {
      "image/png": "[encoded data removed]",
      "text/plain": [
       "<Figure size 432x288 with 1 Axes>"
      ]
     },
     "metadata": {},
     "output_type": "display_data"
    }
   ],
   "source": [
    "#AUC ROC curve\n",
    "from sklearn.metrics import roc_auc_score\n",
    "from sklearn.metrics import roc_curve\n",
    "\n",
    "logit_roc_auc = roc_auc_score(y_test, lr.predict(X_test_scaled))\n",
    "fpr, tpr, thresholds = roc_curve(y_test, lr.predict_proba(X_test_scaled)[:,1])\n",
    "plt.figure()\n",
    "plt.plot(fpr, tpr, label='Logistic Regression (area = %0.2f)' % logit_roc_auc)\n",
    "plt.plot([0, 1], [0, 1],'r--')\n",
    "plt.xlim([0.0, 1.0])\n",
    "plt.ylim([0.0, 1.05])\n",
    "plt.xlabel('False Positive Rate')\n",
    "plt.ylabel('True Positive Rate')\n",
    "plt.title('Receiver operating characteristic')\n",
    "plt.legend(loc=\"lower right\")\n",
    "plt.savefig('Log_ROC')\n",
    "plt.show()"
   ]
  },
  {
   "cell_type": "markdown",
   "id": "3445050d",
   "metadata": {},
   "source": [
    "# SVM"
   ]
  },
  {
   "cell_type": "markdown",
   "id": "ec950c49",
   "metadata": {},
   "source": [
    "+ We tried different C and the best one ws 0.5 and rbf\n",
    "We can see with this model on the ROC graph how after 0.02 false positive there is sharp increase cost of between False positive and true positive\n",
    "meaning how if true positive is what is desired then it will in exchange have a very high false positive and if one cares about making sure they don't have false positives then in turn they have very low true positives\n",
    "\n"
   ]
  },
  {
   "cell_type": "code",
   "execution_count": 889,
   "id": "27ee8c02",
   "metadata": {},
   "outputs": [
    {
     "name": "stdout",
     "output_type": "stream",
     "text": [
      "Accuracy is: 0.86, Recall is: 0.57, Precision is: 0.77, F1 is 0.66 and AUC is 0.76\n",
      "[[7008  409]\n",
      " [1004 1348]]\n"
     ]
    }
   ],
   "source": [
    "# Running SVM\n",
    "from sklearn.svm import SVC\n",
    "\n",
    "# train the model just as before\n",
    "svm_clf = SVC(C=0.5, kernel='rbf', degree=3, gamma='auto') # get object\n",
    "svm_clf.fit(X_train_scaled, y_train)  # train object\n",
    "\n",
    "y_hat = svm_clf.predict(X_test_scaled) # get test set predictions\n",
    "\n",
    "# Get all scores\n",
    "acc, rec,prec,f1,auc=score_rep(y_test,y_hat)\n",
    "conf = mt.confusion_matrix(y_test,y_hat)\n",
    "print(conf)\n",
    "# Append to list of all scores\n",
    "model_results.append([\"SVM\",acc, rec,prec,f1,auc])"
   ]
  },
  {
   "cell_type": "markdown",
   "id": "3141eeae",
   "metadata": {},
   "source": [
    "**Cross Validation**\n",
    "\n",
    "Using stratify due to the imbalance target class and getting the recall and precision"
   ]
  },
  {
   "cell_type": "code",
   "execution_count": 896,
   "id": "3c216db9",
   "metadata": {},
   "outputs": [
    {
     "data": {
      "text/plain": [
       "array([0.76824572, 0.74926122, 0.74930446, 0.75843889, 0.74809638])"
      ]
     },
     "execution_count": 896,
     "metadata": {},
     "output_type": "execute_result"
    }
   ],
   "source": [
    "# Doing cross val only to verify restults\n",
    "# Using only train Data other wise it will see the test data and there would be data leakage\n",
    "svm_clf = SVC(C=0.5, kernel='rbf', degree=3, gamma='auto') \n",
    "from sklearn.model_selection import cross_validate\n",
    "scoring = ['precision_macro', 'recall_macro']\n",
    "scores = cross_validate(svm_clf, X_train_scaled, y_train, scoring=scoring, cv=5)\n",
    "\n",
    "np.mean(scores['test_recall_macro'])"
   ]
  },
  {
   "cell_type": "code",
   "execution_count": 906,
   "id": "3832cb49",
   "metadata": {},
   "outputs": [],
   "source": [
    "# Doing cross val only to verify restults\n",
    "# Using only train Data other wise it will see the test data and there would be data leakage\n",
    "\n",
    "from sklearn.model_selection import cross_validate\n",
    "from sklearn.model_selection import StratifiedKFold, cross_val_score\n",
    "scoring = ['precision_macro', 'recall_macro']\n",
    "sk_folds = StratifiedKFold(n_splits = 5)\n",
    "scores = cross_validate(svm_clf, x, y, scoring=scoring, cv = sk_folds)\n",
    "\n",
    "print(\"Average recall CV Score: \", np.mean(scores['test_recall_macro']))\n",
    "print(\"Average precision CV Score: \", np.mean(scores['test_precision_macro']))\n"
   ]
  },
  {
   "cell_type": "code",
   "execution_count": 872,
   "id": "77d0b33d",
   "metadata": {},
   "outputs": [
    {
     "data": {
      "image/png": "[encoded data removed]",
      "text/plain": [
       "<Figure size 432x288 with 1 Axes>"
      ]
     },
     "metadata": {},
     "output_type": "display_data"
    }
   ],
   "source": [
    "# auc=metrics.roc_auc_score(y_test, y_hat)\n",
    "\n",
    "fpr, tpr, thresholds = roc_curve(y_test, y_hat)\n",
    "plt.figure()\n",
    "plt.plot(fpr, tpr, label='SVM (area = %0.2f)' % auc)\n",
    "plt.plot([0, 1], [0, 1],'r--')\n",
    "plt.xlim([0.0, 1.0])\n",
    "plt.ylim([0.0, 1.05])\n",
    "plt.xlabel('False Positive Rate')\n",
    "plt.ylabel('True Positive Rate')\n",
    "plt.title('Receiver operating characteristic')\n",
    "plt.legend(loc=\"lower right\")\n",
    "plt.savefig('Log_ROC')\n",
    "plt.show()\n",
    "                      "
   ]
  },
  {
   "cell_type": "markdown",
   "id": "6e92d762",
   "metadata": {},
   "source": [
    "# Decision Tree"
   ]
  },
  {
   "cell_type": "markdown",
   "id": "b9edc494",
   "metadata": {},
   "source": [
    "+ For decision tree we can see that it picked up Married CIV spouse as the most important followed by capital.gain and education.num. \n",
    "Decision trees are very good at being able to interpret them and how the model did their selection. In this case we know we have to set some criterias for the model to not overfit so we selected criterion gine and max depth of 3. \n",
    "We can see how the model first selected Married CIV spouse as the head of the tree and was followed by capital.gain and education.num as important variables with the high gini."
   ]
  },
  {
   "cell_type": "code",
   "execution_count": 873,
   "id": "2b8ed8a3",
   "metadata": {},
   "outputs": [
    {
     "name": "stdout",
     "output_type": "stream",
     "text": [
      "Accuracy is: 0.84, Recall is: 0.52, Precision is: 0.76, F1 is 0.62 and AUC is 0.73\n",
      "[[7030  387]\n",
      " [1129 1223]]\n",
      "Training score 0.8434977184977185\n",
      "Testing score 0.8448152318558706\n"
     ]
    }
   ],
   "source": [
    "from sklearn.tree import DecisionTreeClassifier\n",
    "dTreeR = DecisionTreeClassifier(criterion = 'gini', max_depth = 3, random_state=1)\n",
    "dTreeR=dTreeR.fit(X_train_scaled, y_train)\n",
    "y_hat=dTreeR.predict(X_test_scaled)\n",
    "# run function to get accuracy, recall and precision\n",
    "acc, rec,prec,f1,auc=score_rep(y_test,y_hat)\n",
    "# Append to list of results\n",
    "model_results.append([\"Decision Classifier\",acc, rec,prec,f1,auc])\n",
    "\n",
    "conf = mt.confusion_matrix(y_test,y_hat)\n",
    "print(conf)\n",
    "\n",
    "print(\"Training score\",dTreeR.score(X_train_scaled, y_train))\n",
    "print(\"Testing score\",dTreeR.score(X_test_scaled, y_test))\n"
   ]
  },
  {
   "cell_type": "markdown",
   "id": "367a58f1",
   "metadata": {},
   "source": [
    "+ Let's visualize it"
   ]
  },
  {
   "cell_type": "code",
   "execution_count": 874,
   "id": "4db25bf4",
   "metadata": {},
   "outputs": [
    {
     "data": {
      "image/png": "[encoded data removed]",
      "text/plain": [
       "<IPython.core.display.Image object>"
      ]
     },
     "metadata": {},
     "output_type": "display_data"
    }
   ],
   "source": [
    "from IPython.display import Image  \n",
    "#import pydotplus as pydot\n",
    "from sklearn import tree\n",
    "from os import system\n",
    "train_char_label = [\"<=50k\", \">50k\"]\n",
    "Credit_Tree_FileR = open('credit_treeR.dot','w')\n",
    "dot_data = tree.export_graphviz(dTreeR, out_file=Credit_Tree_FileR, feature_names = list(X_train_scaled), class_names = list(train_char_label))\n",
    "Credit_Tree_FileR.close()\n",
    "\n",
    "retCode = system(\"dot -Tpng credit_treeR.dot -o credit_treeR.png\")\n",
    "if(retCode>0):\n",
    "    print(\"system command returning error: \"+str(retCode))\n",
    "else:\n",
    "    display(Image(\"credit_treeR.png\"))\n",
    "\n"
   ]
  },
  {
   "cell_type": "markdown",
   "id": "966eae81",
   "metadata": {},
   "source": [
    "# Ensemble RandomForest Classifier"
   ]
  },
  {
   "cell_type": "markdown",
   "id": "7ab3feec",
   "metadata": {},
   "source": [
    "+ We can see that Random forest selecte fnlwgt as one of the top  important features along with age, education.num, caital.gain and marrital status"
   ]
  },
  {
   "cell_type": "code",
   "execution_count": 875,
   "id": "989fe530",
   "metadata": {},
   "outputs": [
    {
     "name": "stdout",
     "output_type": "stream",
     "text": [
      "Accuracy is: 0.86, Recall is: 0.63, Precision is: 0.75, F1 is 0.68 and AUC is 0.78\n"
     ]
    }
   ],
   "source": [
    "from sklearn.ensemble import RandomForestClassifier\n",
    "rfcl = RandomForestClassifier(n_estimators = 50, random_state=1,max_features=12)\n",
    "rfcl = rfcl.fit(X_train_scaled, y_train)\n",
    "y_predict = rfcl.predict(X_test_scaled)\n",
    "#Get all scores\n",
    "acc, rec,prec,f1,auc=score_rep(y_test,y_predict)\n",
    "# Append to list of scores\n",
    "model_results.append([\"Random Forest\",acc, rec,prec,f1,auc])"
   ]
  },
  {
   "cell_type": "code",
   "execution_count": 876,
   "id": "353760f4",
   "metadata": {},
   "outputs": [
    {
     "data": {
      "image/png": "[encoded data removed]",
      "text/plain": [
       "<Figure size 432x288 with 1 Axes>"
      ]
     },
     "metadata": {},
     "output_type": "display_data"
    }
   ],
   "source": [
    "\n",
    "fpr, tpr, thresholds = roc_curve(y_test, rfcl.predict_proba(X_test)[:,1])\n",
    "plt.figure()\n",
    "plt.plot(fpr, tpr, label='Random Forest (area = %0.2f)' % auc)\n",
    "plt.plot([0, 1], [0, 1],'r--')\n",
    "plt.xlim([0.0, 1.0])\n",
    "plt.ylim([0.0, 1.05])\n",
    "plt.xlabel('False Positive Rate')\n",
    "plt.ylabel('True Positive Rate')\n",
    "plt.title('Receiver operating characteristic')\n",
    "plt.legend(loc=\"lower right\")\n",
    "plt.savefig('Log_ROC')\n",
    "plt.show()"
   ]
  },
  {
   "cell_type": "code",
   "execution_count": 877,
   "id": "51c0d73a",
   "metadata": {},
   "outputs": [
    {
     "data": {
      "image/png": "[encoded data removed]",
      "text/plain": [
       "<Figure size 432x288 with 1 Axes>"
      ]
     },
     "metadata": {},
     "output_type": "display_data"
    }
   ],
   "source": [
    "feat_importances = pd.Series(rfcl.feature_importances_, index=x.columns)\n",
    "feat_importances.nlargest(15).plot(kind='barh')\n",
    "plt.title(\"Top 15 important features\")\n",
    "plt.show()"
   ]
  },
  {
   "cell_type": "markdown",
   "id": "31f4db08",
   "metadata": {},
   "source": [
    "# Naive Bayes"
   ]
  },
  {
   "cell_type": "code",
   "execution_count": 878,
   "id": "21d051f0",
   "metadata": {},
   "outputs": [
    {
     "name": "stdout",
     "output_type": "stream",
     "text": [
      "The best Bernoulli recall was 0.79\n"
     ]
    }
   ],
   "source": [
    "from sklearn.naive_bayes import MultinomialNB\n",
    "from sklearn.naive_bayes import BernoulliNB\n",
    "\n",
    "# Running model with different parameters\n",
    "\n",
    "alpha_list=[0.1,0.5,0.7,1.0,5]\n",
    "binarize_list=[0.0,0.05,0.07,0.09,2]\n",
    "multi_result=[]\n",
    "bernou_result=[]\n",
    "\n",
    "for i in (alpha_list):\n",
    "    #since we Standarize we can't do Multinomial MB\n",
    "#     clf_mnb = MultinomialNB(alpha=i)\n",
    "#     multi_model=clf_mnb.fit(X_train_scaled, y_train)\n",
    "#     multi_hat=multi_model.predict(X_test_scaled)\n",
    "#     acc = mt.recall_score(y_test,multi_hat)\n",
    "#     multi_result.append(acc)\n",
    "    for j in (binarize_list):\n",
    "        clf_bnb = BernoulliNB(alpha=i, binarize=j)\n",
    "        bern=clf_bnb.fit(X_train_scaled, y_train)\n",
    "        y_hat=bern.predict(X_test_scaled)\n",
    "        rec = mt.recall_score(y_test,y_hat)\n",
    "        bernou_result.append(rec)\n",
    "        \n",
    "print(\"The best Bernoulli recall was %.2f\"%(max(bernou_result)))\n"
   ]
  },
  {
   "cell_type": "code",
   "execution_count": 879,
   "id": "f8c41d7a",
   "metadata": {},
   "outputs": [
    {
     "name": "stdout",
     "output_type": "stream",
     "text": [
      "Accuracy is: 0.76, Recall is: 0.79, Precision is: 0.50, F1 is 0.61 and AUC is 0.77\n"
     ]
    }
   ],
   "source": [
    "# Best naive bayes model was bernoulli with alpha 0.5 and binirize of 0.07\n",
    "# Run again and save variables\n",
    "clf_bnb = BernoulliNB(alpha=0.5, binarize=0.07)\n",
    "bern=clf_bnb.fit(X_train_scaled, y_train)\n",
    "y_hat=bern.predict(X_test_scaled)\n",
    "acc, rec,prec,f1,auc=score_rep(y_test,y_hat)\n",
    "model_results.append([\"NaiveBayes Bernoulli\",acc, rec,prec,f1,auc])"
   ]
  },
  {
   "cell_type": "code",
   "execution_count": 880,
   "id": "248fcd81",
   "metadata": {},
   "outputs": [
    {
     "data": {
      "text/plain": [
       "<AxesSubplot:>"
      ]
     },
     "execution_count": 880,
     "metadata": {},
     "output_type": "execute_result"
    },
    {
     "data": {
      "image/png": "[encoded data removed]",
      "text/plain": [
       "<Figure size 504x360 with 2 Axes>"
      ]
     },
     "metadata": {},
     "output_type": "display_data"
    }
   ],
   "source": [
    "bern=clf_bnb.fit(X_train_scaled, y_train)\n",
    "y_hat=bern.predict(X_test_scaled)\n",
    "cm=metrics.confusion_matrix(y_test, y_hat,labels=[0, 1])\n",
    "\n",
    "df_cm = pd.DataFrame(cm, index = [i for i in [\"<=50k\",\">50k\"]],\n",
    "                  columns = [i for i in [\"<=50k\",\">50k\"]])\n",
    "plt.figure(figsize = (7,5))\n",
    "sns.heatmap(df_cm, annot=True ,fmt='g')"
   ]
  },
  {
   "cell_type": "markdown",
   "id": "2a156b07",
   "metadata": {},
   "source": [
    "# KNN"
   ]
  },
  {
   "cell_type": "code",
   "execution_count": 881,
   "id": "dd29d2d7",
   "metadata": {},
   "outputs": [
    {
     "name": "stdout",
     "output_type": "stream",
     "text": [
      "METRIC COSINE\n",
      "With 5 neighbors\n",
      "Accuracy is: 0.84, Recall is: 0.61, Precision is: 0.69, F1 is 0.65 and AUC is 0.76\n",
      "With 13 neighbors\n",
      "Accuracy is: 0.84, Recall is: 0.60, Precision is: 0.71, F1 is 0.65 and AUC is 0.76\n",
      "With 16 neighbors\n",
      "Accuracy is: 0.84, Recall is: 0.56, Precision is: 0.73, F1 is 0.63 and AUC is 0.75\n",
      "With 18 neighbors\n",
      "Accuracy is: 0.85, Recall is: 0.57, Precision is: 0.73, F1 is 0.64 and AUC is 0.75\n",
      "With 25 neighbors\n",
      "Accuracy is: 0.85, Recall is: 0.60, Precision is: 0.72, F1 is 0.66 and AUC is 0.76\n"
     ]
    }
   ],
   "source": [
    "# Running KNN\n",
    "from sklearn.model_selection import StratifiedShuffleSplit\n",
    "from sklearn.neighbors import KNeighborsClassifier\n",
    "from sklearn.metrics import accuracy_score\n",
    "from IPython.html import widgets \n",
    "\n",
    "# Predictions useing different K's and cosine as the metric\n",
    "print(\"METRIC COSINE\")\n",
    "for i in ([5,13,16,18,25]):\n",
    "    clf = KNeighborsClassifier(n_neighbors=i, weights='uniform', metric='cosine')\n",
    "    clf=clf.fit(X_train_scaled, y_train)\n",
    "    y_hat=clf.predict(X_test_scaled)\n",
    "    print(\"With %d neighbors\"% (i))\n",
    "    acc, rec,prec,f1,auc=score_rep(y_test,y_hat)"
   ]
  },
  {
   "cell_type": "code",
   "execution_count": 882,
   "id": "66cb7960",
   "metadata": {},
   "outputs": [
    {
     "name": "stdout",
     "output_type": "stream",
     "text": [
      "METRIC EUCLIDEAN\n",
      "With 5 neighbors\n",
      "Accuracy is: 0.84, Recall is: 0.60, Precision is: 0.70, F1 is 0.64 and AUC is 0.76\n",
      "With 16 neighbors\n",
      "Accuracy is: 0.85, Recall is: 0.56, Precision is: 0.74, F1 is 0.64 and AUC is 0.75\n",
      "With 18 neighbors\n",
      "Accuracy is: 0.85, Recall is: 0.56, Precision is: 0.74, F1 is 0.64 and AUC is 0.75\n",
      "With 25 neighbors\n",
      "Accuracy is: 0.85, Recall is: 0.60, Precision is: 0.72, F1 is 0.66 and AUC is 0.76\n"
     ]
    }
   ],
   "source": [
    "# Predictions useing different K's and Euclidean as the metric\n",
    "print(\"METRIC EUCLIDEAN\")\n",
    "for i in ([5,16,18,25]):\n",
    "    clf = KNeighborsClassifier(n_neighbors=i, weights='uniform', metric='euclidean')\n",
    "    clf=clf.fit(X_train_scaled, y_train)\n",
    "    y_hat=clf.predict(X_test_scaled)\n",
    "    print(\"With %d neighbors\"%(i))\n",
    "    acc, rec,prec,f1,auc=score_rep(y_test,y_hat)"
   ]
  },
  {
   "cell_type": "code",
   "execution_count": 883,
   "id": "1490b640",
   "metadata": {},
   "outputs": [
    {
     "name": "stdout",
     "output_type": "stream",
     "text": [
      "METRIC MANHATTAN\n",
      "With 5 neighbors\n",
      "Accuracy is: 0.83, Recall is: 0.56, Precision is: 0.68, F1 is 0.61 and AUC is 0.74\n",
      "With 13 neighbors\n",
      "Accuracy is: 0.83, Recall is: 0.55, Precision is: 0.69, F1 is 0.61 and AUC is 0.73\n",
      "With 16 neighbors\n",
      "Accuracy is: 0.83, Recall is: 0.51, Precision is: 0.71, F1 is 0.59 and AUC is 0.72\n",
      "With 18 neighbors\n",
      "Accuracy is: 0.83, Recall is: 0.52, Precision is: 0.71, F1 is 0.60 and AUC is 0.73\n",
      "With 25 neighbors\n",
      "Accuracy is: 0.84, Recall is: 0.55, Precision is: 0.71, F1 is 0.62 and AUC is 0.74\n"
     ]
    }
   ],
   "source": [
    "# Predictions useing different K's and Manhattan as the metric\n",
    "print(\"METRIC MANHATTAN\")\n",
    "for i in ([5,13,16,18,25]):\n",
    "    clf = KNeighborsClassifier(n_neighbors=i, weights='uniform', metric='manhattan')\n",
    "    clf=clf.fit(X_train, y_train)\n",
    "    y_hat=clf.predict(X_test)\n",
    "    print(\"With %d neighbors\"%(i))\n",
    "    acc, rec,prec,f1,auc=score_rep(y_test,y_hat)"
   ]
  },
  {
   "cell_type": "code",
   "execution_count": 884,
   "id": "0494e621",
   "metadata": {},
   "outputs": [
    {
     "name": "stdout",
     "output_type": "stream",
     "text": [
      "Accuracy is: 0.83, Recall is: 0.58, Precision is: 0.67, F1 is 0.62 and AUC is 0.75\n"
     ]
    }
   ],
   "source": [
    "# SAVING the best model that had\n",
    "#    5 neighbors and cosine was the best one between recall, F1 and AUC\n",
    "clf = KNeighborsClassifier(n_neighbors=5, weights='uniform', metric='cosine')\n",
    "clf=clf.fit(X_train, y_train)\n",
    "y_hat=clf.predict(X_test)\n",
    "acc, rec,prec,f1,auc=score_rep(y_test,y_hat)\n",
    "model_results.append([\"K neighbors Cosine\",acc, rec,prec,f1,auc])"
   ]
  },
  {
   "cell_type": "code",
   "execution_count": 885,
   "id": "22be3d7e",
   "metadata": {},
   "outputs": [
    {
     "data": {
      "image/png": "[encoded data removed]",
      "text/plain": [
       "<Figure size 432x288 with 1 Axes>"
      ]
     },
     "metadata": {},
     "output_type": "display_data"
    }
   ],
   "source": [
    "fpr, tpr, thresholds = roc_curve(y_test, clf.predict_proba(X_test)[:,1])\n",
    "plt.figure()\n",
    "plt.plot(fpr, tpr, label='KNN (area = %0.2f)' % auc)\n",
    "plt.plot([0, 1], [0, 1],'r--')\n",
    "plt.xlim([0.0, 1.0])\n",
    "plt.ylim([0.0, 1.05])\n",
    "plt.xlabel('False Positive Rate')\n",
    "plt.ylabel('True Positive Rate')\n",
    "plt.title('Receiver operating characteristic')\n",
    "plt.legend(loc=\"lower right\")\n",
    "plt.savefig('Log_ROC')\n",
    "plt.show()"
   ]
  },
  {
   "cell_type": "markdown",
   "id": "8b3c6f92",
   "metadata": {},
   "source": [
    "# Comparison of all models"
   ]
  },
  {
   "cell_type": "markdown",
   "id": "7c654c38",
   "metadata": {},
   "source": [
    "+ We selected "
   ]
  },
  {
   "cell_type": "code",
   "execution_count": 886,
   "id": "96f0c173",
   "metadata": {},
   "outputs": [],
   "source": [
    "results_1 = pd.DataFrame(model_results , columns=['Model','Accuracy','Recall','Precision','F1','AUC'])"
   ]
  },
  {
   "cell_type": "code",
   "execution_count": 887,
   "id": "9ea0b6b1",
   "metadata": {},
   "outputs": [
    {
     "data": {
      "text/html": [
       "<div>\n",
       "<style scoped>\n",
       "    .dataframe tbody tr th:only-of-type {\n",
       "        vertical-align: middle;\n",
       "    }\n",
       "\n",
       "    .dataframe tbody tr th {\n",
       "        vertical-align: top;\n",
       "    }\n",
       "\n",
       "    .dataframe thead th {\n",
       "        text-align: right;\n",
       "    }\n",
       "</style>\n",
       "<table border=\"1\" class=\"dataframe\">\n",
       "  <thead>\n",
       "    <tr style=\"text-align: right;\">\n",
       "      <th></th>\n",
       "      <th>Model</th>\n",
       "      <th>Accuracy</th>\n",
       "      <th>Recall</th>\n",
       "      <th>Precision</th>\n",
       "      <th>F1</th>\n",
       "      <th>AUC</th>\n",
       "    </tr>\n",
       "  </thead>\n",
       "  <tbody>\n",
       "    <tr>\n",
       "      <th>3</th>\n",
       "      <td>Random Forest</td>\n",
       "      <td>0.860477</td>\n",
       "      <td>0.629252</td>\n",
       "      <td>0.750888</td>\n",
       "      <td>0.684710</td>\n",
       "      <td>0.781526</td>\n",
       "    </tr>\n",
       "    <tr>\n",
       "      <th>0</th>\n",
       "      <td>Logistic Regression</td>\n",
       "      <td>0.851221</td>\n",
       "      <td>0.604797</td>\n",
       "      <td>0.732429</td>\n",
       "      <td>0.662469</td>\n",
       "      <td>0.767229</td>\n",
       "    </tr>\n",
       "    <tr>\n",
       "      <th>4</th>\n",
       "      <td>NaiveBayes Bernoulli</td>\n",
       "      <td>0.755553</td>\n",
       "      <td>0.788690</td>\n",
       "      <td>0.495195</td>\n",
       "      <td>0.608396</td>\n",
       "      <td>0.766868</td>\n",
       "    </tr>\n",
       "    <tr>\n",
       "      <th>1</th>\n",
       "      <td>SVM</td>\n",
       "      <td>0.853721</td>\n",
       "      <td>0.562075</td>\n",
       "      <td>0.768158</td>\n",
       "      <td>0.649153</td>\n",
       "      <td>0.754140</td>\n",
       "    </tr>\n",
       "    <tr>\n",
       "      <th>5</th>\n",
       "      <td>K neighbors Cosine</td>\n",
       "      <td>0.831098</td>\n",
       "      <td>0.583333</td>\n",
       "      <td>0.671890</td>\n",
       "      <td>0.624488</td>\n",
       "      <td>0.746500</td>\n",
       "    </tr>\n",
       "    <tr>\n",
       "      <th>2</th>\n",
       "      <td>Decision Classifier</td>\n",
       "      <td>0.844815</td>\n",
       "      <td>0.519983</td>\n",
       "      <td>0.759627</td>\n",
       "      <td>0.617365</td>\n",
       "      <td>0.733903</td>\n",
       "    </tr>\n",
       "  </tbody>\n",
       "</table>\n",
       "</div>"
      ],
      "text/plain": [
       "                  Model  Accuracy    Recall  Precision        F1       AUC\n",
       "3         Random Forest  0.860477  0.629252   0.750888  0.684710  0.781526\n",
       "0   Logistic Regression  0.851221  0.604797   0.732429  0.662469  0.767229\n",
       "4  NaiveBayes Bernoulli  0.755553  0.788690   0.495195  0.608396  0.766868\n",
       "1                   SVM  0.853721  0.562075   0.768158  0.649153  0.754140\n",
       "5    K neighbors Cosine  0.831098  0.583333   0.671890  0.624488  0.746500\n",
       "2   Decision Classifier  0.844815  0.519983   0.759627  0.617365  0.733903"
      ]
     },
     "execution_count": 887,
     "metadata": {},
     "output_type": "execute_result"
    }
   ],
   "source": [
    "results_1.sort_values(\"AUC\",ascending=False)"
   ]
  },
  {
   "cell_type": "markdown",
   "id": "d7101cd5",
   "metadata": {},
   "source": [
    " [10 points] Analyze the results using your chosen method of evaluation. Use \n",
    "visualizations of the results to bolster the analysis. Explain any visuals and analyze why \n",
    "they are interesting to someone that might use this model. \n",
    "\n",
    "\n",
    "[10 points] Discuss the advantages of each model for each classification task, if any. If \n",
    "there are not advantages, explain why. Is any model better than another? Is the \n",
    "difference significant with 95% confidence? Use proper statistical comparison methods. \n",
    "\n",
    "[10 points] Which attributes from your analysis are most important? Use proper \n",
    "methods discussed in class to evaluate the importance of different attributes. Discuss \n",
    "the results and hypothesize about why certain attributes are more important than others \n",
    "for a given classification task. "
   ]
  },
  {
   "cell_type": "markdown",
   "id": "2fdb4b37",
   "metadata": {},
   "source": [
    "The best model was Random Forest. This model was selected as the best since it had the highest AUC score, the best Accuracy score of86% and one of the top Precision score of 75%.\n",
    "Out of those predicted >50K it predicted 75% correctly. \n",
    "\n",
    "We are Naybe baives was able to capture 78% of those that earn >50k unlike random forest with 60% but it also incorrectly predicts 65% saying they do earn >50K but they don't which would mean that Naive bayes was used because of recall we would not be correctly making inferences on the actual population that earns >50k as would include a lot that don't\n",
    "\n"
   ]
  },
  {
   "cell_type": "code",
   "execution_count": null,
   "id": "395d1f04",
   "metadata": {},
   "outputs": [],
   "source": []
  },
  {
   "cell_type": "code",
   "execution_count": null,
   "id": "e506e213",
   "metadata": {},
   "outputs": [],
   "source": []
  },
  {
   "cell_type": "code",
   "execution_count": null,
   "id": "2a8190c6",
   "metadata": {},
   "outputs": [],
   "source": []
  },
  {
   "cell_type": "code",
   "execution_count": null,
   "id": "25e28022",
   "metadata": {},
   "outputs": [],
   "source": []
  },
  {
   "cell_type": "code",
   "execution_count": null,
   "id": "f140c9d2",
   "metadata": {},
   "outputs": [],
   "source": []
  },
  {
   "cell_type": "code",
   "execution_count": null,
   "id": "7aacff2f",
   "metadata": {},
   "outputs": [],
   "source": []
  }
 ],
 "metadata": {
  "kernelspec": {
   "display_name": "smuenv",
   "language": "python",
   "name": "smuenv"
  },
  "language_info": {
   "codemirror_mode": {
    "name": "ipython",
    "version": 3
   },
   "file_extension": ".py",
   "mimetype": "text/x-python",
   "name": "python",
   "nbconvert_exporter": "python",
   "pygments_lexer": "ipython3",
   "version": "3.7.13"
  }
 },
 "nbformat": 4,
 "nbformat_minor": 5
}

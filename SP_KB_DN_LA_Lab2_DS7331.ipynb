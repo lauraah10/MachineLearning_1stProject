{
 "cells": [
  {
   "cell_type": "markdown",
   "id": "1c2f7be9",
   "metadata": {},
   "source": [
    "# Lab Two: Classification\n",
    "### Laura Ahumada, Kevin Boyd, Shikha Pandey, Duy Nguyen\n",
    "##### Southern Methodist University\n",
    "##### Fall, 2022"
   ]
  },
  {
   "cell_type": "markdown",
   "id": "1b4b3a08",
   "metadata": {},
   "source": [
    "# Goal: Build upon the previous analysis by adding new classificaiton algorithms, apply appropriate cross validation, and explain which model works the best. \n",
    "\n",
    "- ##### We will continue to use our previous income dataset for analysis and modeling\n"
   ]
  },
  {
   "cell_type": "markdown",
   "id": "c1f394fb",
   "metadata": {},
   "source": [
    "### Libraries"
   ]
  },
  {
   "cell_type": "code",
   "execution_count": 1,
   "id": "eaac6f9f",
   "metadata": {},
   "outputs": [],
   "source": [
    "import pandas as pd\n",
    "import seaborn as sns\n",
    "import numpy as np\n",
    "from sklearn.model_selection import train_test_split, cross_val_score\n",
    "from sklearn.linear_model import LogisticRegression\n",
    "import statsmodels.api as sm\n",
    "from sklearn.metrics import roc_auc_score\n",
    "from sklearn.metrics import roc_curve\n",
    "\n",
    "\n",
    "from sklearn.preprocessing import StandardScaler\n",
    "from sklearn.decomposition import PCA\n",
    "\n",
    "from sklearn import metrics as mt\n",
    "import matplotlib.pyplot as plt\n",
    "from sklearn.svm import SVC\n",
    "import os\n"
   ]
  },
  {
   "cell_type": "markdown",
   "id": "7852f236",
   "metadata": {},
   "source": [
    "### Import Data"
   ]
  },
  {
   "cell_type": "code",
   "execution_count": 2,
   "id": "7088a41f",
   "metadata": {},
   "outputs": [],
   "source": [
    "df = pd.read_csv('adult.csv')"
   ]
  },
  {
   "cell_type": "markdown",
   "id": "dc99c579",
   "metadata": {},
   "source": [
    "# Data Preparation: Part 1\n",
    "- ##### Define and prepare your class variables. Use proper variable representations (int, float, one-hot, etc.). Use pre-processing methods (as needed) for dimensionality reduction, scaling, etc. Remove variables that are not needed/useful for the analysis."
   ]
  },
  {
   "cell_type": "code",
   "execution_count": 3,
   "id": "240e85b5",
   "metadata": {},
   "outputs": [
    {
     "data": {
      "text/plain": [
       "False"
      ]
     },
     "execution_count": 3,
     "metadata": {},
     "output_type": "execute_result"
    }
   ],
   "source": [
    "df.isnull().values.any()"
   ]
  },
  {
   "cell_type": "code",
   "execution_count": 4,
   "id": "08d7f20a",
   "metadata": {},
   "outputs": [
    {
     "data": {
      "text/plain": [
       "Index(['age', 'workclass', 'fnlwgt', 'education', 'education.num',\n",
       "       'marital.status', 'occupation', 'relationship', 'race', 'sex',\n",
       "       'capital.gain', 'capital.loss', 'hours.per.week', 'native.country',\n",
       "       'income'],\n",
       "      dtype='object')"
      ]
     },
     "execution_count": 4,
     "metadata": {},
     "output_type": "execute_result"
    }
   ],
   "source": [
    "df.columns"
   ]
  },
  {
   "cell_type": "code",
   "execution_count": 5,
   "id": "07fe7015",
   "metadata": {},
   "outputs": [
    {
     "name": "stdout",
     "output_type": "stream",
     "text": [
      "Index(['?', 'Federal-gov', 'Local-gov', 'Never-worked', 'Private',\n",
      "       'Self-emp-inc', 'Self-emp-not-inc', 'State-gov', 'Without-pay'],\n",
      "      dtype='object')\n",
      "Index(['10th', '11th', '12th', '1st-4th', '5th-6th', '7th-8th', '9th',\n",
      "       'Assoc-acdm', 'Assoc-voc', 'Bachelors', 'Doctorate', 'HS-grad',\n",
      "       'Masters', 'Preschool', 'Prof-school', 'Some-college'],\n",
      "      dtype='object')\n",
      "Index(['Divorced', 'Married-AF-spouse', 'Married-civ-spouse',\n",
      "       'Married-spouse-absent', 'Never-married', 'Separated', 'Widowed'],\n",
      "      dtype='object')\n",
      "Index(['?', 'Adm-clerical', 'Armed-Forces', 'Craft-repair', 'Exec-managerial',\n",
      "       'Farming-fishing', 'Handlers-cleaners', 'Machine-op-inspct',\n",
      "       'Other-service', 'Priv-house-serv', 'Prof-specialty', 'Protective-serv',\n",
      "       'Sales', 'Tech-support', 'Transport-moving'],\n",
      "      dtype='object')\n",
      "Index(['Husband', 'Not-in-family', 'Other-relative', 'Own-child', 'Unmarried',\n",
      "       'Wife'],\n",
      "      dtype='object')\n",
      "Index(['Amer-Indian-Eskimo', 'Asian-Pac-Islander', 'Black', 'Other', 'White'], dtype='object')\n",
      "Index(['Female', 'Male'], dtype='object')\n",
      "Index(['?', 'Cambodia', 'Canada', 'China', 'Columbia', 'Cuba',\n",
      "       'Dominican-Republic', 'Ecuador', 'El-Salvador', 'England', 'France',\n",
      "       'Germany', 'Greece', 'Guatemala', 'Haiti', 'Holand-Netherlands',\n",
      "       'Honduras', 'Hong', 'Hungary', 'India', 'Iran', 'Ireland', 'Italy',\n",
      "       'Jamaica', 'Japan', 'Laos', 'Mexico', 'Nicaragua',\n",
      "       'Outlying-US(Guam-USVI-etc)', 'Peru', 'Philippines', 'Poland',\n",
      "       'Portugal', 'Puerto-Rico', 'Scotland', 'South', 'Taiwan', 'Thailand',\n",
      "       'Trinadad&Tobago', 'United-States', 'Vietnam', 'Yugoslavia'],\n",
      "      dtype='object')\n",
      "Index(['<=50K', '>50K'], dtype='object')\n"
     ]
    }
   ],
   "source": [
    "cat_cols = df.select_dtypes(exclude=['int64','int32'])\n",
    "for i in cat_cols:\n",
    "    print(cat_cols[i].value_counts().sort_index().index)"
   ]
  },
  {
   "cell_type": "markdown",
   "id": "2355d58d",
   "metadata": {},
   "source": [
    "### Things to address:\n",
    "- ##### Incorrect values \"?\" values\n",
    "- ##### Decrease categories in native.countries to immigrants or not (1 or 0)\n",
    "- ##### Deleting education since it is the same information as education.num\n",
    "- ##### Encode response variable \"income\" to 1 or 0\n",
    "- ##### Encode all categorical variables to 1 or 0, rather than ranked numbers"
   ]
  },
  {
   "cell_type": "markdown",
   "id": "9893cce8",
   "metadata": {},
   "source": [
    "Despite the \"?\" values taking around 5% of their respective columns \"workclass\", \"occupation\", \"native.country\", they will not be removed due since it might be due to citizens not wanting to report those 3 things to the government. However, their incomes were still reported among other factors so the missing values will be treated another category \"Unknown\""
   ]
  },
  {
   "cell_type": "code",
   "execution_count": 6,
   "id": "bbae85f2",
   "metadata": {},
   "outputs": [
    {
     "data": {
      "text/plain": [
       "age               0.000000\n",
       "workclass         5.638647\n",
       "fnlwgt            0.000000\n",
       "education         0.000000\n",
       "education.num     0.000000\n",
       "marital.status    0.000000\n",
       "occupation        5.660146\n",
       "relationship      0.000000\n",
       "race              0.000000\n",
       "sex               0.000000\n",
       "capital.gain      0.000000\n",
       "capital.loss      0.000000\n",
       "hours.per.week    0.000000\n",
       "native.country    1.790486\n",
       "income            0.000000\n",
       "dtype: float64"
      ]
     },
     "execution_count": 6,
     "metadata": {},
     "output_type": "execute_result"
    }
   ],
   "source": [
    "df.isin(['?']).sum(axis=0) * 100 / len(df)"
   ]
  },
  {
   "cell_type": "code",
   "execution_count": 7,
   "id": "a6ca33fd",
   "metadata": {},
   "outputs": [],
   "source": [
    "df = df.replace({'?':'Unknown'})"
   ]
  },
  {
   "cell_type": "code",
   "execution_count": 8,
   "id": "95d2d647",
   "metadata": {},
   "outputs": [
    {
     "data": {
      "text/plain": [
       "age               0.0\n",
       "workclass         0.0\n",
       "fnlwgt            0.0\n",
       "education         0.0\n",
       "education.num     0.0\n",
       "marital.status    0.0\n",
       "occupation        0.0\n",
       "relationship      0.0\n",
       "race              0.0\n",
       "sex               0.0\n",
       "capital.gain      0.0\n",
       "capital.loss      0.0\n",
       "hours.per.week    0.0\n",
       "native.country    0.0\n",
       "income            0.0\n",
       "dtype: float64"
      ]
     },
     "execution_count": 8,
     "metadata": {},
     "output_type": "execute_result"
    }
   ],
   "source": [
    "df.isin(['?']).sum(axis=0) * 100 / len(df)"
   ]
  },
  {
   "cell_type": "markdown",
   "id": "a0f55094",
   "metadata": {},
   "source": [
    "- ##### \"Native Country\": Replace Non-US with \"Immigrant\""
   ]
  },
  {
   "cell_type": "code",
   "execution_count": 9,
   "id": "0542f806",
   "metadata": {},
   "outputs": [],
   "source": [
    "# Changing Native Country since the rest of US by country is small that they could all be combined to single to have a greater weight\n",
    "df['IsImmigrant'] = np.where(df['native.country']!= 'United-States', 1, 0)\n",
    "del df['native.country']"
   ]
  },
  {
   "cell_type": "code",
   "execution_count": 10,
   "id": "3cd3d207",
   "metadata": {},
   "outputs": [
    {
     "data": {
      "text/plain": [
       "0    89.585701\n",
       "1    10.414299\n",
       "Name: IsImmigrant, dtype: float64"
      ]
     },
     "execution_count": 10,
     "metadata": {},
     "output_type": "execute_result"
    }
   ],
   "source": [
    "df.IsImmigrant.value_counts(normalize=True) * 100"
   ]
  },
  {
   "cell_type": "code",
   "execution_count": 11,
   "id": "b1aa6af3",
   "metadata": {},
   "outputs": [],
   "source": [
    "# Deleting education\n",
    "del df['education']"
   ]
  },
  {
   "cell_type": "markdown",
   "id": "a316b544",
   "metadata": {},
   "source": [
    "- ##### \"Income\": As 1 and 0 "
   ]
  },
  {
   "cell_type": "code",
   "execution_count": 12,
   "id": "51ccfbca",
   "metadata": {
    "scrolled": true
   },
   "outputs": [
    {
     "data": {
      "text/plain": [
       "<=50K    75.919044\n",
       ">50K     24.080956\n",
       "Name: income, dtype: float64"
      ]
     },
     "execution_count": 12,
     "metadata": {},
     "output_type": "execute_result"
    }
   ],
   "source": [
    "# Checing the target variable distribution\n",
    "df.income.value_counts(normalize=True) * 100"
   ]
  },
  {
   "cell_type": "code",
   "execution_count": 13,
   "id": "15598868",
   "metadata": {},
   "outputs": [],
   "source": [
    "df['income'] = df['income'].map({'<=50K': 0, '>50K': 1}).astype(int) "
   ]
  },
  {
   "cell_type": "code",
   "execution_count": 14,
   "id": "a7f3e523",
   "metadata": {
    "scrolled": true
   },
   "outputs": [
    {
     "data": {
      "text/plain": [
       "0    75.919044\n",
       "1    24.080956\n",
       "Name: income, dtype: float64"
      ]
     },
     "execution_count": 14,
     "metadata": {},
     "output_type": "execute_result"
    }
   ],
   "source": [
    "df.income.value_counts(normalize=True) * 100"
   ]
  },
  {
   "cell_type": "markdown",
   "id": "60fb20a6",
   "metadata": {},
   "source": [
    "- ##### Encoding Categorical Variables "
   ]
  },
  {
   "cell_type": "code",
   "execution_count": 15,
   "id": "25e4b33b",
   "metadata": {
    "scrolled": true
   },
   "outputs": [
    {
     "data": {
      "text/plain": [
       "age                int64\n",
       "workclass         object\n",
       "fnlwgt             int64\n",
       "education.num      int64\n",
       "marital.status    object\n",
       "occupation        object\n",
       "relationship      object\n",
       "race              object\n",
       "sex               object\n",
       "capital.gain       int64\n",
       "capital.loss       int64\n",
       "hours.per.week     int64\n",
       "income             int32\n",
       "IsImmigrant        int32\n",
       "dtype: object"
      ]
     },
     "execution_count": 15,
     "metadata": {},
     "output_type": "execute_result"
    }
   ],
   "source": [
    "df.dtypes"
   ]
  },
  {
   "cell_type": "code",
   "execution_count": 16,
   "id": "faf9ce9a",
   "metadata": {},
   "outputs": [],
   "source": [
    "df_continuous = df.select_dtypes(exclude=['object'])\n",
    "df_discrete = df.select_dtypes(exclude=['int64','int32'])"
   ]
  },
  {
   "cell_type": "code",
   "execution_count": 17,
   "id": "688b3613",
   "metadata": {},
   "outputs": [
    {
     "data": {
      "text/plain": [
       "Index(['age', 'fnlwgt', 'education.num', 'capital.gain', 'capital.loss',\n",
       "       'hours.per.week', 'income', 'IsImmigrant'],\n",
       "      dtype='object')"
      ]
     },
     "execution_count": 17,
     "metadata": {},
     "output_type": "execute_result"
    }
   ],
   "source": [
    "df_continuous.columns"
   ]
  },
  {
   "cell_type": "code",
   "execution_count": 18,
   "id": "cea8747a",
   "metadata": {},
   "outputs": [
    {
     "data": {
      "text/plain": [
       "Index(['workclass', 'marital.status', 'occupation', 'relationship', 'race',\n",
       "       'sex'],\n",
       "      dtype='object')"
      ]
     },
     "execution_count": 18,
     "metadata": {},
     "output_type": "execute_result"
    }
   ],
   "source": [
    "df_discrete.columns"
   ]
  },
  {
   "cell_type": "code",
   "execution_count": 19,
   "id": "b9616e72",
   "metadata": {},
   "outputs": [],
   "source": [
    "df=pd.get_dummies(df, columns=df_discrete.columns)"
   ]
  },
  {
   "cell_type": "code",
   "execution_count": 20,
   "id": "31eab1a0",
   "metadata": {},
   "outputs": [
    {
     "data": {
      "text/html": [
       "<div>\n",
       "<style scoped>\n",
       "    .dataframe tbody tr th:only-of-type {\n",
       "        vertical-align: middle;\n",
       "    }\n",
       "\n",
       "    .dataframe tbody tr th {\n",
       "        vertical-align: top;\n",
       "    }\n",
       "\n",
       "    .dataframe thead th {\n",
       "        text-align: right;\n",
       "    }\n",
       "</style>\n",
       "<table border=\"1\" class=\"dataframe\">\n",
       "  <thead>\n",
       "    <tr style=\"text-align: right;\">\n",
       "      <th></th>\n",
       "      <th>age</th>\n",
       "      <th>fnlwgt</th>\n",
       "      <th>education.num</th>\n",
       "      <th>capital.gain</th>\n",
       "      <th>capital.loss</th>\n",
       "      <th>hours.per.week</th>\n",
       "      <th>income</th>\n",
       "      <th>IsImmigrant</th>\n",
       "      <th>workclass_Federal-gov</th>\n",
       "      <th>workclass_Local-gov</th>\n",
       "      <th>...</th>\n",
       "      <th>relationship_Own-child</th>\n",
       "      <th>relationship_Unmarried</th>\n",
       "      <th>relationship_Wife</th>\n",
       "      <th>race_Amer-Indian-Eskimo</th>\n",
       "      <th>race_Asian-Pac-Islander</th>\n",
       "      <th>race_Black</th>\n",
       "      <th>race_Other</th>\n",
       "      <th>race_White</th>\n",
       "      <th>sex_Female</th>\n",
       "      <th>sex_Male</th>\n",
       "    </tr>\n",
       "  </thead>\n",
       "  <tbody>\n",
       "    <tr>\n",
       "      <th>0</th>\n",
       "      <td>90</td>\n",
       "      <td>77053</td>\n",
       "      <td>9</td>\n",
       "      <td>0</td>\n",
       "      <td>4356</td>\n",
       "      <td>40</td>\n",
       "      <td>0</td>\n",
       "      <td>0</td>\n",
       "      <td>0</td>\n",
       "      <td>0</td>\n",
       "      <td>...</td>\n",
       "      <td>0</td>\n",
       "      <td>0</td>\n",
       "      <td>0</td>\n",
       "      <td>0</td>\n",
       "      <td>0</td>\n",
       "      <td>0</td>\n",
       "      <td>0</td>\n",
       "      <td>1</td>\n",
       "      <td>1</td>\n",
       "      <td>0</td>\n",
       "    </tr>\n",
       "    <tr>\n",
       "      <th>1</th>\n",
       "      <td>82</td>\n",
       "      <td>132870</td>\n",
       "      <td>9</td>\n",
       "      <td>0</td>\n",
       "      <td>4356</td>\n",
       "      <td>18</td>\n",
       "      <td>0</td>\n",
       "      <td>0</td>\n",
       "      <td>0</td>\n",
       "      <td>0</td>\n",
       "      <td>...</td>\n",
       "      <td>0</td>\n",
       "      <td>0</td>\n",
       "      <td>0</td>\n",
       "      <td>0</td>\n",
       "      <td>0</td>\n",
       "      <td>0</td>\n",
       "      <td>0</td>\n",
       "      <td>1</td>\n",
       "      <td>1</td>\n",
       "      <td>0</td>\n",
       "    </tr>\n",
       "    <tr>\n",
       "      <th>2</th>\n",
       "      <td>66</td>\n",
       "      <td>186061</td>\n",
       "      <td>10</td>\n",
       "      <td>0</td>\n",
       "      <td>4356</td>\n",
       "      <td>40</td>\n",
       "      <td>0</td>\n",
       "      <td>0</td>\n",
       "      <td>0</td>\n",
       "      <td>0</td>\n",
       "      <td>...</td>\n",
       "      <td>0</td>\n",
       "      <td>1</td>\n",
       "      <td>0</td>\n",
       "      <td>0</td>\n",
       "      <td>0</td>\n",
       "      <td>1</td>\n",
       "      <td>0</td>\n",
       "      <td>0</td>\n",
       "      <td>1</td>\n",
       "      <td>0</td>\n",
       "    </tr>\n",
       "    <tr>\n",
       "      <th>3</th>\n",
       "      <td>54</td>\n",
       "      <td>140359</td>\n",
       "      <td>4</td>\n",
       "      <td>0</td>\n",
       "      <td>3900</td>\n",
       "      <td>40</td>\n",
       "      <td>0</td>\n",
       "      <td>0</td>\n",
       "      <td>0</td>\n",
       "      <td>0</td>\n",
       "      <td>...</td>\n",
       "      <td>0</td>\n",
       "      <td>1</td>\n",
       "      <td>0</td>\n",
       "      <td>0</td>\n",
       "      <td>0</td>\n",
       "      <td>0</td>\n",
       "      <td>0</td>\n",
       "      <td>1</td>\n",
       "      <td>1</td>\n",
       "      <td>0</td>\n",
       "    </tr>\n",
       "    <tr>\n",
       "      <th>4</th>\n",
       "      <td>41</td>\n",
       "      <td>264663</td>\n",
       "      <td>10</td>\n",
       "      <td>0</td>\n",
       "      <td>3900</td>\n",
       "      <td>40</td>\n",
       "      <td>0</td>\n",
       "      <td>0</td>\n",
       "      <td>0</td>\n",
       "      <td>0</td>\n",
       "      <td>...</td>\n",
       "      <td>1</td>\n",
       "      <td>0</td>\n",
       "      <td>0</td>\n",
       "      <td>0</td>\n",
       "      <td>0</td>\n",
       "      <td>0</td>\n",
       "      <td>0</td>\n",
       "      <td>1</td>\n",
       "      <td>1</td>\n",
       "      <td>0</td>\n",
       "    </tr>\n",
       "  </tbody>\n",
       "</table>\n",
       "<p>5 rows × 52 columns</p>\n",
       "</div>"
      ],
      "text/plain": [
       "   age  fnlwgt  education.num  capital.gain  capital.loss  hours.per.week  \\\n",
       "0   90   77053              9             0          4356              40   \n",
       "1   82  132870              9             0          4356              18   \n",
       "2   66  186061             10             0          4356              40   \n",
       "3   54  140359              4             0          3900              40   \n",
       "4   41  264663             10             0          3900              40   \n",
       "\n",
       "   income  IsImmigrant  workclass_Federal-gov  workclass_Local-gov  ...  \\\n",
       "0       0            0                      0                    0  ...   \n",
       "1       0            0                      0                    0  ...   \n",
       "2       0            0                      0                    0  ...   \n",
       "3       0            0                      0                    0  ...   \n",
       "4       0            0                      0                    0  ...   \n",
       "\n",
       "   relationship_Own-child  relationship_Unmarried  relationship_Wife  \\\n",
       "0                       0                       0                  0   \n",
       "1                       0                       0                  0   \n",
       "2                       0                       1                  0   \n",
       "3                       0                       1                  0   \n",
       "4                       1                       0                  0   \n",
       "\n",
       "   race_Amer-Indian-Eskimo  race_Asian-Pac-Islander  race_Black  race_Other  \\\n",
       "0                        0                        0           0           0   \n",
       "1                        0                        0           0           0   \n",
       "2                        0                        0           1           0   \n",
       "3                        0                        0           0           0   \n",
       "4                        0                        0           0           0   \n",
       "\n",
       "   race_White  sex_Female  sex_Male  \n",
       "0           1           1         0  \n",
       "1           1           1         0  \n",
       "2           0           1         0  \n",
       "3           1           1         0  \n",
       "4           1           1         0  \n",
       "\n",
       "[5 rows x 52 columns]"
      ]
     },
     "execution_count": 20,
     "metadata": {},
     "output_type": "execute_result"
    }
   ],
   "source": [
    "df.head()"
   ]
  },
  {
   "cell_type": "markdown",
   "id": "03daf160",
   "metadata": {},
   "source": [
    "- ##### Separate Features from Response (Prep for Models)"
   ]
  },
  {
   "cell_type": "code",
   "execution_count": 21,
   "id": "8d29dd62",
   "metadata": {},
   "outputs": [],
   "source": [
    "x = df.drop(\"income\", axis = 1)"
   ]
  },
  {
   "cell_type": "code",
   "execution_count": 22,
   "id": "03a45564",
   "metadata": {},
   "outputs": [],
   "source": [
    "y = df[\"income\"] # this returns a dataframe, better suited for model functions\n",
    "                   # rather than df[\"income\"]"
   ]
  },
  {
   "cell_type": "markdown",
   "id": "8b4a4426",
   "metadata": {},
   "source": [
    "- ##### Scaling the Data "
   ]
  },
  {
   "cell_type": "markdown",
   "id": "568811be",
   "metadata": {},
   "source": [
    "We are not going to transform our categorical(dummies) as they loose their interpretation. If we standardized them, we would be treating them as quantitative variables which does not interpret correctly."
   ]
  },
  {
   "cell_type": "code",
   "execution_count": 23,
   "id": "b8e0f9df",
   "metadata": {},
   "outputs": [],
   "source": [
    "# Standarizing variables excluding the categories(dummies)\n",
    "for i in (df_continuous.columns):\n",
    "    if (i !=\"income\" and i!=\"IsImmigrant\"):\n",
    "        x[i] = StandardScaler().fit_transform(x[[i]])"
   ]
  },
  {
   "cell_type": "markdown",
   "id": "47e76b48",
   "metadata": {},
   "source": [
    "### Dimension Reduction with PCA\n",
    "- ##### Kaiser Rule: the goal is to seek number of PCs that have eigenvalues >= 1, hence the dotted red line below\n",
    "- We know that there is no multicolinearity and that most of the variables are categorical so we are not sure if PCA will be helpful but testing it out."
   ]
  },
  {
   "cell_type": "code",
   "execution_count": 24,
   "id": "f106cf74",
   "metadata": {},
   "outputs": [
    {
     "data": {
      "image/png": "[encoded data removed]",
      "text/plain": [
       "<Figure size 432x288 with 1 Axes>"
      ]
     },
     "metadata": {
      "needs_background": "light"
     },
     "output_type": "display_data"
    },
    {
     "name": "stdout",
     "output_type": "stream",
     "text": [
      "4 feature(s) are enough to describe the data.\n"
     ]
    }
   ],
   "source": [
    "pca = PCA(n_components=None) # initially set n_components to \"None\" to include all 67 features\n",
    "pca.fit(x)\n",
    "\n",
    "plt.ylabel('Eigenvalues')\n",
    "plt.xlabel('Number of Features')\n",
    "plt.title('PCA Eigenvalues')\n",
    "plt.ylim(0, max(pca.explained_variance_))\n",
    "plt.plot(pca.explained_variance_, color='b')\n",
    "plt.axhline(y=1, color='r', linestyle='--')\n",
    "plt.show()\n",
    "\n",
    "# display the actual eigenvalues\n",
    "count = 0\n",
    "for i in pca.explained_variance_ :\n",
    "    if i > 1 :                       # eigenvalues >= 1\n",
    "        count = count + 1\n",
    "print(count, 'feature(s) are enough to describe the data.')"
   ]
  },
  {
   "cell_type": "markdown",
   "id": "3d067494",
   "metadata": {},
   "source": [
    "- ##### Cumulative Variance Explained: the selected PCs should describe atleast 80% of the data, hence the dotted red line below"
   ]
  },
  {
   "cell_type": "code",
   "execution_count": 25,
   "id": "3f304d75",
   "metadata": {},
   "outputs": [
    {
     "data": {
      "image/png": "[encoded data removed]",
      "text/plain": [
       "<Figure size 432x288 with 1 Axes>"
      ]
     },
     "metadata": {
      "needs_background": "light"
     },
     "output_type": "display_data"
    },
    {
     "name": "stdout",
     "output_type": "stream",
     "text": [
      "42 principal components(s) describe atleast 80% of the data.\n"
     ]
    }
   ],
   "source": [
    "variance = pca.explained_variance_ratio_ * 100\n",
    "cumu_variance = np.cumsum(variance)\n",
    "\n",
    "plt.ylabel('Percent of Variance Explained')\n",
    "plt.xlabel('Principal Component Index')\n",
    "plt.title('Scree Plot')\n",
    "plt.ylim(min(cumu_variance), 100)\n",
    "plt.axhline(y=80, color='r', linestyle='--')\n",
    "plt.plot(cumu_variance)\n",
    "plt.show()\n",
    "\n",
    "cumu_variance\n",
    "# display the actual eigenvalues\n",
    "count = 0\n",
    "for i in cumu_variance :\n",
    "    if i > 80 :                       # eigenvalues >= 1\n",
    "        count = count + 1\n",
    "print(count, 'principal components(s) describe atleast 80% of the data.')"
   ]
  },
  {
   "cell_type": "markdown",
   "id": "3cf3e0ee",
   "metadata": {},
   "source": [
    "# Data Preparation: Part 2\n",
    "- ##### Describe the final dataset that is used for classification/regression (include a description of any newly formed variables you created). "
   ]
  },
  {
   "cell_type": "markdown",
   "id": "04935a8b",
   "metadata": {},
   "source": [
    "The data consists of 32,561 entries/rows and 13 attributes/columns, with the response variable being \"income\".\n",
    "\n",
    "Out of the 13 variables, 6 are continuous and 7 are categorical. The only new variable that was created is \"IsImmigrant\" which was set because of the discrepancy between US as native.country and the rest of the countries having such tiny percentage. We thought having is immigrant could explain better/have a larger representation due to the results of the data. In exchange we dropped native.country when the new attribute was created. \n",
    "\n",
    "Per EDA this data is not suited well for PCA.\n",
    "\n",
    "Continuous variables: age, fnlwgt, education.num, capital.gain, capital.loss, hours.per.week, IsImmigrant\n",
    "\n",
    "Categorical Variables: Workclass,marital.status, occupation, relationship, race, sex, \n",
    "\n",
    "\n",
    "In order to begin prep for the models the continuous attributes have been standarized and the categorical variables have been converted into one hot encoding."
   ]
  },
  {
   "cell_type": "markdown",
   "id": "e76685b1",
   "metadata": {},
   "source": [
    "Our goal with this final dataset is to classify whether if people have greater than $50k income or not, which includes 1 response variable and 67 predictor variables. Out of those 67, 6 are unchanged as they are originally continuous, 1 was originally \"native.country\" which was modify to \"IsImmigrant\" (with \"United States\" as \"0\" and others as \"1\"), and the rest 60 are one-hot encoded as dummies.\n",
    "\n",
    "PCA is not an appropriate pre-processing method for our data, since we have too many PCs that efficiently describes our data."
   ]
  },
  {
   "cell_type": "markdown",
   "id": "b0d12ba3",
   "metadata": {},
   "source": [
    "# Modeling and Evaluation: Part 1\n",
    "- ##### Choose and explain your evaluation metrics that you will use (i.e., accuracy, precision, recall, F-measure, or any metric we have discussed). Why are the measure(s) appropriate for analyzing the results of your modeling? Give a detailed explanation backing up any assertions."
   ]
  },
  {
   "cell_type": "markdown",
   "id": "5b053aea",
   "metadata": {},
   "source": [
    "When considering Precision, Accuracy, Recall, and the F-measure, the most useful for our task is Precision. We will focus on Precision becasuse our main goal is to get an accurate sample of those people that earn >50K to further analyze which factors contribute most to that outcome. Furthermore, we would like to see if there are any societal gaps that need to be looked at more closely that are keeping people from making 50K. Some factors are not within a persons' ability to change, but it is important to learn which factors that influence income a person can actually change. This is why we care most about the factors that predict a person making >50K, and that they really do influence a person making >50k (how many positive predicitions really are positive). \n",
    "\n",
    "While we do care more about precision, an example of why recall could be important can be applied to different groups providing financial aid. There is only a certain amount of total financial aid that a group can distribute amung students and it is important that the money is going to people that truly need it (true negatives: predicted to NOT make >50K and actually do makes <=50K). For this purpose, we would want a classification threshold to both balance a highly accurate true positive and low on false negatives (make >50k but were classified as making <=50), so that the financial aid groups can target pepole that actually need the help.\n",
    "\n",
    "We also need to take into account that 75% of our dataset are stated to make <=50K and only 25% make >50K. It is important that we modify the threshold to represent our unequal number of responses. A 50% threshold wouldn't represent the data correctly. ROC takes advantage of this threshold being appropriately represented and will also be used to compare the models."
   ]
  },
  {
   "cell_type": "markdown",
   "id": "1a81dcd4",
   "metadata": {},
   "source": [
    "# Modeling and Evaluation: Part 2\n",
    "- ##### Choose the method you will use for dividing your data into training and testing splits (i.e., are you using Stratified 10-fold cross validation? Why?). Explain why your chosen method is appropriate or use more than one method as appropriate. "
   ]
  },
  {
   "cell_type": "markdown",
   "id": "53f58e7b",
   "metadata": {},
   "source": [
    "We will be using Stratified validation because we want to be able to split the variables randomly and equally among the testing and trainig data. For instance, if we don't use stratified the train data may obtain only 5% of the data with >50K which then ends up leading to a model that is not able to predict as well since it has so little information on those with >50K. We want the distribtuion of those with >50K and as well as those with <=50K to be equally representative in training and testing."
   ]
  },
  {
   "cell_type": "markdown",
   "id": "2331d512",
   "metadata": {},
   "source": [
    "- ##### Splitting the Data"
   ]
  },
  {
   "cell_type": "code",
   "execution_count": 26,
   "id": "d53df6a4",
   "metadata": {},
   "outputs": [],
   "source": [
    "#splitting data\n",
    "X_train_scaled, X_test_scaled, y_train, y_test = train_test_split(x, y, stratify=y,test_size=.30, random_state=1)"
   ]
  },
  {
   "cell_type": "markdown",
   "id": "b01a0398",
   "metadata": {},
   "source": [
    "# Modeling and Evaluation: Part 3\n",
    "- ##### Create three different classification/regression models (e.g., random forest, KNN, and SVM). Two modeling techniques must be new (but the third could be SVM or logistic regression). Adjust parameters as appropriate to increase generalization performance using your chosen metric.\n",
    "\n",
    "\n",
    "- Model 1: Logistic\n",
    "- Model 2: SVM\n",
    "- Model 3: Decision Tree Classifier\n",
    "- Model 4: Random Forest\n",
    "- model 5: Naive-Bayes Bernoulli\n",
    "- Mdeol 6: KNN Cosine"
   ]
  },
  {
   "cell_type": "markdown",
   "id": "264e667d",
   "metadata": {},
   "source": [
    "# Logistic Regression"
   ]
  },
  {
   "cell_type": "markdown",
   "id": "e216d0a2",
   "metadata": {},
   "source": [
    "+ We tried adding class_weight=\"balanced\" and all the scores decreased so we didn't adjust the weights or support.\n",
    "+ The simple model did lead to almost the same results as with cross validation. However, we kept as stratify each set contains approximately the same percentage of samples of each target class."
   ]
  },
  {
   "cell_type": "code",
   "execution_count": 27,
   "id": "9bfc5ca6",
   "metadata": {},
   "outputs": [],
   "source": [
    "# Function to get the metrics\n",
    "def score_rep (model, y_hat,threashHold=0.7,svm=\"no\",show=\"yes\"):\n",
    "        if svm==\"yes\":\n",
    "            preds=svm_clf.decision_function(X_test_scaled)>threashHold\n",
    "            prob_df=pd.DataFrame({\"prediProb\":svm_clf.decision_function(X_test_scaled), \"pred\": preds, \"actual\":y_test})\n",
    "        else:\n",
    "            preds = np.where(model.predict_proba(X_test_scaled)[:,1] > threashHold, 1, 0)\n",
    "            prob_df=pd.DataFrame({\"prediProb\":model.predict_proba(X_test_scaled)[:,1], \"pred\": preds, \"actual\":y_test})\n",
    "        fp=prob_df[(prob_df[\"actual\"]==0) & (prob_df[\"pred\"]==1)].shape[0]\n",
    "        tp=prob_df[(prob_df[\"actual\"]==1) & (prob_df[\"pred\"]==1)].shape[0]\n",
    "        fn=prob_df[(prob_df[\"actual\"]==1) & (prob_df[\"pred\"]==0)].shape[0]\n",
    "        tn=prob_df[(prob_df[\"actual\"]==0) & (prob_df[\"pred\"]==0)].shape[0]\n",
    "       \n",
    "        prec=round((tp/(fp+tp)),3)\n",
    "        rec=round((tp/(tp+fn)),3)\n",
    "        acc=round(((tp+tn)/(tp+fp+fn+tn)),3)\n",
    "        f1= round((mt.f1_score(y_test,preds)),3)\n",
    "        auc=round((mt.roc_auc_score(y_test,y_hat)),3)\n",
    "        if show!=\"no\":\n",
    "            print('Accuracy is: %.2f, Recall is: %.2f, Precision is: %.2f, F1 is %.2f and AUC is %.2f'% (acc,rec,prec,f1,auc))\n",
    "        return(acc,rec,prec,f1,auc)  "
   ]
  },
  {
   "cell_type": "code",
   "execution_count": 28,
   "id": "f8631710",
   "metadata": {},
   "outputs": [],
   "source": [
    "# Import libraries\n",
    "from sklearn.model_selection import ShuffleSplit\n",
    "from sklearn.linear_model import LogisticRegression\n",
    "from sklearn import metrics as mt\n",
    "from sklearn.model_selection import cross_validate\n",
    "from sklearn.model_selection import StratifiedKFold, cross_val_score\n",
    "\n",
    "#to save results of all models\n",
    "model_results=[]"
   ]
  },
  {
   "cell_type": "code",
   "execution_count": 29,
   "id": "d9918ae9",
   "metadata": {},
   "outputs": [
    {
     "name": "stdout",
     "output_type": "stream",
     "text": [
      "Average recall CV Score:  0.7469703013541078\n",
      "Average precision CV Score:  0.7993594250942933\n"
     ]
    }
   ],
   "source": [
    "#running model\n",
    "# Per earlier mini project we know these are the best arguments\n",
    "lr_clf = LogisticRegression(penalty='l2', C=1.0, class_weight=None, solver='liblinear' )\n",
    "\n",
    "# Running stratified kfold  cross validation with a threshold of 0.5\n",
    "scoring = ['precision_macro', 'recall_macro']\n",
    "sk_folds = StratifiedKFold(n_splits = 10)\n",
    "scores = cross_validate(lr_clf, x, y, scoring=scoring, cv = sk_folds)\n",
    "\n",
    "print(\"Average recall CV Score: \", np.mean(scores['test_recall_macro']))\n",
    "print(\"Average precision CV Score: \", np.mean(scores['test_precision_macro']))"
   ]
  },
  {
   "cell_type": "code",
   "execution_count": 30,
   "id": "c322752e",
   "metadata": {},
   "outputs": [
    {
     "name": "stdout",
     "output_type": "stream",
     "text": [
      "Accuracy is: 0.84, Recall is: 0.39, Precision is: 0.87, F1 is 0.54 and AUC is 0.77\n"
     ]
    }
   ],
   "source": [
    "# Logist Regression with threshold of 0.7\n",
    "\n",
    "lr=lr_clf.fit(X_train_scaled,y_train)\n",
    "y_hat=lr.predict(X_test_scaled)\n",
    "  \n",
    "acc, rec,prec,f1,auc=score_rep(lr,y_hat)\n",
    "model_results=[[\"Logistic Regression\",acc, rec,prec,f1,auc]]       \n"
   ]
  },
  {
   "cell_type": "markdown",
   "id": "5afed106",
   "metadata": {},
   "source": [
    "- # Interpreting Weights\n",
    "\n",
    "\n",
    "##### The most important variables per Logistic Regression \n",
    "    Capital gain \n",
    "    Education num\n",
    "    Marital status \n",
    "    Age\n",
    "    Hours per Week\n",
    "    \n",
    "+ This graph also shows how every variable has some importance and thus all are useful and have an impact on income.\n",
    "+ Capital Gain, not surprisingly, shows highest weight as it did contain large numerical values in the data. It would also have practical sense because people with higher income would be able to have more savings.\n",
    "+ Education num with second highest weight is another variable that makes sense to have higher impact on income because traditionally in society people with higher education have higher paying jobs and hance higher income.\n",
    "+ Marital Status is the third higest impacting variable in the model which would concur with the socio-economic structure in society. Married households could impact an individual's income in various ways, one of which would be sharing expenses.\n",
    "+ Age is next important variable in our model which is completely practical because people within age range of 20-60 have higher income potential because before 20, most would be in school and after 60, most would retire.\n",
    "+ Hours per Week is the last important variable per our model and understandably so - generally, a person with more working hours would make more income that the one with less working hours."
   ]
  },
  {
   "cell_type": "code",
   "execution_count": 31,
   "id": "2a7e3975",
   "metadata": {},
   "outputs": [
    {
     "data": {
      "image/png": "[encoded data removed]",
      "text/plain": [
       "<Figure size 1152x432 with 1 Axes>"
      ]
     },
     "metadata": {
      "needs_background": "light"
     },
     "output_type": "display_data"
    }
   ],
   "source": [
    "# Plot\n",
    "from matplotlib import pyplot as plt\n",
    "%matplotlib inline\n",
    "plt.figure(figsize=(16,6))\n",
    "plt.style.use('ggplot')\n",
    "\n",
    "weights = pd.Series(lr.coef_[0],index=x.columns)\n",
    "weights.plot(kind='bar')\n",
    "plt.show()"
   ]
  },
  {
   "cell_type": "markdown",
   "id": "44c28270",
   "metadata": {},
   "source": [
    "#### The precision obtained for Logistic Regression was 87% with a threshold of 0.7. The AUC was 77%. While this model does appear to perform very well we will continue to look into other models."
   ]
  },
  {
   "cell_type": "markdown",
   "id": "3445050d",
   "metadata": {},
   "source": [
    "# SVM"
   ]
  },
  {
   "cell_type": "markdown",
   "id": "ebb36d7f",
   "metadata": {},
   "source": [
    "+ We tried different values for C and the best one we found was 0.5\n",
    "+ We also used the option rbf (radial basis function kernel) which is similar to KNN but is able to deal with the high dimensional space seen in our data. The support vector machines just need to create and store the support vectors during the training but not the entire dataset. \n",
    "+ Using the ROC plot we see that SVM is perfoming very well. It looks very similar to logistic regression with a slightly lower AUC of 0.75 compared to logistic regression with an AUC of 0.76.\n",
    "+ SVM is a computationally intensive model so it does take a while to run.\n",
    "+ We have included a fair number of explanitory variable which is going to make the interpretaion more difficult in the mulitdemensional space."
   ]
  },
  {
   "cell_type": "code",
   "execution_count": null,
   "id": "e74ce14d",
   "metadata": {},
   "outputs": [],
   "source": [
    "# Doing cross val only to verify restults\n",
    "# Using only train Data other wise it will see the test data and there would be data leakage\n",
    "\n",
    "from sklearn.model_selection import cross_validate\n",
    "from sklearn.model_selection import StratifiedKFold, cross_val_score\n",
    "\n",
    "# Running SVM\n",
    "from sklearn.svm import SVC\n",
    "\n",
    "# train the model just as before\n",
    "svm_clf = SVC(C=0.5, kernel='rbf', degree=3, gamma='auto') # get object\n",
    "\n",
    "scoring = ['precision_macro', 'recall_macro']\n",
    "sk_folds = StratifiedKFold(n_splits = 5)\n",
    "scores = cross_validate(svm_clf, x, y, scoring=scoring, cv = sk_folds)\n",
    "\n",
    "print(\"Average recall CV Score: \", np.mean(scores['test_recall_macro']))\n",
    "print(\"Average precision CV Score: \", np.mean(scores['test_precision_macro']))\n"
   ]
  },
  {
   "cell_type": "code",
   "execution_count": null,
   "id": "27ee8c02",
   "metadata": {},
   "outputs": [],
   "source": [
    "svm_clf=svm_clf.fit(X_train_scaled, y_train)  # train object\n",
    "\n",
    "y_hat = svm_clf.predict(X_test_scaled) # get test set predictions\n",
    "\n",
    "# Get all scores  \n",
    "acc, rec,prec,f1,auc=score_rep(svm_clf,y_hat,svm=\"yes\")\n",
    "# Append to list of all scores\n",
    "model_results.append([\"SVM\",acc, rec,prec,f1,auc])"
   ]
  },
  {
   "cell_type": "markdown",
   "id": "daba4456",
   "metadata": {},
   "source": [
    "#### We can see that with this model we have a precision of 88%, increasing 1 point from logistic regression, with a threshold of 0.7. The AUC was a bit lower at 75%. We do desire to have a high precision but it is possible another model will perform better than this SVM model."
   ]
  },
  {
   "cell_type": "markdown",
   "id": "ea111714",
   "metadata": {},
   "source": [
    "# Decision Tree"
   ]
  },
  {
   "cell_type": "markdown",
   "id": "115dbe8a",
   "metadata": {},
   "source": [
    "+ For decision tree we can see that it picked up Married CIV spouse as the most important feature followed by capital.gain and education.num. These are some of the features that were also picked by the other models. It is still interesting to see that Married CIV specifically is picked but that could because married in a non military family means stability and support.\n",
    "\n",
    "+ Decision trees are very good when it comes to being able to interpret them and how the features are selected. In this case we know we have to set some criterias for the model to not overfit, so we selected criterion gini and max depth of 3.\n"
   ]
  },
  {
   "cell_type": "code",
   "execution_count": null,
   "id": "3333066c",
   "metadata": {},
   "outputs": [],
   "source": [
    "from sklearn.tree import DecisionTreeClassifier\n",
    "dTreeR = DecisionTreeClassifier(criterion = 'gini', max_depth = 3, random_state=1)\n",
    "dTreeR=dTreeR.fit(X_train_scaled, y_train)\n",
    "y_hat=dTreeR.predict(X_test_scaled)\n",
    "# run function to get accuracy, recall and precision\n",
    "acc, rec,prec,f1,auc=score_rep(dTreeR,y_hat)\n",
    "# Append to list of results\n",
    "model_results.append([\"Decision Classifier\",acc, rec,prec,f1,auc])\n",
    "print('')\n",
    "print(\"Having the training and test score very close means that it was a good model and did not overfit.\")\n",
    "print(\"Training score\",dTreeR.score(X_train_scaled, y_train))\n",
    "print(\"Testing score\",dTreeR.score(X_test_scaled, y_test))\n"
   ]
  },
  {
   "cell_type": "code",
   "execution_count": null,
   "id": "67e2bbe0",
   "metadata": {},
   "outputs": [],
   "source": [
    "from IPython.display import Image  \n",
    "#import pydotplus as pydot\n",
    "from sklearn import tree\n",
    "from os import system\n",
    "train_char_label = [\"<=50k\", \">50k\"]\n",
    "Credit_Tree_FileR = open('credit_treeR.dot','w')\n",
    "dot_data = tree.export_graphviz(dTreeR, out_file=Credit_Tree_FileR, feature_names = list(X_train_scaled), class_names = list(train_char_label))\n",
    "Credit_Tree_FileR.close()\n",
    "\n",
    "retCode = system(\"dot -Tpng credit_treeR.dot -o credit_treeR.png\")\n",
    "if(retCode>0):\n",
    "    print(\"system command returning error: \"+str(retCode))\n",
    "else:\n",
    "    display(Image(\"credit_treeR.png\"))\n",
    "\n"
   ]
  },
  {
   "cell_type": "markdown",
   "id": "61d1d179",
   "metadata": {},
   "source": [
    "#### This model has the best precision of 99% having a threshold of 0.7. Of course this means that recall took a hit being at 20%. Interestingly, the AUC is not as high, even lower than SVM at 73%. Let's see if Random Forest will do as good in precision without making recall this low and having a better AUC."
   ]
  },
  {
   "cell_type": "markdown",
   "id": "dcf52044",
   "metadata": {},
   "source": [
    "# Ensemble RandomForest Classifier"
   ]
  },
  {
   "cell_type": "markdown",
   "id": "524eccb0",
   "metadata": {},
   "source": [
    "+ We can see that Random Forest selected fnlwgt as one of the top important features along with age, education.num, caital.gain and marrital status.\n",
    "+ Random Forest gets power from the multiple decision trees that are ensembled together.\n",
    "+ We can see from the plot below that some explanatory variables are much more important in our model. This advantage is very helpful for understanding the factors that are contributing to our predictions."
   ]
  },
  {
   "cell_type": "code",
   "execution_count": null,
   "id": "7d78cadb",
   "metadata": {},
   "outputs": [],
   "source": [
    "from sklearn.ensemble import RandomForestClassifier\n",
    "rfcl = RandomForestClassifier(n_estimators = 50, random_state=1,max_features=12)\n",
    "rfcl = rfcl.fit(X_train_scaled, y_train)\n",
    "y_predict = rfcl.predict(X_test_scaled)\n",
    "#Get all scores\n",
    "acc, rec,prec,f1,auc=score_rep(rfcl,y_predict)\n",
    "# Append to list of scores\n",
    "model_results.append([\"Random Forest\",acc, rec,prec,f1,auc])"
   ]
  },
  {
   "cell_type": "code",
   "execution_count": null,
   "id": "3d09afa0",
   "metadata": {},
   "outputs": [],
   "source": [
    "feat_importances = pd.Series(rfcl.feature_importances_, index=x.columns)\n",
    "feat_importances.nlargest(15).plot(kind='barh')\n",
    "plt.title(\"Top 15 important features\")\n",
    "plt.show()"
   ]
  },
  {
   "cell_type": "markdown",
   "id": "29bf5828",
   "metadata": {},
   "source": [
    "+ It is interesting to see that fnlwgt was the top feature which did not appear as significant in logistic regression nor decision trees. However, it makes sense that it would be an important variable because fnlwgt has an almost equal distribution within the target classes of <=50k and >50k income.\n",
    "\n",
    "+ On the other hand, age, education.num and capital.gain were some of the top features in the other models as well which was consistant. These 3 features makes intuitive sense to have an impact on how much one will earn because regardless of the job, someone that is older and has more experience will have a higher income, just like education. Also many people in our dataset report 0 capital gains but the ones that do report capital gains will have a boost on their income. \n",
    "\n",
    "+ Interestingly, self employed is one of the top 15 important features.\n",
    "+ relationship_Husband is the 7th top feature which is interesting because it's way higher in list than relationship_Wife which goes to say how men do show to have higher income than women as seen on the EDA.\n"
   ]
  },
  {
   "cell_type": "markdown",
   "id": "f6e97fae",
   "metadata": {},
   "source": [
    "#### The precision was not as good as decision tree with 87%, however recall was more than doubled from decision tree with 46% with a threshold of 0.7. The AUC was the best so far at 78%."
   ]
  },
  {
   "cell_type": "markdown",
   "id": "ce2eca76",
   "metadata": {},
   "source": [
    "# Naive Bayes"
   ]
  },
  {
   "cell_type": "markdown",
   "id": "4ba33d9a",
   "metadata": {},
   "source": [
    "+ While there is some concern about independence between expalnatory variables, it is impossible to make sure that there is complete independence in the real world so we will still move forward with this model.\n",
    "+ After testing multiple binarize values and different values for alpha the best naive bayes model was a bernoulli with alpha 0.5 and binarize of 0.07.\n",
    "+ This makes logical sense since is our target is descrete and binary."
   ]
  },
  {
   "cell_type": "code",
   "execution_count": null,
   "id": "35ef5cd0",
   "metadata": {},
   "outputs": [],
   "source": [
    "from sklearn.naive_bayes import MultinomialNB\n",
    "from sklearn.naive_bayes import BernoulliNB\n",
    "\n",
    "# Running model with different parameters\n",
    "\n",
    "alpha_list=[0.1,0.5,0.7,1.0,5]\n",
    "binarize_list=[0.0,0.05,0.07,0.09,2]\n",
    "multi_result=[]\n",
    "bernou_result=[]\n",
    "\n",
    "for i in (alpha_list):\n",
    "    for j in (binarize_list):\n",
    "        clf_bnb = BernoulliNB(alpha=i, binarize=j)\n",
    "        bern=clf_bnb.fit(X_train_scaled, y_train)\n",
    "        y_hat=bern.predict(X_test_scaled)\n",
    "        rec = mt.recall_score(y_test,y_hat)\n",
    "        bernou_result.append(rec)\n",
    "        \n",
    "print(\"The best Bernoulli recall was %.2f\"%(max(bernou_result)))\n"
   ]
  },
  {
   "cell_type": "code",
   "execution_count": null,
   "id": "608a34b6",
   "metadata": {},
   "outputs": [],
   "source": [
    "# Run again and best parameters\n",
    "clf_bnb = BernoulliNB(alpha=0.5, binarize=0.07)\n",
    "bern=clf_bnb.fit(X_train_scaled, y_train)\n",
    "y_hat=bern.predict(X_test_scaled)\n",
    "acc, rec,prec,f1,auc=score_rep(bern,y_hat)\n",
    "model_results.append([\"NaiveBayes Bernoulli\",acc, rec,prec,f1,auc])"
   ]
  },
  {
   "cell_type": "code",
   "execution_count": null,
   "id": "57686d48",
   "metadata": {},
   "outputs": [],
   "source": [
    "from sklearn import metrics\n",
    "bern=clf_bnb.fit(X_train_scaled, y_train)\n",
    "y_hat=bern.predict(X_test_scaled)\n",
    "cm=metrics.confusion_matrix(y_test, y_hat,labels=[0, 1])\n",
    "\n",
    "df_cm = pd.DataFrame(cm, index = [i for i in [\"<=50k\",\">50k\"]],\n",
    "                  columns = [i for i in [\"<=50k\",\">50k\"]])\n",
    "plt.figure(figsize = (7,5))\n",
    "sns.heatmap(df_cm, annot=True ,fmt='g')"
   ]
  },
  {
   "cell_type": "markdown",
   "id": "e6600a0d",
   "metadata": {},
   "source": [
    "#### The precision for Bernoulli Naive Bayes was the lowest at 53% with a threshold of 0.7. The AUC is 77% which is as good as the Logistic Regression."
   ]
  },
  {
   "cell_type": "markdown",
   "id": "f3f194ef",
   "metadata": {},
   "source": [
    "# KNN"
   ]
  },
  {
   "cell_type": "markdown",
   "id": "9a0bbe7b",
   "metadata": {},
   "source": [
    "+ We tried KNN models for 5,13,16,18 and 25 nearest neighbors and metrics - cosine, euclidean and manhattan. We saw the best results for recall, F1 and AUC in the KNN model with 5 nearest neighbors and cosine metric.\n",
    "+ Cosine being the best score makes sense since it is able to pick up on the difference between the 2 groups more so than the other 2 distance metrics as cosine is not influenced by the size of the data. Cosine measures angles instead of magnitude."
   ]
  },
  {
   "cell_type": "code",
   "execution_count": null,
   "id": "fab47fa6",
   "metadata": {},
   "outputs": [],
   "source": [
    "# Running KNN\n",
    "from sklearn.model_selection import StratifiedShuffleSplit\n",
    "from sklearn.neighbors import KNeighborsClassifier\n",
    "from sklearn.metrics import accuracy_score\n",
    "#from IPython.html import widgets\n",
    "from ipywidgets import widgets\n",
    "\n",
    "# Predictions useing different K's and Cosine as the metric\n",
    "print(\"METRIC COSINE\")\n",
    "for i in ([5,13,16,18,25]):\n",
    "    clf = KNeighborsClassifier(n_neighbors=i, weights='uniform', metric='cosine')\n",
    "    clf=clf.fit(X_train_scaled, y_train)\n",
    "    y_hat=clf.predict(X_test_scaled)\n",
    "    print(\"With %d neighbors\"% (i))\n",
    "    acc, rec,prec,f1,auc=score_rep(clf,y_hat)"
   ]
  },
  {
   "cell_type": "code",
   "execution_count": null,
   "id": "126aafc0",
   "metadata": {},
   "outputs": [],
   "source": [
    "# Predictions useing different K's and Euclidean as the metric\n",
    "print(\"METRIC EUCLIDEAN\")\n",
    "for i in ([5,16,18]):\n",
    "    clf = KNeighborsClassifier(n_neighbors=i, weights='uniform', metric='euclidean')\n",
    "    clf=clf.fit(X_train_scaled, y_train)\n",
    "    y_hat=clf.predict(X_test_scaled)\n",
    "    print(\"With %d neighbors\"%(i))\n",
    "    acc, rec,prec,f1,auc=score_rep(clf,y_hat)"
   ]
  },
  {
   "cell_type": "code",
   "execution_count": null,
   "id": "d3ff222e",
   "metadata": {},
   "outputs": [],
   "source": [
    "# Predictions useing different K's and Manhattan as the metric\n",
    "print(\"METRIC MANHATTAN\")\n",
    "for i in ([5,13,16,18]):\n",
    "    clf = KNeighborsClassifier(n_neighbors=i, weights='uniform', metric='manhattan')\n",
    "    clf=clf.fit(X_train_scaled, y_train)\n",
    "    y_hat=clf.predict(X_test_scaled)\n",
    "    print(\"With %d neighbors\"%(i))\n",
    "    acc, rec,prec,f1,auc=score_rep(clf,y_hat)"
   ]
  },
  {
   "cell_type": "code",
   "execution_count": null,
   "id": "061b6708",
   "metadata": {},
   "outputs": [],
   "source": [
    "# SAVING the best model that had\n",
    "#    5 neighbors and cosine was the best one between recall, F1 and AUC\n",
    "clf = KNeighborsClassifier(n_neighbors=5, weights='uniform', metric='cosine')\n",
    "clf=clf.fit(X_train_scaled, y_train)\n",
    "y_hat=clf.predict(X_test_scaled)\n",
    "acc, rec,prec,f1,auc=score_rep(clf,y_hat)\n",
    "model_results.append([\"K neighbors Cosine\",acc, rec,prec,f1,auc])"
   ]
  },
  {
   "cell_type": "markdown",
   "id": "07a9749b",
   "metadata": {},
   "source": [
    "#### The precision for KNN model with 5 nearest neighbors and cosine metric was 77% with a threshold of 0.7. The AUC is 76%."
   ]
  },
  {
   "cell_type": "markdown",
   "id": "61bbab39",
   "metadata": {},
   "source": [
    "# Modeling and Evaluation: Part 4"
   ]
  },
  {
   "cell_type": "markdown",
   "id": "a8771e63",
   "metadata": {},
   "source": [
    "***Comparison of all models***"
   ]
  },
  {
   "cell_type": "code",
   "execution_count": null,
   "id": "10c6c8c0",
   "metadata": {},
   "outputs": [],
   "source": [
    "results_1 = pd.DataFrame(model_results , columns=['Model','Accuracy','Recall','Precision','F1','AUC'])"
   ]
  },
  {
   "cell_type": "code",
   "execution_count": null,
   "id": "ef168890",
   "metadata": {},
   "outputs": [],
   "source": [
    "results_1"
   ]
  },
  {
   "cell_type": "markdown",
   "id": "141ead93",
   "metadata": {},
   "source": [
    "When changing thresholds, we found that indeed the best cut off was a 0.70 without impacting recall completely. We do care about the predictions being pure >50K but we also can't completly dismiss recall to lower than 30% because we also do want to get enough size sample to analyze. It was very interesting to see how KNN scores almost didn't change much within the 0.6-0.7 cut off, while the rest of the models did."
   ]
  },
  {
   "cell_type": "markdown",
   "id": "32a21006",
   "metadata": {},
   "source": [
    "+ The best model was Random Forest. This model was selected as the best since it had the highest AUC score of 78%, the best Accuracy score of 85% and one of the top Precision score of 87%.\n",
    "+ Out of those predicted >50K, it predicted 87% correctly. \n",
    "\n",
    "+ We are aware that Naive Bayes was able to capture 74% of those that earn >50k unlike Random Forest with 46% (recall) but Naive Bayes incorrectly predictes 48% (100%-52% precision) saying they do earn >50K when they don't, therefore that model can't be selected. We would not be correctly making inferences on the actual population that earns >50k as it would include a lot that do not earn >50K.\n"
   ]
  },
  {
   "cell_type": "markdown",
   "id": "d5fa7dbc",
   "metadata": {},
   "source": [
    "***Printing the ROC Curve of all models***"
   ]
  },
  {
   "cell_type": "code",
   "execution_count": null,
   "id": "94af2bae",
   "metadata": {},
   "outputs": [],
   "source": [
    "#AUC ROC curve\n",
    "from sklearn.metrics import roc_auc_score\n",
    "from sklearn.metrics import roc_curve\n",
    "\n",
    "logit_roc_auc = roc_auc_score(y_test, lr.predict(X_test_scaled))\n",
    "fpr, tpr, thresholds = roc_curve(y_test, lr.predict_proba(X_test_scaled)[:,1])\n",
    "fpr2, tpr2, thresholds2 = roc_curve(y_test, svm_clf.decision_function(X_test_scaled))\n",
    "fpr3, tpr3, thresholds3 = roc_curve(y_test, rfcl.predict_proba(X_test_scaled)[:,1])\n",
    "fpr4, tpr4, thresholds4 = roc_curve(y_test, clf.predict_proba(X_test_scaled)[:,1])\n",
    "fpr5, tpr5, thresholds5 = roc_curve(y_test, bern.predict_proba(X_test_scaled)[:,1])\n",
    "fpr6, tpr6, thresholds6 = roc_curve(y_test, dTreeR.predict_proba(X_test_scaled)[:,1])\n",
    "\n",
    "plt.figure(figsize=(12,6))\n",
    "plt.plot(fpr, tpr, label='Logistic Regression (area = %0.2f)' % logit_roc_auc)\n",
    "plt.plot(fpr2, tpr2, label='SVM (area = %0.2f)' % results_1[1:2][\"AUC\"])\n",
    "plt.plot(fpr3, tpr3, label='Random Forest (area = %0.2f)' % results_1[3:4][\"AUC\"])\n",
    "plt.plot(fpr4, tpr4, label='KNN (area = %0.2f)' % results_1[5:6][\"AUC\"])\n",
    "plt.plot(fpr5, tpr5, label='Naive Bayes (area = %0.2f)' % results_1[4:5][\"AUC\"])\n",
    "plt.plot(fpr6, tpr6, label='Decision Classifier (area = %0.2f)' % results_1[2:3][\"AUC\"])\n",
    "\n",
    "plt.plot([0, 1], [0, 1],'r--')\n",
    "plt.xlim([0.0, 1.0])\n",
    "plt.ylim([0.0, 1.05])\n",
    "plt.xlabel('False Positive Rate')\n",
    "plt.ylabel('True Positive Rate')\n",
    "plt.title('Receiver operating characteristic')\n",
    "plt.legend(loc=\"lower right\")\n",
    "plt.savefig('Log_ROC')\n",
    "plt.show()\n",
    "\n",
    "           "
   ]
  },
  {
   "cell_type": "markdown",
   "id": "704a5074",
   "metadata": {},
   "source": [
    "**This table assesses the ability for each of our models to perform with a 0.7 threshold which we found to be the best for all models. Next, we will take our top 2 performing models, Random Forest and Logistic Regression and do a statistical comparison of false positive probability distribution of both models on the test data.**"
   ]
  },
  {
   "cell_type": "markdown",
   "id": "8e4c3cd3",
   "metadata": {},
   "source": [
    "***Statistical Comparison of the best two models***"
   ]
  },
  {
   "cell_type": "code",
   "execution_count": null,
   "id": "3de23873",
   "metadata": {},
   "outputs": [],
   "source": [
    "import scipy.stats as stats\n",
    "\n",
    "# Gettint the probability distribution of False positives of the best two models (Random Forest and Logistic Regression) \n",
    "predsrf = np.where(rfcl.predict_proba(X_test_scaled)[:,1] > 0.7, 1, 0)\n",
    "prob_rf=pd.DataFrame({\"prediProb\":rfcl.predict_proba(X_test_scaled)[:,1], \"pred\": predsrf, \"actual\":y_test})\n",
    "\n",
    "preds = np.where(dTreeR.predict_proba(X_test_scaled)[:,1] > 0.7, 1, 0)\n",
    "prob_df=pd.DataFrame({\"prediProb\":lr.predict_proba(X_test_scaled)[:,1], \"pred\": preds, \"actual\":y_test})\n",
    "\n",
    "tpRf=prob_rf[(prob_df[\"actual\"]==0) & (prob_df[\"pred\"]==1)][\"prediProb\"]\n",
    "tplr=prob_df[(prob_df[\"actual\"]==0) & (prob_df[\"pred\"]==1)][\"prediProb\"]\n"
   ]
  },
  {
   "cell_type": "code",
   "execution_count": null,
   "id": "e2505fef",
   "metadata": {},
   "outputs": [],
   "source": [
    "# Mean is around the same so we can proceed with t-test\n",
    "print(np.mean(tpRf),np.mean(tplr))"
   ]
  },
  {
   "cell_type": "code",
   "execution_count": null,
   "id": "323762b6",
   "metadata": {},
   "outputs": [],
   "source": [
    "from statsmodels.stats.weightstats import ttest_ind\n",
    "import numpy as np\n",
    "import pingouin as pg\n",
    "\n",
    "# Goal: RandomForest<LogisticRegression\n",
    "#If the False positive probability distribution of Random Forest is less than False positive probability distribution of Logistic Regression\n",
    "# Hypothesis:\n",
    "# Null : Mean RF >= mean LR\n",
    "# Alternative : Mean RF < Mean LR\n",
    "\n",
    "pg.ttest(tpRf, tplr,alternative='less')\n"
   ]
  },
  {
   "cell_type": "code",
   "execution_count": null,
   "id": "7e326869",
   "metadata": {},
   "outputs": [],
   "source": [
    "pip install pingouin"
   ]
  },
  {
   "cell_type": "markdown",
   "id": "fb00e4ce",
   "metadata": {},
   "source": [
    "###### There is not enough evidence to suggest that the mean of the probability distribution of false positives of Random Forest is less than the mean of the probability distribution of false positives of Logistic Regression (p_val=0.16). We are 95% confident that the mean of the pobability distribution of false positives lies between negative infinity to 0.04."
   ]
  },
  {
   "cell_type": "markdown",
   "id": "481e529d",
   "metadata": {},
   "source": [
    "# Modeling and Evaluation: Part 5\n",
    "- ##### Which attributes from your analysis are most important? Use proper methods discussed in class to evaluate the importance of different attributes. Discuss the results and hypothesize about why certain attributes are more important than others for a given classification task."
   ]
  },
  {
   "cell_type": "markdown",
   "id": "36ccc087",
   "metadata": {},
   "source": [
    "#### Choosing the best model:\n",
    "+ Highest Accuracy: Random Forest\n",
    "+ Highest Recall: Naive Bayes Bernoulli\n",
    "+ Highest Precision: Decision Classifier\n",
    "+ Highest F-Measure: Naive Bayes\n",
    "+ Highest AUC: Random Forest\n",
    "\n",
    "#### As we care the most about Precision, we will choose the Random Forest model for our analysis. We can also see that the Random Forest model also has  a higher F-measure and AUC.\n",
    "\n",
    "+ Age, education.num, capital.gain, married-civ, and hours per week consistently were the top feature in our different models. These attribues are intuitive because reguardless of the job, someone that is older, works more, and has more experience will have a higher income. Also those in our dataset that reported capital gains will have an increased income from those gains. Interestingly married-civ seems to consistenly show up which could be because a married civilian family would likely have stability and support.\n",
    "\n",
    "+ Capital gains will increase income while capital loss might bring their overall income below 50K, that could explain why capital loss is not as influential. Considering the real world trend that men make more money than women, it makes sense that relationship_husband would influence making greater than 50K more so than relationship_wife which we see is not as influential.\n",
    "    \n",
    "+ There are a lot of occupations that do not seem to be as influental for income such as local gov, which makes sense since these occupations make less money making them less influential. The non profits and people that don't work of course don't make more than 50K making them not helpful at predicting, true positive, people earning greater than 50K.\n"
   ]
  },
  {
   "cell_type": "markdown",
   "id": "1d53bf50",
   "metadata": {},
   "source": [
    "# Modeling and Evaluation: Part 6"
   ]
  },
  {
   "cell_type": "markdown",
   "id": "5899c9c8",
   "metadata": {},
   "source": [
    "#### Naive Bayes:\n",
    "\n",
    "Pros: \n",
    "+ As long as the assumption of independence between predictors is true Naive Bayes will perform better than most any other model\n",
    "+ It requires a smaller amount of training data compared to other models to estimate the test data accurately.\n",
    "+ Naive Bayes is easy to implement\n",
    "\n",
    "Cons:\n",
    "+ The main limitation of Naive Bayes is when the assumption of independence for predictors is broken. In real life, very often we cannot get a set of predictors that are completely independent. \n",
    "+ It is possible to have a level of a categorical variable not represented in the training data but is represented in the test data. The model will not be able to make a prediction with this specific factor. It is important to make sure each of our factor levels are represented in the training and test data sets. "
   ]
  },
  {
   "cell_type": "markdown",
   "id": "3b33dea7",
   "metadata": {},
   "source": [
    "#### Decision tree:\n",
    "\n",
    "Pros:\n",
    "+ They do not need a lot of data pre-processing\n",
    "+ They do not require normalization or scaling of the data.\n",
    "+ They can handle missing values better than a lot of other models.\n",
    "+ Decision trees are intuitive and easy to explain to many different people with different backgrounds.\n",
    "\n",
    "Cons:\n",
    "+ Small changes in the data can cause large changes in the overall structer of the decision tree.\n",
    "+ Some decision trees can have very complex calculations compared to other algorithms.\n",
    "+ Training a decision tree model is often longer and more expensive especially when taking into account the complexity of the tree.\n",
    "+ We cannot apply regression and make predictions for continuous values using the decision tree algorithm."
   ]
  },
  {
   "cell_type": "markdown",
   "id": "8b30f1d9",
   "metadata": {},
   "source": [
    "#### Random Forest\n",
    "\n",
    "Pros:\n",
    "+ Random forest reduces overfitting often seen in decision trees to help to improve accuracy.\n",
    "+ It is flexible when applying to both classification and regression problems\n",
    "+ It performs well when working with both categorical and continuous values and automatically deals with missing values in the data.\n",
    "+ It does not require normalization of data because it uses a rule-based approach.\n",
    "\n",
    "Cons:\n",
    "+ It requires a lot of computational power and storage because it builds numerous trees to and combines their outputs. \n",
    "+ It also requires a lot of time for training due to the large number of trees it will build and combine.\n",
    "+ Sometimes it is difficult to interperate and we cannot determine the significance of each variable in the model. "
   ]
  },
  {
   "cell_type": "markdown",
   "id": "e41298c6",
   "metadata": {},
   "source": [
    "#### K-Nearest Neighbor (KNN)\n",
    "\n",
    "Pros:\n",
    "+ It can have quick calculation time\n",
    "+ It is a simple algorithm to interperate and explain\n",
    "+ KNN is versatile and can be used for regression and classification\n",
    "+ Highly accurate even when you compare with more closely supervised models. \n",
    "+ KNN does not make any assumptions about the data or need to tune parameters other than the value of K\n",
    "\n",
    "Cons:\n",
    "+ As with many models, the accuracy depends on the quality of the datat that is gathered\n",
    "+ Making predictions on large data can take a long time as every datapoint is used for each caluculation\n",
    "+ Scaling is very important in KNN. If data are not scaled the results will not be accurate.\n",
    "+ It is computationally intensive and also requires the use of a lot of memory to store the training data"
   ]
  },
  {
   "cell_type": "markdown",
   "id": "76f7c67b",
   "metadata": {},
   "source": [
    "#### Logistic Regression\n",
    "\n",
    "Pros:\n",
    "+ Easy to implement, interprete, and effecient to train.\n",
    "+ It can easliy be used on mupliple classes (multiple logisic regression).\n",
    "+ Provides predicition probabilities and a threshold that can be adjusted to make the model more accurate. \n",
    "+ It has high accuracy and perfomrs best when the data is able to be separated linearly. \n",
    "+ Coefficients are easy to interperate to asses their importance in the model\n",
    "+ Less likely to overfit but we need to be careful when using high dimensional datasets\n",
    "\n",
    "Cons:\n",
    "+ A main limitation of logistic regression is the assumption of linearity between the explanitory variables and the response varaibles. It wants to consructs a linear boundary and sometimes that does not fit our data well\n",
    "+ Specifically, logistic regression has the assumption that the independent variables are linearly related to the log odds.\n",
    "+ It is only used to predict discrete outputs. Our response is normally binary or at least has a limited number of possible outcomes.\n",
    "+ An assumption that often times has a hard time holding up in the real world is that there is no multicolinearity between the independent variables.\n",
    "+ It can be difficult to understand complex relationships and often neural networks can easily outperform this model"
   ]
  },
  {
   "cell_type": "markdown",
   "id": "dd3651ec",
   "metadata": {},
   "source": [
    "#### SVM\n",
    "\n",
    "Pros:\n",
    "+ It gives a clear visualization of the separation between data points with a well defined margin of separation. \n",
    "+ SVM is very effecient when working in high dimensional spaces even if they are difficult to visualize.\n",
    "+ It uses memory effeciently because it only uses a subset of the training points in the decision function (the support vectors)\n",
    "\n",
    "Cons:\n",
    "+ It struggles computationally when working with large data because it has a longer training time\n",
    "+ It is susceptable to a lot of noise and outliers can drastically change the support vectors.\n",
    "+ It does not provide probability estimates on its own but they can be obtained using cross validation."
   ]
  },
  {
   "cell_type": "markdown",
   "id": "48f8666b",
   "metadata": {},
   "source": [
    "# Deployment\n",
    "\n",
    "Our model would be very helpful for kids growing up in the world today and could be used by teachers to educate their students on the factors that help you make more money in today's society. It is important to know which factors you cannot change that are working against you in our society so you can focus on factors that you can change to give yourself a better life. As our model focuses on precision, we care the most about which positive results (people making >50K) are actually positive. So by this definition, we will focus on factors that really are halping or influencing someone make >50K. This kind of model would be perfect for schools to be able to educate their kids so they can make life choices that will benefit themselves the most in the future.\n",
    "\n",
    "We could measure the value of this model by taking census data for kids that were both exposed to this information and not exposed to this information. After a specified amount of time we could see how many from each groups are making >50K. Out of those making >50K, how many fall in categoreies that have factors that are working against them in society and have they been able to break away from those trends.\n",
    "\n",
    "We could collect more data on different age distribution, years of work experience and work status (contractor versus salary). This might give us more insights and improve the model. \n",
    "\n",
    "This model would need to be updated due to population drift from age, gender and societal distribution. However, it could wait 5 to 10 years because many jobs that are lucrative do not change very much over time. Also, politics does not change very quickly so any societal issues that are making it difficult for certain groups of people to make >50K would not change very quickly. If there are any world events like a war or a pandemic then the model would have to be retrained sooner.\n",
    "\n",
    "\n"
   ]
  },
  {
   "cell_type": "code",
   "execution_count": null,
   "id": "15bb4097",
   "metadata": {},
   "outputs": [],
   "source": []
  },
  {
   "cell_type": "code",
   "execution_count": null,
   "id": "de76991a",
   "metadata": {},
   "outputs": [],
   "source": []
  }
 ],
 "metadata": {
  "kernelspec": {
   "display_name": "Python 3",
   "language": "python",
   "name": "python3"
  },
  "language_info": {
   "codemirror_mode": {
    "name": "ipython",
    "version": 3
   },
   "file_extension": ".py",
   "mimetype": "text/x-python",
   "name": "python",
   "nbconvert_exporter": "python",
   "pygments_lexer": "ipython3",
   "version": "3.8.8"
  }
 },
 "nbformat": 4,
 "nbformat_minor": 5
}

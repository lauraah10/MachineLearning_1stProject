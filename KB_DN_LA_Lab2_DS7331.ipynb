{
 "cells": [
  {
   "cell_type": "markdown",
   "id": "1c2f7be9",
   "metadata": {},
   "source": [
    "# Lab Two: Classification\n",
    "### Laura Ahumada, Kevin Boyd, Shikha Pandey, Duy Nguyen\n",
    "##### Southern Methodist University\n",
    "##### Fall, 2022"
   ]
  },
  {
   "cell_type": "markdown",
   "id": "1b4b3a08",
   "metadata": {},
   "source": [
    "# Goal: Build upon the previous analysis by adding new classificaiton algorithms, apply appropriate cross validation, and explain which model works the best. \n",
    "\n",
    "- ##### We will continue to use our previous income dataset for analysis and modeling\n"
   ]
  },
  {
   "cell_type": "markdown",
   "id": "c1f394fb",
   "metadata": {},
   "source": [
    "### Libraries"
   ]
  },
  {
   "cell_type": "code",
   "execution_count": 67,
   "id": "eaac6f9f",
   "metadata": {},
   "outputs": [],
   "source": [
    "import pandas as pd\n",
    "import seaborn as sns\n",
    "import numpy as np\n",
    "from sklearn.model_selection import train_test_split, cross_val_score\n",
    "from sklearn.linear_model import LogisticRegression\n",
    "import statsmodels.api as sm\n",
    "from sklearn.metrics import roc_auc_score\n",
    "from sklearn.metrics import roc_curve\n",
    "\n",
    "\n",
    "from sklearn.preprocessing import StandardScaler\n",
    "from sklearn.decomposition import PCA\n",
    "\n",
    "from sklearn import metrics as mt\n",
    "import matplotlib.pyplot as plt\n",
    "from sklearn.svm import SVC\n",
    "import os\n"
   ]
  },
  {
   "cell_type": "markdown",
   "id": "7852f236",
   "metadata": {},
   "source": [
    "### Import Data"
   ]
  },
  {
   "cell_type": "code",
   "execution_count": 68,
   "id": "7088a41f",
   "metadata": {},
   "outputs": [],
   "source": [
    "df = pd.read_csv('adult.csv')"
   ]
  },
  {
   "cell_type": "markdown",
   "id": "dc99c579",
   "metadata": {},
   "source": [
    "# Data Preparation: Part 1\n",
    "- ##### Define and prepare your class variables. Use proper variable representations (int, float, one-hot, etc.). Use pre-processing methods (as needed) for dimensionality reduction, scaling, etc. Remove variables that are not needed/useful for the analysis."
   ]
  },
  {
   "cell_type": "code",
   "execution_count": 69,
   "id": "240e85b5",
   "metadata": {},
   "outputs": [
    {
     "data": {
      "text/plain": [
       "False"
      ]
     },
     "execution_count": 69,
     "metadata": {},
     "output_type": "execute_result"
    }
   ],
   "source": [
    "df.isnull().values.any()"
   ]
  },
  {
   "cell_type": "code",
   "execution_count": 70,
   "id": "08d7f20a",
   "metadata": {},
   "outputs": [
    {
     "data": {
      "text/plain": [
       "Index(['age', 'workclass', 'fnlwgt', 'education', 'education.num',\n",
       "       'marital.status', 'occupation', 'relationship', 'race', 'sex',\n",
       "       'capital.gain', 'capital.loss', 'hours.per.week', 'native.country',\n",
       "       'income'],\n",
       "      dtype='object')"
      ]
     },
     "execution_count": 70,
     "metadata": {},
     "output_type": "execute_result"
    }
   ],
   "source": [
    "df.columns"
   ]
  },
  {
   "cell_type": "code",
   "execution_count": 71,
   "id": "07fe7015",
   "metadata": {},
   "outputs": [
    {
     "name": "stdout",
     "output_type": "stream",
     "text": [
      "Index(['?', 'Federal-gov', 'Local-gov', 'Never-worked', 'Private',\n",
      "       'Self-emp-inc', 'Self-emp-not-inc', 'State-gov', 'Without-pay'],\n",
      "      dtype='object')\n",
      "Index(['10th', '11th', '12th', '1st-4th', '5th-6th', '7th-8th', '9th',\n",
      "       'Assoc-acdm', 'Assoc-voc', 'Bachelors', 'Doctorate', 'HS-grad',\n",
      "       'Masters', 'Preschool', 'Prof-school', 'Some-college'],\n",
      "      dtype='object')\n",
      "Index(['Divorced', 'Married-AF-spouse', 'Married-civ-spouse',\n",
      "       'Married-spouse-absent', 'Never-married', 'Separated', 'Widowed'],\n",
      "      dtype='object')\n",
      "Index(['?', 'Adm-clerical', 'Armed-Forces', 'Craft-repair', 'Exec-managerial',\n",
      "       'Farming-fishing', 'Handlers-cleaners', 'Machine-op-inspct',\n",
      "       'Other-service', 'Priv-house-serv', 'Prof-specialty', 'Protective-serv',\n",
      "       'Sales', 'Tech-support', 'Transport-moving'],\n",
      "      dtype='object')\n",
      "Index(['Husband', 'Not-in-family', 'Other-relative', 'Own-child', 'Unmarried',\n",
      "       'Wife'],\n",
      "      dtype='object')\n",
      "Index(['Amer-Indian-Eskimo', 'Asian-Pac-Islander', 'Black', 'Other', 'White'], dtype='object')\n",
      "Index(['Female', 'Male'], dtype='object')\n",
      "Index(['?', 'Cambodia', 'Canada', 'China', 'Columbia', 'Cuba',\n",
      "       'Dominican-Republic', 'Ecuador', 'El-Salvador', 'England', 'France',\n",
      "       'Germany', 'Greece', 'Guatemala', 'Haiti', 'Holand-Netherlands',\n",
      "       'Honduras', 'Hong', 'Hungary', 'India', 'Iran', 'Ireland', 'Italy',\n",
      "       'Jamaica', 'Japan', 'Laos', 'Mexico', 'Nicaragua',\n",
      "       'Outlying-US(Guam-USVI-etc)', 'Peru', 'Philippines', 'Poland',\n",
      "       'Portugal', 'Puerto-Rico', 'Scotland', 'South', 'Taiwan', 'Thailand',\n",
      "       'Trinadad&Tobago', 'United-States', 'Vietnam', 'Yugoslavia'],\n",
      "      dtype='object')\n",
      "Index(['<=50K', '>50K'], dtype='object')\n"
     ]
    }
   ],
   "source": [
    "cat_cols = df.select_dtypes(exclude=['int64','int32'])\n",
    "for i in cat_cols:\n",
    "    print(cat_cols[i].value_counts().sort_index().index)"
   ]
  },
  {
   "cell_type": "markdown",
   "id": "2355d58d",
   "metadata": {},
   "source": [
    "### Things to address:\n",
    "- ##### Incorrect values \"?\" values\n",
    "- ##### Decrease categories in native.countries to immigrants or not (1 or 0)\n",
    "- ##### Deleting education since it is the same information as education.num\n",
    "- ##### Encode response variable \"income\" to 1 or 0\n",
    "- ##### Encode all categorical variables to 1 or 0, rather than ranked numbers"
   ]
  },
  {
   "cell_type": "markdown",
   "id": "9893cce8",
   "metadata": {},
   "source": [
    "Despite the \"?\" values taking around 5% of their respective columns \"workclass\", \"occupation\", \"native.country\", they will not be removed due since it might be due to citizens not wanting to report those 3 things to the government. However, their incomes were still reported among other factors so the missing values will be treated another category \"Unknown\""
   ]
  },
  {
   "cell_type": "code",
   "execution_count": 72,
   "id": "bbae85f2",
   "metadata": {},
   "outputs": [
    {
     "data": {
      "text/plain": [
       "age               0.000000\n",
       "workclass         5.638647\n",
       "fnlwgt            0.000000\n",
       "education         0.000000\n",
       "education.num     0.000000\n",
       "marital.status    0.000000\n",
       "occupation        5.660146\n",
       "relationship      0.000000\n",
       "race              0.000000\n",
       "sex               0.000000\n",
       "capital.gain      0.000000\n",
       "capital.loss      0.000000\n",
       "hours.per.week    0.000000\n",
       "native.country    1.790486\n",
       "income            0.000000\n",
       "dtype: float64"
      ]
     },
     "execution_count": 72,
     "metadata": {},
     "output_type": "execute_result"
    }
   ],
   "source": [
    "df.isin(['?']).sum(axis=0) * 100 / len(df)"
   ]
  },
  {
   "cell_type": "code",
   "execution_count": 73,
   "id": "a6ca33fd",
   "metadata": {},
   "outputs": [],
   "source": [
    "df = df.replace({'?':'Unknown'})"
   ]
  },
  {
   "cell_type": "code",
   "execution_count": 74,
   "id": "95d2d647",
   "metadata": {},
   "outputs": [
    {
     "data": {
      "text/plain": [
       "age               0.0\n",
       "workclass         0.0\n",
       "fnlwgt            0.0\n",
       "education         0.0\n",
       "education.num     0.0\n",
       "marital.status    0.0\n",
       "occupation        0.0\n",
       "relationship      0.0\n",
       "race              0.0\n",
       "sex               0.0\n",
       "capital.gain      0.0\n",
       "capital.loss      0.0\n",
       "hours.per.week    0.0\n",
       "native.country    0.0\n",
       "income            0.0\n",
       "dtype: float64"
      ]
     },
     "execution_count": 74,
     "metadata": {},
     "output_type": "execute_result"
    }
   ],
   "source": [
    "df.isin(['?']).sum(axis=0) * 100 / len(df)"
   ]
  },
  {
   "cell_type": "markdown",
   "id": "a0f55094",
   "metadata": {},
   "source": [
    "- ##### \"Native Country\": Replace Non-US with \"Immigrant\""
   ]
  },
  {
   "cell_type": "code",
   "execution_count": 75,
   "id": "0542f806",
   "metadata": {},
   "outputs": [],
   "source": [
    "# Changing Native Country since the rest of US by country is small that they could all be combined to single to have a greater weight\n",
    "df['IsImmigrant'] = np.where(df['native.country']!= 'United-States', 1, 0)\n",
    "del df['native.country']"
   ]
  },
  {
   "cell_type": "code",
   "execution_count": 76,
   "id": "3cd3d207",
   "metadata": {},
   "outputs": [
    {
     "data": {
      "text/plain": [
       "0    89.585701\n",
       "1    10.414299\n",
       "Name: IsImmigrant, dtype: float64"
      ]
     },
     "execution_count": 76,
     "metadata": {},
     "output_type": "execute_result"
    }
   ],
   "source": [
    "df.IsImmigrant.value_counts(normalize=True) * 100"
   ]
  },
  {
   "cell_type": "code",
   "execution_count": 77,
   "id": "b1aa6af3",
   "metadata": {},
   "outputs": [],
   "source": [
    "# Deleting education\n",
    "del df['education']"
   ]
  },
  {
   "cell_type": "markdown",
   "id": "a316b544",
   "metadata": {},
   "source": [
    "- ##### \"Income\": As 1 and 0 "
   ]
  },
  {
   "cell_type": "code",
   "execution_count": 78,
   "id": "51ccfbca",
   "metadata": {
    "scrolled": true
   },
   "outputs": [
    {
     "data": {
      "text/plain": [
       "<=50K    75.919044\n",
       ">50K     24.080956\n",
       "Name: income, dtype: float64"
      ]
     },
     "execution_count": 78,
     "metadata": {},
     "output_type": "execute_result"
    }
   ],
   "source": [
    "# Checing the target variable distribution\n",
    "df.income.value_counts(normalize=True) * 100"
   ]
  },
  {
   "cell_type": "code",
   "execution_count": 79,
   "id": "15598868",
   "metadata": {},
   "outputs": [],
   "source": [
    "df['income'] = df['income'].map({'<=50K': 0, '>50K': 1}).astype(int) "
   ]
  },
  {
   "cell_type": "code",
   "execution_count": 80,
   "id": "a7f3e523",
   "metadata": {
    "scrolled": true
   },
   "outputs": [
    {
     "data": {
      "text/plain": [
       "0    75.919044\n",
       "1    24.080956\n",
       "Name: income, dtype: float64"
      ]
     },
     "execution_count": 80,
     "metadata": {},
     "output_type": "execute_result"
    }
   ],
   "source": [
    "df.income.value_counts(normalize=True) * 100"
   ]
  },
  {
   "cell_type": "markdown",
   "id": "60fb20a6",
   "metadata": {},
   "source": [
    "- ##### Encoding Categorical Variables "
   ]
  },
  {
   "cell_type": "code",
   "execution_count": 81,
   "id": "25e4b33b",
   "metadata": {
    "scrolled": true
   },
   "outputs": [
    {
     "data": {
      "text/plain": [
       "age                int64\n",
       "workclass         object\n",
       "fnlwgt             int64\n",
       "education.num      int64\n",
       "marital.status    object\n",
       "occupation        object\n",
       "relationship      object\n",
       "race              object\n",
       "sex               object\n",
       "capital.gain       int64\n",
       "capital.loss       int64\n",
       "hours.per.week     int64\n",
       "income             int64\n",
       "IsImmigrant        int64\n",
       "dtype: object"
      ]
     },
     "execution_count": 81,
     "metadata": {},
     "output_type": "execute_result"
    }
   ],
   "source": [
    "df.dtypes"
   ]
  },
  {
   "cell_type": "code",
   "execution_count": 82,
   "id": "faf9ce9a",
   "metadata": {},
   "outputs": [],
   "source": [
    "df_continuous = df.select_dtypes(exclude=['object'])\n",
    "df_discrete = df.select_dtypes(exclude=['int64','int32'])"
   ]
  },
  {
   "cell_type": "code",
   "execution_count": 83,
   "id": "688b3613",
   "metadata": {},
   "outputs": [
    {
     "data": {
      "text/plain": [
       "Index(['age', 'fnlwgt', 'education.num', 'capital.gain', 'capital.loss',\n",
       "       'hours.per.week', 'income', 'IsImmigrant'],\n",
       "      dtype='object')"
      ]
     },
     "execution_count": 83,
     "metadata": {},
     "output_type": "execute_result"
    }
   ],
   "source": [
    "df_continuous.columns"
   ]
  },
  {
   "cell_type": "code",
   "execution_count": 84,
   "id": "cea8747a",
   "metadata": {},
   "outputs": [
    {
     "data": {
      "text/plain": [
       "Index(['workclass', 'marital.status', 'occupation', 'relationship', 'race',\n",
       "       'sex'],\n",
       "      dtype='object')"
      ]
     },
     "execution_count": 84,
     "metadata": {},
     "output_type": "execute_result"
    }
   ],
   "source": [
    "df_discrete.columns"
   ]
  },
  {
   "cell_type": "code",
   "execution_count": 85,
   "id": "b9616e72",
   "metadata": {},
   "outputs": [],
   "source": [
    "df=pd.get_dummies(df, columns=df_discrete.columns)"
   ]
  },
  {
   "cell_type": "code",
   "execution_count": 86,
   "id": "31eab1a0",
   "metadata": {},
   "outputs": [
    {
     "data": {
      "text/html": [
       "<div>\n",
       "<style scoped>\n",
       "    .dataframe tbody tr th:only-of-type {\n",
       "        vertical-align: middle;\n",
       "    }\n",
       "\n",
       "    .dataframe tbody tr th {\n",
       "        vertical-align: top;\n",
       "    }\n",
       "\n",
       "    .dataframe thead th {\n",
       "        text-align: right;\n",
       "    }\n",
       "</style>\n",
       "<table border=\"1\" class=\"dataframe\">\n",
       "  <thead>\n",
       "    <tr style=\"text-align: right;\">\n",
       "      <th></th>\n",
       "      <th>age</th>\n",
       "      <th>fnlwgt</th>\n",
       "      <th>education.num</th>\n",
       "      <th>capital.gain</th>\n",
       "      <th>capital.loss</th>\n",
       "      <th>hours.per.week</th>\n",
       "      <th>income</th>\n",
       "      <th>IsImmigrant</th>\n",
       "      <th>workclass_Federal-gov</th>\n",
       "      <th>workclass_Local-gov</th>\n",
       "      <th>...</th>\n",
       "      <th>relationship_Own-child</th>\n",
       "      <th>relationship_Unmarried</th>\n",
       "      <th>relationship_Wife</th>\n",
       "      <th>race_Amer-Indian-Eskimo</th>\n",
       "      <th>race_Asian-Pac-Islander</th>\n",
       "      <th>race_Black</th>\n",
       "      <th>race_Other</th>\n",
       "      <th>race_White</th>\n",
       "      <th>sex_Female</th>\n",
       "      <th>sex_Male</th>\n",
       "    </tr>\n",
       "  </thead>\n",
       "  <tbody>\n",
       "    <tr>\n",
       "      <th>0</th>\n",
       "      <td>90</td>\n",
       "      <td>77053</td>\n",
       "      <td>9</td>\n",
       "      <td>0</td>\n",
       "      <td>4356</td>\n",
       "      <td>40</td>\n",
       "      <td>0</td>\n",
       "      <td>0</td>\n",
       "      <td>0</td>\n",
       "      <td>0</td>\n",
       "      <td>...</td>\n",
       "      <td>0</td>\n",
       "      <td>0</td>\n",
       "      <td>0</td>\n",
       "      <td>0</td>\n",
       "      <td>0</td>\n",
       "      <td>0</td>\n",
       "      <td>0</td>\n",
       "      <td>1</td>\n",
       "      <td>1</td>\n",
       "      <td>0</td>\n",
       "    </tr>\n",
       "    <tr>\n",
       "      <th>1</th>\n",
       "      <td>82</td>\n",
       "      <td>132870</td>\n",
       "      <td>9</td>\n",
       "      <td>0</td>\n",
       "      <td>4356</td>\n",
       "      <td>18</td>\n",
       "      <td>0</td>\n",
       "      <td>0</td>\n",
       "      <td>0</td>\n",
       "      <td>0</td>\n",
       "      <td>...</td>\n",
       "      <td>0</td>\n",
       "      <td>0</td>\n",
       "      <td>0</td>\n",
       "      <td>0</td>\n",
       "      <td>0</td>\n",
       "      <td>0</td>\n",
       "      <td>0</td>\n",
       "      <td>1</td>\n",
       "      <td>1</td>\n",
       "      <td>0</td>\n",
       "    </tr>\n",
       "    <tr>\n",
       "      <th>2</th>\n",
       "      <td>66</td>\n",
       "      <td>186061</td>\n",
       "      <td>10</td>\n",
       "      <td>0</td>\n",
       "      <td>4356</td>\n",
       "      <td>40</td>\n",
       "      <td>0</td>\n",
       "      <td>0</td>\n",
       "      <td>0</td>\n",
       "      <td>0</td>\n",
       "      <td>...</td>\n",
       "      <td>0</td>\n",
       "      <td>1</td>\n",
       "      <td>0</td>\n",
       "      <td>0</td>\n",
       "      <td>0</td>\n",
       "      <td>1</td>\n",
       "      <td>0</td>\n",
       "      <td>0</td>\n",
       "      <td>1</td>\n",
       "      <td>0</td>\n",
       "    </tr>\n",
       "    <tr>\n",
       "      <th>3</th>\n",
       "      <td>54</td>\n",
       "      <td>140359</td>\n",
       "      <td>4</td>\n",
       "      <td>0</td>\n",
       "      <td>3900</td>\n",
       "      <td>40</td>\n",
       "      <td>0</td>\n",
       "      <td>0</td>\n",
       "      <td>0</td>\n",
       "      <td>0</td>\n",
       "      <td>...</td>\n",
       "      <td>0</td>\n",
       "      <td>1</td>\n",
       "      <td>0</td>\n",
       "      <td>0</td>\n",
       "      <td>0</td>\n",
       "      <td>0</td>\n",
       "      <td>0</td>\n",
       "      <td>1</td>\n",
       "      <td>1</td>\n",
       "      <td>0</td>\n",
       "    </tr>\n",
       "    <tr>\n",
       "      <th>4</th>\n",
       "      <td>41</td>\n",
       "      <td>264663</td>\n",
       "      <td>10</td>\n",
       "      <td>0</td>\n",
       "      <td>3900</td>\n",
       "      <td>40</td>\n",
       "      <td>0</td>\n",
       "      <td>0</td>\n",
       "      <td>0</td>\n",
       "      <td>0</td>\n",
       "      <td>...</td>\n",
       "      <td>1</td>\n",
       "      <td>0</td>\n",
       "      <td>0</td>\n",
       "      <td>0</td>\n",
       "      <td>0</td>\n",
       "      <td>0</td>\n",
       "      <td>0</td>\n",
       "      <td>1</td>\n",
       "      <td>1</td>\n",
       "      <td>0</td>\n",
       "    </tr>\n",
       "  </tbody>\n",
       "</table>\n",
       "<p>5 rows × 52 columns</p>\n",
       "</div>"
      ],
      "text/plain": [
       "   age  fnlwgt  education.num  capital.gain  capital.loss  hours.per.week  \\\n",
       "0   90   77053              9             0          4356              40   \n",
       "1   82  132870              9             0          4356              18   \n",
       "2   66  186061             10             0          4356              40   \n",
       "3   54  140359              4             0          3900              40   \n",
       "4   41  264663             10             0          3900              40   \n",
       "\n",
       "   income  IsImmigrant  workclass_Federal-gov  workclass_Local-gov  ...  \\\n",
       "0       0            0                      0                    0  ...   \n",
       "1       0            0                      0                    0  ...   \n",
       "2       0            0                      0                    0  ...   \n",
       "3       0            0                      0                    0  ...   \n",
       "4       0            0                      0                    0  ...   \n",
       "\n",
       "   relationship_Own-child  relationship_Unmarried  relationship_Wife  \\\n",
       "0                       0                       0                  0   \n",
       "1                       0                       0                  0   \n",
       "2                       0                       1                  0   \n",
       "3                       0                       1                  0   \n",
       "4                       1                       0                  0   \n",
       "\n",
       "   race_Amer-Indian-Eskimo  race_Asian-Pac-Islander  race_Black  race_Other  \\\n",
       "0                        0                        0           0           0   \n",
       "1                        0                        0           0           0   \n",
       "2                        0                        0           1           0   \n",
       "3                        0                        0           0           0   \n",
       "4                        0                        0           0           0   \n",
       "\n",
       "   race_White  sex_Female  sex_Male  \n",
       "0           1           1         0  \n",
       "1           1           1         0  \n",
       "2           0           1         0  \n",
       "3           1           1         0  \n",
       "4           1           1         0  \n",
       "\n",
       "[5 rows x 52 columns]"
      ]
     },
     "execution_count": 86,
     "metadata": {},
     "output_type": "execute_result"
    }
   ],
   "source": [
    "df.head()"
   ]
  },
  {
   "cell_type": "markdown",
   "id": "03daf160",
   "metadata": {},
   "source": [
    "- ##### Separate Features from Response (Prep for Models)"
   ]
  },
  {
   "cell_type": "code",
   "execution_count": 87,
   "id": "8d29dd62",
   "metadata": {},
   "outputs": [],
   "source": [
    "x = df.drop(\"income\", axis = 1)"
   ]
  },
  {
   "cell_type": "code",
   "execution_count": 88,
   "id": "03a45564",
   "metadata": {},
   "outputs": [],
   "source": [
    "y = df[\"income\"] # this returns a dataframe, better suited for model functions\n",
    "                   # rather than df[\"income\"]"
   ]
  },
  {
   "cell_type": "markdown",
   "id": "8b4a4426",
   "metadata": {},
   "source": [
    "- ##### Scaling the Data "
   ]
  },
  {
   "cell_type": "markdown",
   "id": "568811be",
   "metadata": {},
   "source": [
    "We are not going to transform our categorical(dummies) as they loose their interpretation. If we standarded them, we would be treating them as quantitative variables which does not interperate correctly. "
   ]
  },
  {
   "cell_type": "code",
   "execution_count": 89,
   "id": "b8e0f9df",
   "metadata": {},
   "outputs": [],
   "source": [
    "# Standarizing variables excluding the categories(dummies)\n",
    "for i in (df_continuous.columns):\n",
    "    if (i !=\"income\" and i!=\"IsImmigrant\"):\n",
    "        x[i] = StandardScaler().fit_transform(x[[i]])"
   ]
  },
  {
   "cell_type": "markdown",
   "id": "47e76b48",
   "metadata": {},
   "source": [
    "### Dimension Reduction with PCA\n",
    "- ##### Kaiser Rule: the goal is to seek number of PCs that have eigenvalues >= 1, hence the dotted red line below\n",
    "- We know that there is not multicolinearity and and that most of the variables are categorical so we are not sure if PCA will be helpful but testing "
   ]
  },
  {
   "cell_type": "code",
   "execution_count": 90,
   "id": "f106cf74",
   "metadata": {},
   "outputs": [
    {
     "data": {
      "image/png": "[encoded data removed]",
      "text/plain": [
       "<Figure size 432x288 with 1 Axes>"
      ]
     },
     "metadata": {},
     "output_type": "display_data"
    },
    {
     "name": "stdout",
     "output_type": "stream",
     "text": [
      "4 feature(s) are enough to describe the data.\n"
     ]
    }
   ],
   "source": [
    "pca = PCA(n_components=None) # initially set n_components to \"None\" to include all 67 features\n",
    "pca.fit(x)\n",
    "\n",
    "plt.ylabel('Eigenvalues')\n",
    "plt.xlabel('Number of Features')\n",
    "plt.title('PCA Eigenvalues')\n",
    "plt.ylim(0, max(pca.explained_variance_))\n",
    "plt.plot(pca.explained_variance_, color='b')\n",
    "plt.axhline(y=1, color='r', linestyle='--')\n",
    "plt.show()\n",
    "\n",
    "# display the actual eigenvalues\n",
    "count = 0\n",
    "for i in pca.explained_variance_ :\n",
    "    if i > 1 :                       # eigenvalues >= 1\n",
    "        count = count + 1\n",
    "print(count, 'feature(s) are enough to describe the data.')"
   ]
  },
  {
   "cell_type": "markdown",
   "id": "3d067494",
   "metadata": {},
   "source": [
    "- ##### Cumulative Variance Explained: the selected PCs should describe atleast 80% of the data, hence the dotted red line below"
   ]
  },
  {
   "cell_type": "code",
   "execution_count": 91,
   "id": "3f304d75",
   "metadata": {},
   "outputs": [
    {
     "data": {
      "image/png": "[encoded data removed]",
      "text/plain": [
       "<Figure size 432x288 with 1 Axes>"
      ]
     },
     "metadata": {},
     "output_type": "display_data"
    },
    {
     "name": "stdout",
     "output_type": "stream",
     "text": [
      "42 principal components(s) describe atleast 80% of the data.\n"
     ]
    }
   ],
   "source": [
    "variance = pca.explained_variance_ratio_ * 100\n",
    "cumu_variance = np.cumsum(variance)\n",
    "\n",
    "plt.ylabel('Percent of Variance Explained')\n",
    "plt.xlabel('Principal Component Index')\n",
    "plt.title('Scree Plot')\n",
    "plt.ylim(min(cumu_variance), 100)\n",
    "plt.axhline(y=80, color='r', linestyle='--')\n",
    "plt.plot(cumu_variance)\n",
    "plt.show()\n",
    "\n",
    "cumu_variance\n",
    "# display the actual eigenvalues\n",
    "count = 0\n",
    "for i in cumu_variance :\n",
    "    if i > 80 :                       # eigenvalues >= 1\n",
    "        count = count + 1\n",
    "print(count, 'principal components(s) describe atleast 80% of the data.')"
   ]
  },
  {
   "cell_type": "markdown",
   "id": "3cf3e0ee",
   "metadata": {},
   "source": [
    "# Data Preparation: Part 2\n",
    "- ##### Describe the final dataset that is used for classification/regression (include a description of any newly formed variables you created). "
   ]
  },
  {
   "cell_type": "markdown",
   "id": "04935a8b",
   "metadata": {},
   "source": [
    "The data consists of 32,561 entries/rows and 13 attributes/columns, with the response variable being \"income\"\n",
    "\n",
    "Out of the 13 variables, 6 are continuous and 7 are categories. The only new variable that was created is \"IsImmigrant\" which was set because of the discrepancy between US as native.country and the rest of the countries having such tiny percentage. We thought have is immigrant could explain better/have a larger representation due to the results of the data. In exchange we dropped native.country was the new attribute was created. \n",
    "\n",
    "Per EDA this data is not suited well for PCA.\n",
    "\n",
    "Continuous variables: age, fnlwgt, education.num, capital.gain, capital.loss, hours.per.week, IsImmigrant\n",
    "\n",
    "Categorical Variables: Workclass,marital.status, occupation, relationship, race, sex, \n",
    "\n",
    "\n",
    "In order to begin prep for the models the continuous attributes have been standarized and the categorical variables have been converted into one hot encoding."
   ]
  },
  {
   "cell_type": "markdown",
   "id": "e76685b1",
   "metadata": {},
   "source": [
    "Our goal with this final dataset is to classify whether if people have greater than $50k income or not, which includes 1 response variable and 67 predictor variables. Out of those 67, 6 are unchanged as they are originally continuous, 1 was originally \"native.country\" which was modify to \"IsImmigrant\" (with \"United States\" as \"0\" and others as \"1\"), and the rest 60 are one-hot encoded as dummies.\n",
    "\n",
    "PCA is not an appropriate pre-processing method for our data, since we have too many PCs that efficiently describes our data."
   ]
  },
  {
   "cell_type": "markdown",
   "id": "b0d12ba3",
   "metadata": {},
   "source": [
    "# Modeling and Evaluation: Part 1\n",
    "- ##### Choose and explain your evaluation metrics that you will use (i.e., accuracy, precision, recall, F-measure, or any metric we have discussed). Why are the measure(s) appropriate for analyzing the results of your modeling? Give a detailed explanation backing up any assertions."
   ]
  },
  {
   "cell_type": "markdown",
   "id": "5b053aea",
   "metadata": {},
   "source": [
    "When considering Precision, Accuracy, Recall, and the F-measure the most useful for our task is Precision. We will focus on Precision becasuse our main goal is to get an accurate sample of those people that earn >50K to further analyze which factors contribute most to that outcome. Furthermore, we would like to see if there are any sociatal gaps that need to be looked at more closely that are keeping people from making 50K. Some factors are not within a persons' ability to change, but it is important to learn which factors that influence income a person can actually change. This is why we care most about the factors that predict a person making >50K, and that they really do influence a person making >50k (how many positive predicitions really are positive). \n",
    "\n",
    "While we do care more about precision, an example of why recall could be important can be applied to different groups providing financial aid. There is only a certain amount of total financial aid that a group can distribute amung students and it is important that the money is going to people that truely need it (true negatives: predicted to NOT make >50K and actually do makes <=50K). For this purposes, we would want a classification threshold to both balance a highly accurate true positive and low on false negatives (make >50k but were classified as making <=50), so that the financial aid groups can target pepole that actually need the help.\n",
    "\n",
    "We also need to take into account that 75% of our dataset are stated to make <=50K and only 25% make >50K. It is important that we modify the threshold to represent our unequal number of responses. A 50% threshold wouldn't represent the data correctly. ROC takes advantage of this threshold being properly represented and will also be used to compare the models."
   ]
  },
  {
   "cell_type": "markdown",
   "id": "1a81dcd4",
   "metadata": {},
   "source": [
    "# Modeling and Evaluation: Part 2\n",
    "- ##### Choose the method you will use for dividing your data into training and testing splits (i.e., are you using Stratified 10-fold cross validation? Why?). Explain why your chosen method is appropriate or use more than one method as appropriate. "
   ]
  },
  {
   "cell_type": "markdown",
   "id": "53f58e7b",
   "metadata": {},
   "source": [
    "We will be using Stratified validation because we want to be able to split the variables randomly and equally among the testing and trainig data. For instance if we don't use stratified the train data may obtain only 5% of the data with >50K which then ends up leading to a model that is not able to predict as well since it has so little information on those with >50K. We want the distribtuion of those with >50K and as well as those with <=50K to be equally representative in trainting and testing. "
   ]
  },
  {
   "cell_type": "markdown",
   "id": "2331d512",
   "metadata": {},
   "source": [
    "- ##### Splitting the Data"
   ]
  },
  {
   "cell_type": "code",
   "execution_count": 92,
   "id": "d53df6a4",
   "metadata": {},
   "outputs": [],
   "source": [
    "#splitting data\n",
    "X_train_scaled, X_test_scaled, y_train, y_test = train_test_split(x, y, stratify=y,test_size=.30, random_state=1)"
   ]
  },
  {
   "cell_type": "markdown",
   "id": "b01a0398",
   "metadata": {},
   "source": [
    "# Modeling and Evaluation: Part 3\n",
    "- ##### Create three different classification/regression models (e.g., random forest, KNN, and SVM). Two modeling techniques must be new (but the third could be SVM or logistic regression). Adjust parameters as appropriate to increase generalization performance using your chosen metric.\n",
    "\n",
    "\n",
    "- Model 1: Logistic\n",
    "- Model 2: SVM\n",
    "- Model 3: Decision Tree Classifier\n",
    "- Model 4: Random Forest\n",
    "- model 5: Naive-Bayes Bernoulli\n",
    "- Mdeol 6: KNN Cosine"
   ]
  },
  {
   "cell_type": "markdown",
   "id": "264e667d",
   "metadata": {},
   "source": [
    "# Logistic Regression"
   ]
  },
  {
   "cell_type": "markdown",
   "id": "e216d0a2",
   "metadata": {},
   "source": [
    "+ We tried adding class_weight=\"balanced\" and all the scores decreased so we have didn't adjust the weights or support\n",
    "+ The simple model did lead to almos the same results as with cross validation. However, we kept is stratify each set contains approximately the same percentage of samples of each target class."
   ]
  },
  {
   "cell_type": "code",
   "execution_count": 93,
   "id": "bff331c6",
   "metadata": {},
   "outputs": [],
   "source": [
    "# Set a function to return and print all the scores for each model\n",
    "def score_rep (y_test, y_hat, show=\"yes\"):\n",
    "    acc = mt.accuracy_score(y_test,y_hat)\n",
    "    rec = mt.recall_score(y_test,y_hat)\n",
    "    prec = mt.precision_score(y_test,y_hat)\n",
    "    f1= mt.f1_score(y_test,y_hat)\n",
    "    auc=mt.roc_auc_score(y_test,y_hat)\n",
    "    if show==\"no\":\n",
    "        print('Accuracy is: %.2f, Recall is: %.2f, Precision is: %.2f, F1 is %.2f and AUC is %.2f'% (acc,rec,prec,f1,auc))\n",
    "    return(acc, rec,prec,f1,auc)"
   ]
  },
  {
   "cell_type": "code",
   "execution_count": 94,
   "id": "f8631710",
   "metadata": {},
   "outputs": [],
   "source": [
    "# Import libraries\n",
    "from sklearn.model_selection import ShuffleSplit\n",
    "from sklearn.linear_model import LogisticRegression\n",
    "from sklearn import metrics as mt\n",
    "from sklearn.model_selection import cross_validate\n",
    "from sklearn.model_selection import StratifiedKFold, cross_val_score\n",
    "\n",
    "#to save results of all models\n",
    "model_results=[]"
   ]
  },
  {
   "cell_type": "code",
   "execution_count": 95,
   "id": "c322752e",
   "metadata": {},
   "outputs": [
    {
     "name": "stdout",
     "output_type": "stream",
     "text": [
      "Without cross validation\n"
     ]
    }
   ],
   "source": [
    "# Logist Regression\n",
    "\n",
    "#running model\n",
    "# Per earlier mini project we know these are the best arguments\n",
    "lr_clf = LogisticRegression(penalty='l2', C=1.0, class_weight=None, solver='liblinear' )\n",
    "\n",
    "print(\"Without cross validation\")\n",
    "lr=lr_clf.fit(X_train_scaled,y_train)\n",
    "y_hat=lr.predict(X_test_scaled)\n",
    "acc, rec,prec,f1,auc=score_rep(y_test,y_hat)\n",
    "model_results=[[\"Logistic Regression\",acc, rec,prec,f1,auc]]       \n"
   ]
  },
  {
   "cell_type": "code",
   "execution_count": 96,
   "id": "d9918ae9",
   "metadata": {},
   "outputs": [
    {
     "name": "stdout",
     "output_type": "stream",
     "text": [
      "Average recall CV Score:  0.7469703013541078\n",
      "Average precision CV Score:  0.7993594250942933\n"
     ]
    }
   ],
   "source": [
    "# Running stratified kfold  cross validation\n",
    "scoring = ['precision_macro', 'recall_macro']\n",
    "sk_folds = StratifiedKFold(n_splits = 10)\n",
    "scores = cross_validate(lr_clf, x, y, scoring=scoring, cv = sk_folds)\n",
    "\n",
    "print(\"Average recall CV Score: \", np.mean(scores['test_recall_macro']))\n",
    "print(\"Average precision CV Score: \", np.mean(scores['test_precision_macro']))"
   ]
  },
  {
   "cell_type": "markdown",
   "id": "2b019dad",
   "metadata": {},
   "source": [
    "Don't know if we should do the shuffle part"
   ]
  },
  {
   "cell_type": "markdown",
   "id": "5afed106",
   "metadata": {},
   "source": [
    "- # Interpreting Weights\n",
    "\n",
    "\n",
    "##### The most important variables per Logistic regression \n",
    "    Capital gain \n",
    "    Education num\n",
    "    Marital status \n",
    "    Age\n",
    "    Hours per Week\n",
    "    \n",
    "+ This graph also shows how every variable has some importance and thus all are useful"
   ]
  },
  {
   "cell_type": "code",
   "execution_count": 97,
   "id": "2a7e3975",
   "metadata": {},
   "outputs": [
    {
     "data": {
      "image/png": "[encoded data removed]",
      "text/plain": [
       "<Figure size 1152x432 with 1 Axes>"
      ]
     },
     "metadata": {
      "needs_background": "light"
     },
     "output_type": "display_data"
    }
   ],
   "source": [
    "# Plot\n",
    "from matplotlib import pyplot as plt\n",
    "%matplotlib inline\n",
    "plt.figure(figsize=(16,6))\n",
    "plt.style.use('ggplot')\n",
    "\n",
    "weights = pd.Series(lr.coef_[0],index=x.columns)\n",
    "weights.plot(kind='bar')\n",
    "plt.show()"
   ]
  },
  {
   "cell_type": "markdown",
   "id": "3445050d",
   "metadata": {},
   "source": [
    "# SVM"
   ]
  },
  {
   "cell_type": "markdown",
   "id": "ebb36d7f",
   "metadata": {},
   "source": [
    "+ We tried different C and the best one ws 0.5 and rbf\n",
    "We can see with this model on the ROC graph how after 0.02 false positive there is sharp increase cost of between False positive and true positive\n",
    "meaning how if true positive is what is desired then it will in exchange have a very high false positive and if one cares about making sure they don't have false positives then in turn they have very low true positives\n",
    "\n"
   ]
  },
  {
   "cell_type": "code",
   "execution_count": 130,
   "id": "27ee8c02",
   "metadata": {},
   "outputs": [
    {
     "name": "stdout",
     "output_type": "stream",
     "text": [
      "[[7018  399]\n",
      " [1030 1322]]\n"
     ]
    }
   ],
   "source": [
    "# Running SVM\n",
    "from sklearn.svm import SVC\n",
    "\n",
    "# train the model just as before\n",
    "svm_clf = SVC(C=0.5, kernel='rbf', degree=3, gamma='auto') # get object\n",
    "svm_clf=svm_clf.fit(X_train_scaled, y_train)  # train object\n",
    "\n",
    "y_hat = svm_clf.predict(X_test_scaled) # get test set predictions\n",
    "\n",
    "# Get all scores\n",
    "acc, rec,prec,f1,auc=score_rep(y_test,y_hat)\n",
    "conf = mt.confusion_matrix(y_test,y_hat)\n",
    "print(conf)\n",
    "# Append to list of all scores\n",
    "model_results.append([\"SVM\",acc, rec,prec,f1,auc])"
   ]
  },
  {
   "cell_type": "code",
   "execution_count": 100,
   "id": "dcc37fac",
   "metadata": {},
   "outputs": [
    {
     "data": {
      "text/plain": [
       "0.8160266197132259"
      ]
     },
     "execution_count": 100,
     "metadata": {},
     "output_type": "execute_result"
    }
   ],
   "source": [
    "# Doing cross val only to verify restults\n",
    "# Using only train Data other wise it will see the test data and there would be data leakage\n",
    "svm_clf = SVC(C=0.5, kernel='rbf', degree=3, gamma='auto') \n",
    "from sklearn.model_selection import cross_validate\n",
    "scoring = ['precision_macro', 'recall_macro']\n",
    "scores = cross_validate(svm_clf, X_train_scaled, y_train, scoring=scoring, cv=5)\n",
    "\n",
    "np.mean(scores['test_recall_macro'])\n",
    "np.mean(scores['test_precision_macro'])"
   ]
  },
  {
   "cell_type": "code",
   "execution_count": 101,
   "id": "e74ce14d",
   "metadata": {},
   "outputs": [
    {
     "name": "stdout",
     "output_type": "stream",
     "text": [
      "Average recall CV Score:  0.7021822260805787\n",
      "Average precision CV Score:  0.7902992710247798\n"
     ]
    }
   ],
   "source": [
    "# Doing cross val only to verify restults\n",
    "# Using only train Data other wise it will see the test data and there would be data leakage\n",
    "\n",
    "from sklearn.model_selection import cross_validate\n",
    "from sklearn.model_selection import StratifiedKFold, cross_val_score\n",
    "scoring = ['precision_macro', 'recall_macro']\n",
    "sk_folds = StratifiedKFold(n_splits = 5)\n",
    "scores = cross_validate(svm_clf, x, y, scoring=scoring, cv = sk_folds)\n",
    "\n",
    "print(\"Average recall CV Score: \", np.mean(scores['test_recall_macro']))\n",
    "print(\"Average precision CV Score: \", np.mean(scores['test_precision_macro']))\n"
   ]
  },
  {
   "cell_type": "markdown",
   "id": "ea111714",
   "metadata": {},
   "source": [
    "# Decision Tree"
   ]
  },
  {
   "cell_type": "markdown",
   "id": "115dbe8a",
   "metadata": {},
   "source": [
    "+ For decision tree we can see that it picked up Married CIV spouse as the most important followed by capital.gain and education.num. \n",
    "Decision trees are very good at being able to interpret them and how the model did their selection. In this case we know we have to set some criterias for the model to not overfit so we selected criterion gine and max depth of 3. \n",
    "We can see how the model first selected Married CIV spouse as the head of the tree and was followed by capital.gain and education.num as important variables with the high gini."
   ]
  },
  {
   "cell_type": "code",
   "execution_count": 103,
   "id": "3333066c",
   "metadata": {},
   "outputs": [
    {
     "name": "stdout",
     "output_type": "stream",
     "text": [
      "[[7030  387]\n",
      " [1129 1223]]\n",
      "Training score 0.8434977184977185\n",
      "Testing score 0.8448152318558706\n"
     ]
    }
   ],
   "source": [
    "from sklearn.tree import DecisionTreeClassifier\n",
    "dTreeR = DecisionTreeClassifier(criterion = 'gini', max_depth = 3, random_state=1)\n",
    "dTreeR=dTreeR.fit(X_train_scaled, y_train)\n",
    "y_hat=dTreeR.predict(X_test_scaled)\n",
    "# run function to get accuracy, recall and precision\n",
    "acc, rec,prec,f1,auc=score_rep(y_test,y_hat)\n",
    "# Append to list of results\n",
    "model_results.append([\"Decision Classifier\",acc, rec,prec,f1,auc])\n",
    "\n",
    "conf = mt.confusion_matrix(y_test,y_hat)\n",
    "print(conf)\n",
    "\n",
    "print(\"Training score\",dTreeR.score(X_train_scaled, y_train))\n",
    "print(\"Testing score\",dTreeR.score(X_test_scaled, y_test))\n"
   ]
  },
  {
   "cell_type": "markdown",
   "id": "10b71de1",
   "metadata": {},
   "source": [
    "+ Let's visualize it"
   ]
  },
  {
   "cell_type": "code",
   "execution_count": 104,
   "id": "67e2bbe0",
   "metadata": {},
   "outputs": [
    {
     "data": {
      "image/png": "[encoded data removed]",
      "text/plain": [
       "<IPython.core.display.Image object>"
      ]
     },
     "metadata": {},
     "output_type": "display_data"
    }
   ],
   "source": [
    "from IPython.display import Image  \n",
    "#import pydotplus as pydot\n",
    "from sklearn import tree\n",
    "from os import system\n",
    "train_char_label = [\"<=50k\", \">50k\"]\n",
    "Credit_Tree_FileR = open('credit_treeR.dot','w')\n",
    "dot_data = tree.export_graphviz(dTreeR, out_file=Credit_Tree_FileR, feature_names = list(X_train_scaled), class_names = list(train_char_label))\n",
    "Credit_Tree_FileR.close()\n",
    "\n",
    "retCode = system(\"dot -Tpng credit_treeR.dot -o credit_treeR.png\")\n",
    "if(retCode>0):\n",
    "    print(\"system command returning error: \"+str(retCode))\n",
    "else:\n",
    "    display(Image(\"credit_treeR.png\"))\n",
    "\n"
   ]
  },
  {
   "cell_type": "markdown",
   "id": "dcf52044",
   "metadata": {},
   "source": [
    "# Ensemble RandomForest Classifier"
   ]
  },
  {
   "cell_type": "markdown",
   "id": "524eccb0",
   "metadata": {},
   "source": [
    "+ We can see that Random forest selecte fnlwgt as one of the top  important features along with age, education.num, caital.gain and marrital status"
   ]
  },
  {
   "cell_type": "code",
   "execution_count": 105,
   "id": "7d78cadb",
   "metadata": {},
   "outputs": [],
   "source": [
    "from sklearn.ensemble import RandomForestClassifier\n",
    "rfcl = RandomForestClassifier(n_estimators = 50, random_state=1,max_features=12)\n",
    "rfcl = rfcl.fit(X_train_scaled, y_train)\n",
    "y_predict = rfcl.predict(X_test_scaled)\n",
    "#Get all scores\n",
    "acc, rec,prec,f1,auc=score_rep(y_test,y_predict)\n",
    "# Append to list of scores\n",
    "model_results.append([\"Random Forest\",acc, rec,prec,f1,auc])"
   ]
  },
  {
   "cell_type": "code",
   "execution_count": 107,
   "id": "3d09afa0",
   "metadata": {},
   "outputs": [
    {
     "data": {
      "image/png": "[encoded data removed]",
      "text/plain": [
       "<Figure size 432x288 with 1 Axes>"
      ]
     },
     "metadata": {},
     "output_type": "display_data"
    }
   ],
   "source": [
    "feat_importances = pd.Series(rfcl.feature_importances_, index=x.columns)\n",
    "feat_importances.nlargest(15).plot(kind='barh')\n",
    "plt.title(\"Top 15 important features\")\n",
    "plt.show()"
   ]
  },
  {
   "cell_type": "markdown",
   "id": "ce2eca76",
   "metadata": {},
   "source": [
    "# Naive Bayes"
   ]
  },
  {
   "cell_type": "code",
   "execution_count": 108,
   "id": "35ef5cd0",
   "metadata": {},
   "outputs": [
    {
     "name": "stdout",
     "output_type": "stream",
     "text": [
      "The best Bernoulli recall was 0.79\n"
     ]
    }
   ],
   "source": [
    "from sklearn.naive_bayes import MultinomialNB\n",
    "from sklearn.naive_bayes import BernoulliNB\n",
    "\n",
    "# Running model with different parameters\n",
    "\n",
    "alpha_list=[0.1,0.5,0.7,1.0,5]\n",
    "binarize_list=[0.0,0.05,0.07,0.09,2]\n",
    "multi_result=[]\n",
    "bernou_result=[]\n",
    "\n",
    "for i in (alpha_list):\n",
    "    for j in (binarize_list):\n",
    "        clf_bnb = BernoulliNB(alpha=i, binarize=j)\n",
    "        bern=clf_bnb.fit(X_train_scaled, y_train)\n",
    "        y_hat=bern.predict(X_test_scaled)\n",
    "        rec = mt.recall_score(y_test,y_hat)\n",
    "        bernou_result.append(rec)\n",
    "        \n",
    "print(\"The best Bernoulli recall was %.2f\"%(max(bernou_result)))\n"
   ]
  },
  {
   "cell_type": "markdown",
   "id": "486064c1",
   "metadata": {},
   "source": [
    "+ Best naive bayes model was bernoulli with alpha 0.5 and binirize of 0.07\n",
    "+ this makes sense since is our target is descrete and binary"
   ]
  },
  {
   "cell_type": "code",
   "execution_count": 109,
   "id": "608a34b6",
   "metadata": {},
   "outputs": [],
   "source": [
    "# Run again and best parameters\n",
    "clf_bnb = BernoulliNB(alpha=0.5, binarize=0.07)\n",
    "bern=clf_bnb.fit(X_train_scaled, y_train)\n",
    "y_hat=bern.predict(X_test_scaled)\n",
    "acc, rec,prec,f1,auc=score_rep(y_test,y_hat)\n",
    "model_results.append([\"NaiveBayes Bernoulli\",acc, rec,prec,f1,auc])"
   ]
  },
  {
   "cell_type": "code",
   "execution_count": 110,
   "id": "57686d48",
   "metadata": {},
   "outputs": [
    {
     "data": {
      "text/plain": [
       "<AxesSubplot:>"
      ]
     },
     "execution_count": 110,
     "metadata": {},
     "output_type": "execute_result"
    },
    {
     "data": {
      "image/png": "[encoded data removed]",
      "text/plain": [
       "<Figure size 504x360 with 2 Axes>"
      ]
     },
     "metadata": {},
     "output_type": "display_data"
    }
   ],
   "source": [
    "from sklearn import metrics\n",
    "bern=clf_bnb.fit(X_train_scaled, y_train)\n",
    "y_hat=bern.predict(X_test_scaled)\n",
    "cm=metrics.confusion_matrix(y_test, y_hat,labels=[0, 1])\n",
    "\n",
    "df_cm = pd.DataFrame(cm, index = [i for i in [\"<=50k\",\">50k\"]],\n",
    "                  columns = [i for i in [\"<=50k\",\">50k\"]])\n",
    "plt.figure(figsize = (7,5))\n",
    "sns.heatmap(df_cm, annot=True ,fmt='g')"
   ]
  },
  {
   "cell_type": "markdown",
   "id": "f3f194ef",
   "metadata": {},
   "source": [
    "# KNN"
   ]
  },
  {
   "cell_type": "code",
   "execution_count": 111,
   "id": "fab47fa6",
   "metadata": {},
   "outputs": [
    {
     "name": "stdout",
     "output_type": "stream",
     "text": [
      "METRIC COSINE\n",
      "With 5 neighbors\n",
      "With 13 neighbors\n",
      "With 16 neighbors\n",
      "With 18 neighbors\n",
      "With 25 neighbors\n"
     ]
    }
   ],
   "source": [
    "# Running KNN\n",
    "from sklearn.model_selection import StratifiedShuffleSplit\n",
    "from sklearn.neighbors import KNeighborsClassifier\n",
    "from sklearn.metrics import accuracy_score\n",
    "#from IPython.html import widgets\n",
    "from ipywidgets import widgets\n",
    "\n",
    "# Predictions useing different K's and cosine as the metric\n",
    "print(\"METRIC COSINE\")\n",
    "for i in ([5,13,16,18,25]):\n",
    "    clf = KNeighborsClassifier(n_neighbors=i, weights='uniform', metric='cosine')\n",
    "    clf=clf.fit(X_train_scaled, y_train)\n",
    "    y_hat=clf.predict(X_test_scaled)\n",
    "    print(\"With %d neighbors\"% (i))\n",
    "    acc, rec,prec,f1,auc=score_rep(y_test,y_hat)"
   ]
  },
  {
   "cell_type": "code",
   "execution_count": 112,
   "id": "126aafc0",
   "metadata": {},
   "outputs": [
    {
     "name": "stdout",
     "output_type": "stream",
     "text": [
      "METRIC EUCLIDEAN\n",
      "With 5 neighbors\n",
      "With 16 neighbors\n",
      "With 18 neighbors\n",
      "With 25 neighbors\n"
     ]
    }
   ],
   "source": [
    "# Predictions useing different K's and Euclidean as the metric\n",
    "print(\"METRIC EUCLIDEAN\")\n",
    "for i in ([5,16,18,25]):\n",
    "    clf = KNeighborsClassifier(n_neighbors=i, weights='uniform', metric='euclidean')\n",
    "    clf=clf.fit(X_train_scaled, y_train)\n",
    "    y_hat=clf.predict(X_test_scaled)\n",
    "    print(\"With %d neighbors\"%(i))\n",
    "    acc, rec,prec,f1,auc=score_rep(y_test,y_hat)"
   ]
  },
  {
   "cell_type": "code",
   "execution_count": 113,
   "id": "d3ff222e",
   "metadata": {},
   "outputs": [
    {
     "name": "stdout",
     "output_type": "stream",
     "text": [
      "METRIC MANHATTAN\n",
      "With 5 neighbors\n",
      "With 13 neighbors\n",
      "With 16 neighbors\n",
      "With 18 neighbors\n",
      "With 25 neighbors\n"
     ]
    }
   ],
   "source": [
    "# Predictions useing different K's and Manhattan as the metric\n",
    "print(\"METRIC MANHATTAN\")\n",
    "for i in ([5,13,16,18,25]):\n",
    "    clf = KNeighborsClassifier(n_neighbors=i, weights='uniform', metric='manhattan')\n",
    "    clf=clf.fit(X_train_scaled, y_train)\n",
    "    y_hat=clf.predict(X_test_scaled)\n",
    "    print(\"With %d neighbors\"%(i))\n",
    "    acc, rec,prec,f1,auc=score_rep(y_test,y_hat)"
   ]
  },
  {
   "cell_type": "code",
   "execution_count": 114,
   "id": "061b6708",
   "metadata": {},
   "outputs": [],
   "source": [
    "# SAVING the best model that had\n",
    "#    5 neighbors and cosine was the best one between recall, F1 and AUC\n",
    "clf = KNeighborsClassifier(n_neighbors=5, weights='uniform', metric='cosine')\n",
    "clf=clf.fit(X_train_scaled, y_train)\n",
    "y_hat=clf.predict(X_test_scaled)\n",
    "acc, rec,prec,f1,auc=score_rep(y_test,y_hat)\n",
    "model_results.append([\"K neighbors Cosine\",acc, rec,prec,f1,auc])"
   ]
  },
  {
   "cell_type": "markdown",
   "id": "a8771e63",
   "metadata": {},
   "source": [
    "# Comparison of all models"
   ]
  },
  {
   "cell_type": "markdown",
   "id": "3fcc33a5",
   "metadata": {},
   "source": [
    "+ We selected "
   ]
  },
  {
   "cell_type": "markdown",
   "id": "b54c3b59",
   "metadata": {},
   "source": [
    "**I think this \"analyze results\" is done as each of the models is created, we can elaborate there more (specially pointing out interesting findings, I did not do that). Then here just added a comparison didnt add more on the results since next point is describing which are important variables**"
   ]
  },
  {
   "cell_type": "markdown",
   "id": "61bbab39",
   "metadata": {},
   "source": [
    "# Modeling and Evaluation: Part 4\n",
    "- ##### Analyze the results using your chosen method of evaluation. Use visualizations of the results to bolster the analysis. Explain any visuals and analyze why they are interesting to someone that might use this model. "
   ]
  },
  {
   "cell_type": "code",
   "execution_count": 116,
   "id": "10c6c8c0",
   "metadata": {},
   "outputs": [],
   "source": [
    "results_1 = pd.DataFrame(model_results , columns=['Model','Accuracy','Recall','Precision','F1','AUC'])"
   ]
  },
  {
   "cell_type": "markdown",
   "id": "32a21006",
   "metadata": {},
   "source": [
    "+ The best model was Random Forest. This model was selected as the best since it had the highest AUC score, the best Accuracy score of86% and one of the top Precision score of 75%.\n",
    "Out of those predicted >50K it predicted 75% correctly. \n",
    "\n",
    "+ We are aware Naybe baives was able to capture 78% of those that earn >50k unlike random forest with 62% (recall) but naives incorrectly predictes 51%(precision of 49%) saying they do earn >50K when they don't, therefore that model can't be selected. We would not be correctly making inferences on the actual population that earns >50k as it would include a lot that do not earn >50K. \n",
    "\n",
    "\n",
    "\n"
   ]
  },
  {
   "cell_type": "code",
   "execution_count": 152,
   "id": "d39f89e2",
   "metadata": {},
   "outputs": [
    {
     "data": {
      "text/html": [
       "<div>\n",
       "<style scoped>\n",
       "    .dataframe tbody tr th:only-of-type {\n",
       "        vertical-align: middle;\n",
       "    }\n",
       "\n",
       "    .dataframe tbody tr th {\n",
       "        vertical-align: top;\n",
       "    }\n",
       "\n",
       "    .dataframe thead th {\n",
       "        text-align: right;\n",
       "    }\n",
       "</style>\n",
       "<table border=\"1\" class=\"dataframe\">\n",
       "  <thead>\n",
       "    <tr style=\"text-align: right;\">\n",
       "      <th></th>\n",
       "      <th>Model</th>\n",
       "      <th>Accuracy</th>\n",
       "      <th>Recall</th>\n",
       "      <th>Precision</th>\n",
       "      <th>F1</th>\n",
       "      <th>AUC</th>\n",
       "    </tr>\n",
       "  </thead>\n",
       "  <tbody>\n",
       "    <tr>\n",
       "      <th>2</th>\n",
       "      <td>Decision Classifier</td>\n",
       "      <td>0.844815</td>\n",
       "      <td>0.519983</td>\n",
       "      <td>0.759627</td>\n",
       "      <td>0.617365</td>\n",
       "      <td>0.733903</td>\n",
       "    </tr>\n",
       "  </tbody>\n",
       "</table>\n",
       "</div>"
      ],
      "text/plain": [
       "                 Model  Accuracy    Recall  Precision        F1       AUC\n",
       "2  Decision Classifier  0.844815  0.519983   0.759627  0.617365  0.733903"
      ]
     },
     "execution_count": 152,
     "metadata": {},
     "output_type": "execute_result"
    }
   ],
   "source": [
    "results_1[2:3]"
   ]
  },
  {
   "cell_type": "code",
   "execution_count": 153,
   "id": "f345ae50",
   "metadata": {},
   "outputs": [
    {
     "data": {
      "image/png": "[encoded data removed]",
      "text/plain": [
       "<Figure size 432x288 with 1 Axes>"
      ]
     },
     "metadata": {},
     "output_type": "display_data"
    }
   ],
   "source": [
    "#AUC ROC curve\n",
    "from sklearn.metrics import roc_auc_score\n",
    "from sklearn.metrics import roc_curve\n",
    "\n",
    "#logit_roc_auc = roc_auc_score(y_test, lr.predict(X_test_scaled))\n",
    "fpr, tpr, thresholds = roc_curve(y_test, lr.predict_proba(X_test_scaled)[:,1])\n",
    "fpr2, tpr2, thresholds2 = roc_curve(y_test, svm_clf.predict(X_test_scaled))\n",
    "fpr3, tpr3, thresholds3 = roc_curve(y_test, rfcl.predict_proba(X_test_scaled)[:,1])\n",
    "fpr4, tpr4, thresholds4 = roc_curve(y_test, clf.predict_proba(X_test_scaled)[:,1])\n",
    "fpr5, tpr5, thresholds5 = roc_curve(y_test, bern.predict_proba(X_test_scaled)[:,1])\n",
    "fpr6, tpr6, thresholds6 = roc_curve(y_test, dTreeR.predict_proba(X_test_scaled)[:,1])\n",
    "\n",
    "plt.figure()\n",
    "plt.plot(fpr, tpr, label='Logistic Regression (area = %0.2f)' % logit_roc_auc)\n",
    "plt.plot(fpr2, tpr2, label='SVM (area = %0.2f)' % results_1[1:2][\"AUC\"])\n",
    "plt.plot(fpr3, tpr3, label='Random Forest (area = %0.2f)' % results_1[3:4][\"AUC\"])\n",
    "plt.plot(fpr4, tpr4, label='KNN (area = %0.2f)' % results_1[5:6][\"AUC\"])\n",
    "plt.plot(fpr5, tpr5, label='Naive Bayes (area = %0.2f)' % results_1[4:5][\"AUC\"])\n",
    "plt.plot(fpr6, tpr6, label='Naive Bayes (area = %0.2f)' % results_1[2:3][\"AUC\"])\n",
    "\n",
    "plt.plot([0, 1], [0, 1],'r--')\n",
    "plt.xlim([0.0, 1.0])\n",
    "plt.ylim([0.0, 1.05])\n",
    "plt.xlabel('False Positive Rate')\n",
    "plt.ylabel('True Positive Rate')\n",
    "plt.title('Receiver operating characteristic')\n",
    "plt.legend(loc=\"lower right\")\n",
    "plt.savefig('Log_ROC')\n",
    "plt.show()\n",
    "\n",
    "           "
   ]
  },
  {
   "cell_type": "code",
   "execution_count": 117,
   "id": "4a3ab242",
   "metadata": {},
   "outputs": [
    {
     "data": {
      "text/html": [
       "<div>\n",
       "<style scoped>\n",
       "    .dataframe tbody tr th:only-of-type {\n",
       "        vertical-align: middle;\n",
       "    }\n",
       "\n",
       "    .dataframe tbody tr th {\n",
       "        vertical-align: top;\n",
       "    }\n",
       "\n",
       "    .dataframe thead th {\n",
       "        text-align: right;\n",
       "    }\n",
       "</style>\n",
       "<table border=\"1\" class=\"dataframe\">\n",
       "  <thead>\n",
       "    <tr style=\"text-align: right;\">\n",
       "      <th></th>\n",
       "      <th>Model</th>\n",
       "      <th>Accuracy</th>\n",
       "      <th>Recall</th>\n",
       "      <th>Precision</th>\n",
       "      <th>F1</th>\n",
       "      <th>AUC</th>\n",
       "    </tr>\n",
       "  </thead>\n",
       "  <tbody>\n",
       "    <tr>\n",
       "      <th>3</th>\n",
       "      <td>Random Forest</td>\n",
       "      <td>0.860477</td>\n",
       "      <td>0.629252</td>\n",
       "      <td>0.750888</td>\n",
       "      <td>0.684710</td>\n",
       "      <td>0.781526</td>\n",
       "    </tr>\n",
       "    <tr>\n",
       "      <th>4</th>\n",
       "      <td>NaiveBayes Bernoulli</td>\n",
       "      <td>0.755553</td>\n",
       "      <td>0.788690</td>\n",
       "      <td>0.495195</td>\n",
       "      <td>0.608396</td>\n",
       "      <td>0.766868</td>\n",
       "    </tr>\n",
       "    <tr>\n",
       "      <th>0</th>\n",
       "      <td>Logistic Regression</td>\n",
       "      <td>0.852185</td>\n",
       "      <td>0.595663</td>\n",
       "      <td>0.739704</td>\n",
       "      <td>0.659915</td>\n",
       "      <td>0.764597</td>\n",
       "    </tr>\n",
       "    <tr>\n",
       "      <th>5</th>\n",
       "      <td>K neighbors Cosine</td>\n",
       "      <td>0.840209</td>\n",
       "      <td>0.609694</td>\n",
       "      <td>0.690419</td>\n",
       "      <td>0.647550</td>\n",
       "      <td>0.761501</td>\n",
       "    </tr>\n",
       "    <tr>\n",
       "      <th>1</th>\n",
       "      <td>SVM</td>\n",
       "      <td>0.853721</td>\n",
       "      <td>0.562075</td>\n",
       "      <td>0.768158</td>\n",
       "      <td>0.649153</td>\n",
       "      <td>0.754140</td>\n",
       "    </tr>\n",
       "    <tr>\n",
       "      <th>2</th>\n",
       "      <td>Decision Classifier</td>\n",
       "      <td>0.844815</td>\n",
       "      <td>0.519983</td>\n",
       "      <td>0.759627</td>\n",
       "      <td>0.617365</td>\n",
       "      <td>0.733903</td>\n",
       "    </tr>\n",
       "  </tbody>\n",
       "</table>\n",
       "</div>"
      ],
      "text/plain": [
       "                  Model  Accuracy    Recall  Precision        F1       AUC\n",
       "3         Random Forest  0.860477  0.629252   0.750888  0.684710  0.781526\n",
       "4  NaiveBayes Bernoulli  0.755553  0.788690   0.495195  0.608396  0.766868\n",
       "0   Logistic Regression  0.852185  0.595663   0.739704  0.659915  0.764597\n",
       "5    K neighbors Cosine  0.840209  0.609694   0.690419  0.647550  0.761501\n",
       "1                   SVM  0.853721  0.562075   0.768158  0.649153  0.754140\n",
       "2   Decision Classifier  0.844815  0.519983   0.759627  0.617365  0.733903"
      ]
     },
     "execution_count": 117,
     "metadata": {},
     "output_type": "execute_result"
    }
   ],
   "source": [
    "results_1.sort_values(\"AUC\",ascending=False)"
   ]
  },
  {
   "cell_type": "markdown",
   "id": "704a5074",
   "metadata": {},
   "source": [
    "**This is our first table assessing the ability for each of our models to perform with a 0.5 threshold. Next we will take our top 2 performing models, Random forest and SVM, and adjust our threshold to give us the best precision. Finally we will compare the results of both models and record which gave us the best performance**"
   ]
  },
  {
   "cell_type": "markdown",
   "id": "481e529d",
   "metadata": {},
   "source": [
    "# Modeling and Evaluation: Part 5\n",
    "- ##### Which attributes from your analysis are most important? Use proper methods discussed in class to evaluate the importance of different attributes. Discuss the results and hypothesize about why certain attributes are more important than others for a given classification task. <-- check bellow I added some but more needs to be added"
   ]
  },
  {
   "cell_type": "markdown",
   "id": "36ccc087",
   "metadata": {},
   "source": [
    "#### Choosing the best model:\n",
    "+ Highest Accuracy: Random Forest\n",
    "+ Highest Recall: Naive Bayes Bernoulli\n",
    "+ Highest Precision: SVM\n",
    "+ Highest F-Measure: Random Forest\n",
    "+ Highest AUC: Random Forest\n",
    "\n",
    "#### As we care the most about Precision, we will choose the Random Forest model for our analysis. We can also see that the Random Forest model also has  a higher F-measure and AUC.\n",
    "\n",
    "+ The most important variables found in Random forest were:\n",
    "\n",
    "fnlwgt, age, education, capital gain, married civ spouse, husband, capial loss\n",
    "    \n",
    "!!!!  we can elaborate:... and mention how, age, education, capital gain and marriage seem to be important common main variables in most models that we performed"
   ]
  },
  {
   "cell_type": "markdown",
   "id": "9d411f42",
   "metadata": {},
   "source": [
    "**Advantages and disadvantages has yet to be completed, however some web info has been added just need rewording and HAVE NO CLUE ON STATISTICAL COMPARISON part**"
   ]
  },
  {
   "cell_type": "markdown",
   "id": "1d53bf50",
   "metadata": {},
   "source": [
    "# Modeling and Evaluation: Part 6\n",
    "- ##### Discuss the advantages of each model for each classification task, if any. If there are not advantages, explain why. Is any model better than another? Is the difference significant with 95% confidence? Use proper statistical comparison methods."
   ]
  },
  {
   "cell_type": "markdown",
   "id": "5899c9c8",
   "metadata": {},
   "source": [
    "#### Naive Bayes:\n",
    "\n",
    "Pros: \n",
    "+ As long as the assumption of independence between predictors is true Naive Bayes will perform better than most any other model\n",
    "+ It requires a smaller amount of training data compared to other models to estimate the test data accurately.\n",
    "+ Naive Bayes is easy to implement\n",
    "\n",
    "Cons:\n",
    "+ The main limitation of Naive Bayes is when the assumption of independence for predictors is broken. In real life, very often we cannot get a set of predictors that are completely independent. \n",
    "+ It is possible to have a level of a categorical variable not represented in the training data but is represented in the test data. The model will not be able to make a prediction with this specific factor. It is important to make sure each of our factor levels are represented in the training and test data sets. "
   ]
  },
  {
   "cell_type": "markdown",
   "id": "3b33dea7",
   "metadata": {},
   "source": [
    "#### Decision tree:\n",
    "\n",
    "Pros:\n",
    "+ They do not need a lot of data pre-processing\n",
    "+ They do not require normalization or scaling of the data.\n",
    "+ They can handle missing values better than a lot of other models.\n",
    "+ Decision trees are intuitive and easy to explain to many different people with different backgrounds.\n",
    "\n",
    "Cons:\n",
    "+ Small changes in the data can cause large changes in the overall structer of the decision tree.\n",
    "+ Some decision trees can have very complex calculations compared to other algorithms.\n",
    "+ Training a decision tree model is often longer and more expensive especially when taking into account the complexity of the tree.\n",
    "+ We cannot apply regression and make predictions for continuous values using the decision tree algorithm."
   ]
  },
  {
   "cell_type": "markdown",
   "id": "8b30f1d9",
   "metadata": {},
   "source": [
    "#### Random Forest\n",
    "\n",
    "Pros:\n",
    "+ Random forest reduces overfitting often seen in decision trees to help to improve accuracy.\n",
    "+ It is flexible when applying to both classification and regression problems\n",
    "+ It performs well when working with both categorical and continuous values and automatically deals with missing values in the data.\n",
    "+ It does not require normalization of data because it uses a rule-based approach.\n",
    "\n",
    "Cons:\n",
    "+ It requires a lot of computational power and storage because it builds numerous trees to and combines their outputs. \n",
    "+ It also requires a lot of time for training due to the large number of trees it will build and combine.\n",
    "+ Sometimes it is difficult to interperate and we cannot determine the significance of each variable in the model. "
   ]
  },
  {
   "cell_type": "markdown",
   "id": "e41298c6",
   "metadata": {},
   "source": [
    "#### K-Nearest Neighbor (KNN)\n",
    "\n",
    "Pros:\n",
    "+ It can have quick calculation time\n",
    "+ It is a simple algorithm to interperate and explain\n",
    "+ KNN is versatile and can be used for regression and classification\n",
    "+ Highly accurate even when you compare with more closely supervised models. \n",
    "+ KNN does not make any assumptions about the data or need to tune parameters other than the value of K\n",
    "\n",
    "Cons:\n",
    "+ As with many models, the accuracy depends on the quality of the datat that is gathered\n",
    "+ Making predictions on large data can take a long time as every datapoint is used for each caluculation\n",
    "+ Scaling is very important in KNN. If data are not scaled the results will not be accurate.\n",
    "+ It is computationally intensive and also requires the use of a lot of memory to store the training data"
   ]
  },
  {
   "cell_type": "markdown",
   "id": "76f7c67b",
   "metadata": {},
   "source": [
    "#### Logistic Regression\n",
    "\n",
    "Pros:\n",
    "+ Easy to implement, interprete, and effecient to train.\n",
    "+ It can easliy be used on mupliple classes (multiple logisic regression).\n",
    "+ Provides predicition probabilities and a threshold that can be adjusted to make the model more accurate. \n",
    "+ It has high accuracy and perfomrs best when the data is able to be separated linearly. \n",
    "+ Coefficients are easy to interperate to asses their importance in the model\n",
    "+ Less likely to overfit but we need to be careful when using high dimensional datasets\n",
    "\n",
    "Cons:\n",
    "+ A main limitation of logistic regression is the assumption of linearity between the explanitory variables and the response varaibles. It wants to consructs a linear boundary and sometimes that does not fit our data well\n",
    "+ Specifically, logistic regression has the assumption that the independent variables are linearly related to the log odds.\n",
    "+ It is only used to predict discrete outputs. Our response is normally binary or at least has a limited number of possible outcomes.\n",
    "+ An assumption that often times has a hard time holding up in the real world is that there is no multicolinearity between the independent variables.\n",
    "+ It can be difficult to understand complex relationships and often neural networks can easily outperform this model"
   ]
  },
  {
   "cell_type": "markdown",
   "id": "dd3651ec",
   "metadata": {},
   "source": [
    "#### SVM\n",
    "\n",
    "Pros:\n",
    "+ It gives a clear visualization of the separation between data points with a well defined margin of separation. \n",
    "+ SVM is very effecient when working in high dimensional spaces even if they are difficult to visualize.\n",
    "+ It uses memory effeciently because it only uses a subset of the training points in the decision function (the support vectors)\n",
    "\n",
    "Cons:\n",
    "+ It struggles computationally when working with large data because it has a longer training time\n",
    "+ It is susceptable to a lot of noise and outliers can drastically change the support vectors.\n",
    "+ It does not provide probability estimates on its own but they can be obtained using cross validation."
   ]
  },
  {
   "cell_type": "markdown",
   "id": "ae9ebfd8",
   "metadata": {},
   "source": [
    "**Deployment has yet to be completed**"
   ]
  },
  {
   "cell_type": "markdown",
   "id": "48f8666b",
   "metadata": {},
   "source": [
    "# Deployment\n",
    "- ##### How useful is your model for interested parties (i.e., the companies or organizations that might want to use it for prediction)? How would you measure the model's value if it was used by these parties? How would your deploy your model for interested parties? What other data should be collected? How often would the model need to be updated, etc.? \n",
    "\n",
    "Our model would be very helpful for kids growing up in the world today and could be used by teachers to educate their students on the factors that help you make more money in today's society. It is important to know which factors you cannot change that are working against you in our society so you can focus on factors that you can change to give yourself a better life. As our model focuses on precision, we care the most about which positive results (people making >50K) are actually positive. So by this definition, we will focus on factors that really are making someone make >50K. This kind of model would be perfect for schools to be able to educate their kids so they can make life choices that will benefit themselves the most in the future.\n",
    "\n",
    "We could measure the value of this model by taking sensus data for kids that were both exposed to this information and not exposed to this information. After a specified amount of time we could see how many from each groups are making >50K. Out of those making >50K, how many fall in categoreies that have factors that are working against them in society and have they been able to break away from those trends.\n",
    "\n",
    "We could collect more data on different age distribution, years of work experience and work status (contractor versus salary). This might give us more insights and improve the model. \n",
    "\n",
    "This model would need to be updated due to population drift from age, gender and societal distribution. However, it could wait 5 to 10 years because many jobs that are lucrative do not change very much over time. Also politics does not change very quickly so any societal issues that are making it difficult for certain groups of people to make >50K would not change very quickly. If there are any world events like a war or a pandemic then the model would have to be retrained sooner.\n",
    "\n",
    "\n"
   ]
  },
  {
   "cell_type": "code",
   "execution_count": null,
   "id": "15bb4097",
   "metadata": {},
   "outputs": [],
   "source": []
  },
  {
   "cell_type": "code",
   "execution_count": null,
   "id": "de76991a",
   "metadata": {},
   "outputs": [],
   "source": []
  }
 ],
 "metadata": {
  "kernelspec": {
   "display_name": "smuenv",
   "language": "python",
   "name": "smuenv"
  },
  "language_info": {
   "codemirror_mode": {
    "name": "ipython",
    "version": 3
   },
   "file_extension": ".py",
   "mimetype": "text/x-python",
   "name": "python",
   "nbconvert_exporter": "python",
   "pygments_lexer": "ipython3",
   "version": "3.7.13"
  }
 },
 "nbformat": 4,
 "nbformat_minor": 5
}

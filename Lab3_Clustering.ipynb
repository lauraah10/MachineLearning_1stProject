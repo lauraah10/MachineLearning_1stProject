{
 "cells": [
  {
   "cell_type": "markdown",
   "id": "3f59a227",
   "metadata": {},
   "source": [
    "# Lab Three: Association Rule Mining, Clustering, or Collaborative Filtering\n",
    "### Laura Ahumada, Kevin Boyd, Shikha Pandey, Duy Nguyen\n",
    "##### Southern Methodist University\n",
    "##### Fall, 2022"
   ]
  },
  {
   "cell_type": "code",
   "execution_count": 1,
   "id": "f6e3ad30",
   "metadata": {},
   "outputs": [],
   "source": [
    "import pandas as pd\n",
    "import seaborn as sns\n",
    "import numpy as np"
   ]
  },
  {
   "cell_type": "markdown",
   "id": "4527195b",
   "metadata": {},
   "source": [
    "#Reading the files\n",
    "df_movies = pd.read_csv('movies.csv')\n",
    "df_ratings = pd.read_csv('ratings.csv')\n",
    "df_links = pd.read_csv('links.csv')\n",
    "df_tags = pd.read_csv('tags.csv')"
   ]
  },
  {
   "cell_type": "markdown",
   "id": "0ce13154",
   "metadata": {},
   "source": [
    "#Merging the Dataset\n",
    "df_merge1=df_movies.merge(df_ratings,how=\"outer\",on=\"movieId\")\n",
    "df_final=df_merge1.merge(df_links,how=\"outer\",on=\"movieId\")\n",
    "df_final.groupby(\"movieId\").mean(\"rating\")"
   ]
  },
  {
   "cell_type": "code",
   "execution_count": 45,
   "id": "bec0b472",
   "metadata": {},
   "outputs": [
    {
     "data": {
      "text/plain": [
       "{'(no genres listed)',\n",
       " 'Action',\n",
       " 'Adventure',\n",
       " 'Animation',\n",
       " 'Children',\n",
       " 'Comedy',\n",
       " 'Crime',\n",
       " 'Documentary',\n",
       " 'Drama',\n",
       " 'Fantasy',\n",
       " 'Film-Noir',\n",
       " 'Horror',\n",
       " 'IMAX',\n",
       " 'Musical',\n",
       " 'Mystery',\n",
       " 'Romance',\n",
       " 'Sci-Fi',\n",
       " 'Thriller',\n",
       " 'War',\n",
       " 'Western'}"
      ]
     },
     "execution_count": 45,
     "metadata": {},
     "output_type": "execute_result"
    }
   ],
   "source": [
    "all_=[]\n",
    "for i in df_final[\"genres\"]:\n",
    "    l=(i.split(\"|\"))\n",
    "    for j in l:\n",
    "        all_.append(j)\n",
    "set(all_)"
   ]
  },
  {
   "cell_type": "code",
   "execution_count": null,
   "id": "dc824d13",
   "metadata": {},
   "outputs": [],
   "source": [
    "df_final.to_csv(\"movies_final.csv\")"
   ]
  },
  {
   "cell_type": "code",
   "execution_count": 2,
   "id": "79eebca2",
   "metadata": {},
   "outputs": [],
   "source": [
    "movies_final = pd.read_csv('movies_final.csv')"
   ]
  }
 ],
 "metadata": {
  "kernelspec": {
   "display_name": "Python 3",
   "language": "python",
   "name": "python3"
  },
  "language_info": {
   "codemirror_mode": {
    "name": "ipython",
    "version": 3
   },
   "file_extension": ".py",
   "mimetype": "text/x-python",
   "name": "python",
   "nbconvert_exporter": "python",
   "pygments_lexer": "ipython3",
   "version": "3.9.0"
  }
 },
 "nbformat": 4,
 "nbformat_minor": 5
}
